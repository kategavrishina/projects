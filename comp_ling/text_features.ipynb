{
  "nbformat": 4,
  "nbformat_minor": 0,
  "metadata": {
    "colab": {
      "name": "hw_01.ipynb",
      "provenance": [],
      "collapsed_sections": []
    },
    "kernelspec": {
      "name": "python3",
      "display_name": "Python 3"
    }
  },
  "cells": [
    {
      "cell_type": "markdown",
      "metadata": {
        "id": "nzfD_Wk1ZN6L"
      },
      "source": [
        "### **Dataset of depressive posts in Russian language collected from social media** [(paper)](https://www.sciencedirect.com/science/article/pii/S2352340920300895)\n",
        "\n",
        "Скачать датасет в формате .tsv можно [здесь](https://yadi.sk/d/G5rq-R3AK8SOuw).\n"
      ]
    },
    {
      "cell_type": "code",
      "metadata": {
        "id": "P6KCBKgb2kTe",
        "colab": {
          "base_uri": "https://localhost:8080/",
          "height": 35
        },
        "outputId": "535aad91-49d8-4db3-ebb9-57d09b0dd628"
      },
      "source": [
        "from google.colab import drive\n",
        "drive.mount('gdrive')"
      ],
      "execution_count": null,
      "outputs": [
        {
          "output_type": "stream",
          "text": [
            "Drive already mounted at gdrive; to attempt to forcibly remount, call drive.mount(\"gdrive\", force_remount=True).\n"
          ],
          "name": "stdout"
        }
      ]
    },
    {
      "cell_type": "code",
      "metadata": {
        "id": "Z26503P62nbx",
        "colab": {
          "base_uri": "https://localhost:8080/",
          "height": 35
        },
        "outputId": "8578abb9-4c8b-4f94-bbbd-a5c9544094e4"
      },
      "source": [
        "%cd /content/gdrive/My Drive"
      ],
      "execution_count": null,
      "outputs": [
        {
          "output_type": "stream",
          "text": [
            "/content/gdrive/My Drive\n"
          ],
          "name": "stdout"
        }
      ]
    },
    {
      "cell_type": "code",
      "metadata": {
        "id": "ctkqJrF52x5p",
        "colab": {
          "base_uri": "https://localhost:8080/",
          "height": 70
        },
        "outputId": "19f8d56f-77eb-48dc-8fe8-22dbb1b4229c"
      },
      "source": [
        "!ls"
      ],
      "execution_count": null,
      "outputs": [
        {
          "output_type": "stream",
          "text": [
            " depression_data.tsv\n",
            " Tout_va_bien_1_livre_de_l_eleve.pdf\n",
            "'Слайд-шоу PowerPoint  -  Сов. и несов. вид 21.02.2019 13_36_56.mp4'\n"
          ],
          "name": "stdout"
        }
      ]
    },
    {
      "cell_type": "code",
      "metadata": {
        "id": "4TYrzUKS25PG",
        "colab": {
          "base_uri": "https://localhost:8080/",
          "height": 194
        },
        "outputId": "a37eec8f-d8ab-4153-df24-a94cfe77a989"
      },
      "source": [
        "import pandas as pd\n",
        "\n",
        "df = pd.read_csv(\"depression_data.tsv\", sep=\"\\t\")\n",
        "df.head()"
      ],
      "execution_count": null,
      "outputs": [
        {
          "output_type": "execute_result",
          "data": {
            "text/html": [
              "<div>\n",
              "<style scoped>\n",
              "    .dataframe tbody tr th:only-of-type {\n",
              "        vertical-align: middle;\n",
              "    }\n",
              "\n",
              "    .dataframe tbody tr th {\n",
              "        vertical-align: top;\n",
              "    }\n",
              "\n",
              "    .dataframe thead th {\n",
              "        text-align: right;\n",
              "    }\n",
              "</style>\n",
              "<table border=\"1\" class=\"dataframe\">\n",
              "  <thead>\n",
              "    <tr style=\"text-align: right;\">\n",
              "      <th></th>\n",
              "      <th>text</th>\n",
              "      <th>label</th>\n",
              "      <th>age</th>\n",
              "    </tr>\n",
              "  </thead>\n",
              "  <tbody>\n",
              "    <tr>\n",
              "      <th>0</th>\n",
              "      <td>Когда-то я был добрым романтиком, который стре...</td>\n",
              "      <td>1</td>\n",
              "      <td>32.0</td>\n",
              "    </tr>\n",
              "    <tr>\n",
              "      <th>1</th>\n",
              "      <td>Здраствуйте! Я каждый день просыпаюсь с мыслью...</td>\n",
              "      <td>1</td>\n",
              "      <td>28.0</td>\n",
              "    </tr>\n",
              "    <tr>\n",
              "      <th>2</th>\n",
              "      <td>У меня проблемы с девушкой. Каждую ссору я не ...</td>\n",
              "      <td>1</td>\n",
              "      <td>16.0</td>\n",
              "    </tr>\n",
              "    <tr>\n",
              "      <th>3</th>\n",
              "      <td>Вся моя жизнь это один сплошной ад, в котором ...</td>\n",
              "      <td>1</td>\n",
              "      <td>32.0</td>\n",
              "    </tr>\n",
              "    <tr>\n",
              "      <th>4</th>\n",
              "      <td>Я хочу уснуть и не проснуться.каждый день одно...</td>\n",
              "      <td>1</td>\n",
              "      <td>14.0</td>\n",
              "    </tr>\n",
              "  </tbody>\n",
              "</table>\n",
              "</div>"
            ],
            "text/plain": [
              "                                                text  label   age\n",
              "0  Когда-то я был добрым романтиком, который стре...      1  32.0\n",
              "1  Здраствуйте! Я каждый день просыпаюсь с мыслью...      1  28.0\n",
              "2  У меня проблемы с девушкой. Каждую ссору я не ...      1  16.0\n",
              "3  Вся моя жизнь это один сплошной ад, в котором ...      1  32.0\n",
              "4  Я хочу уснуть и не проснуться.каждый день одно...      1  14.0"
            ]
          },
          "metadata": {
            "tags": []
          },
          "execution_count": 67
        }
      ]
    },
    {
      "cell_type": "markdown",
      "metadata": {
        "id": "jgwa7XyGfuCI"
      },
      "source": [
        "### Часть 1: Простая статистика\n"
      ]
    },
    {
      "cell_type": "markdown",
      "metadata": {
        "id": "YP1iOWbjh2zw"
      },
      "source": [
        "Зачастую в данных, с которыми вы работаете, может быть много неприятных для обработки вещей. Например, мы видим, что в колонке ```age``` очень грязные значения."
      ]
    },
    {
      "cell_type": "code",
      "metadata": {
        "id": "uDW6JMhwZuS8",
        "colab": {
          "base_uri": "https://localhost:8080/",
          "height": 230
        },
        "outputId": "00ec3cd3-ccbf-42a0-bd18-e73f15b00c96"
      },
      "source": [
        "df[\"age\"].value_counts()"
      ],
      "execution_count": null,
      "outputs": [
        {
          "output_type": "execute_result",
          "data": {
            "text/plain": [
              "16.0      1823\n",
              "17.0      1811\n",
              "18.0      1661\n",
              "15.0      1582\n",
              "20.0      1543\n",
              "          ... \n",
              "116.0        1\n",
              "295.0        1\n",
              "2425.0       1\n",
              "92.0         1\n",
              "830.0        1\n",
              "Name: age, Length: 128, dtype: int64"
            ]
          },
          "metadata": {
            "tags": []
          },
          "execution_count": 68
        }
      ]
    },
    {
      "cell_type": "markdown",
      "metadata": {
        "id": "5SqrBy6iloMd"
      },
      "source": [
        "1. Найдите среднее значение возраста в диапазоне от 14 до 50 лет включительно."
      ]
    },
    {
      "cell_type": "code",
      "metadata": {
        "id": "6AbzQhkakRfc",
        "colab": {
          "base_uri": "https://localhost:8080/",
          "height": 35
        },
        "outputId": "188062f8-71f5-4895-cd7c-3789e22dde88"
      },
      "source": [
        "# your code and output here\n",
        "df.loc[(df['age'] >= 14) & (df['age'] <= 50)]['age'].mean()"
      ],
      "execution_count": null,
      "outputs": [
        {
          "output_type": "execute_result",
          "data": {
            "text/plain": [
              "22.704171601526518"
            ]
          },
          "metadata": {
            "tags": []
          },
          "execution_count": 69
        }
      ]
    },
    {
      "cell_type": "markdown",
      "metadata": {
        "id": "Pw5gpMkDk4R6"
      },
      "source": [
        "2. Какую долю 16-летние авторы составляют в диапазоне от 16 до 26 лет включительно?"
      ]
    },
    {
      "cell_type": "code",
      "metadata": {
        "id": "qXejPDLZj3eX",
        "colab": {
          "base_uri": "https://localhost:8080/",
          "height": 35
        },
        "outputId": "af85f6fd-6d96-416a-fc4a-81d74efc4054"
      },
      "source": [
        "# your code and output here\n",
        "len(df.loc[df['age'] == 16]) / len(df.loc[(df['age'] >= 16) & (df['age'] <= 26)])"
      ],
      "execution_count": null,
      "outputs": [
        {
          "output_type": "execute_result",
          "data": {
            "text/plain": [
              "0.1259412780656304"
            ]
          },
          "metadata": {
            "tags": []
          },
          "execution_count": 70
        }
      ]
    },
    {
      "cell_type": "markdown",
      "metadata": {
        "id": "vGinA-Swjvlc"
      },
      "source": [
        "3. Сколько в датасете текстов, авторам которых 28 или 30 лет?"
      ]
    },
    {
      "cell_type": "code",
      "metadata": {
        "id": "QNz0sLmjYLxr",
        "colab": {
          "base_uri": "https://localhost:8080/",
          "height": 35
        },
        "outputId": "a48420b9-ef1f-4279-ac0e-7daf2f4a6ee1"
      },
      "source": [
        "# your code and output here\n",
        "len(df.loc[(df['age'] == 28) | (df['age'] == 30)])"
      ],
      "execution_count": null,
      "outputs": [
        {
          "output_type": "execute_result",
          "data": {
            "text/plain": [
              "1185"
            ]
          },
          "metadata": {
            "tags": []
          },
          "execution_count": 71
        }
      ]
    },
    {
      "cell_type": "markdown",
      "metadata": {
        "id": "WIiciL_BnJzl"
      },
      "source": [
        "4. С помощью одной встроенной в ```pandas``` функции отобразите всю статистику по колонке ```age``` в диапазоне от 18 до 30 лет включительно."
      ]
    },
    {
      "cell_type": "code",
      "metadata": {
        "id": "q2cC4Sxanka6",
        "colab": {
          "base_uri": "https://localhost:8080/",
          "height": 282
        },
        "outputId": "f6c956b6-ec31-4023-e602-7d14641091f7"
      },
      "source": [
        "# your code and output here\n",
        "df.loc[(df['age'] >= 18) & (df['age'] <= 30)].describe()"
      ],
      "execution_count": null,
      "outputs": [
        {
          "output_type": "execute_result",
          "data": {
            "text/html": [
              "<div>\n",
              "<style scoped>\n",
              "    .dataframe tbody tr th:only-of-type {\n",
              "        vertical-align: middle;\n",
              "    }\n",
              "\n",
              "    .dataframe tbody tr th {\n",
              "        vertical-align: top;\n",
              "    }\n",
              "\n",
              "    .dataframe thead th {\n",
              "        text-align: right;\n",
              "    }\n",
              "</style>\n",
              "<table border=\"1\" class=\"dataframe\">\n",
              "  <thead>\n",
              "    <tr style=\"text-align: right;\">\n",
              "      <th></th>\n",
              "      <th>label</th>\n",
              "      <th>age</th>\n",
              "    </tr>\n",
              "  </thead>\n",
              "  <tbody>\n",
              "    <tr>\n",
              "      <th>count</th>\n",
              "      <td>13205.0</td>\n",
              "      <td>13205.000000</td>\n",
              "    </tr>\n",
              "    <tr>\n",
              "      <th>mean</th>\n",
              "      <td>1.0</td>\n",
              "      <td>22.676638</td>\n",
              "    </tr>\n",
              "    <tr>\n",
              "      <th>std</th>\n",
              "      <td>0.0</td>\n",
              "      <td>3.550254</td>\n",
              "    </tr>\n",
              "    <tr>\n",
              "      <th>min</th>\n",
              "      <td>1.0</td>\n",
              "      <td>18.000000</td>\n",
              "    </tr>\n",
              "    <tr>\n",
              "      <th>25%</th>\n",
              "      <td>1.0</td>\n",
              "      <td>20.000000</td>\n",
              "    </tr>\n",
              "    <tr>\n",
              "      <th>50%</th>\n",
              "      <td>1.0</td>\n",
              "      <td>22.000000</td>\n",
              "    </tr>\n",
              "    <tr>\n",
              "      <th>75%</th>\n",
              "      <td>1.0</td>\n",
              "      <td>25.000000</td>\n",
              "    </tr>\n",
              "    <tr>\n",
              "      <th>max</th>\n",
              "      <td>1.0</td>\n",
              "      <td>30.000000</td>\n",
              "    </tr>\n",
              "  </tbody>\n",
              "</table>\n",
              "</div>"
            ],
            "text/plain": [
              "         label           age\n",
              "count  13205.0  13205.000000\n",
              "mean       1.0     22.676638\n",
              "std        0.0      3.550254\n",
              "min        1.0     18.000000\n",
              "25%        1.0     20.000000\n",
              "50%        1.0     22.000000\n",
              "75%        1.0     25.000000\n",
              "max        1.0     30.000000"
            ]
          },
          "metadata": {
            "tags": []
          },
          "execution_count": 72
        }
      ]
    },
    {
      "cell_type": "markdown",
      "metadata": {
        "id": "CT99FXGjoGs1"
      },
      "source": [
        "5. Сколько в датасете положительных / отрицательных примеров?"
      ]
    },
    {
      "cell_type": "code",
      "metadata": {
        "id": "j-nelLWJoMpT",
        "colab": {
          "base_uri": "https://localhost:8080/",
          "height": 52
        },
        "outputId": "22dfd818-d58a-464a-d900-89822a97bbeb"
      },
      "source": [
        "# your code and output here\n",
        "print('Положительных:', len(df.loc[df['label'] == 1]))\n",
        "print('Отрицательных:', len(df.loc[df['label'] == 0]))"
      ],
      "execution_count": null,
      "outputs": [
        {
          "output_type": "stream",
          "text": [
            "Положительных: 32018\n",
            "Отрицательных: 32021\n"
          ],
          "name": "stdout"
        }
      ]
    },
    {
      "cell_type": "markdown",
      "metadata": {
        "id": "QHldQF5FoAyB"
      },
      "source": [
        "### Часть 2: Предобработка"
      ]
    },
    {
      "cell_type": "markdown",
      "metadata": {
        "id": "Mc1d4G-q671X"
      },
      "source": [
        "1. Посчитайте количество предложений в каждом тексте. Сохраните эти значения в отдельной колонке датафрейма."
      ]
    },
    {
      "cell_type": "code",
      "metadata": {
        "id": "lCFTGlLl9fnV",
        "colab": {
          "base_uri": "https://localhost:8080/",
          "height": 35
        },
        "outputId": "9078bef6-3f1d-41d2-f754-a9a7501bd829"
      },
      "source": [
        "! pip install razdel"
      ],
      "execution_count": null,
      "outputs": [
        {
          "output_type": "stream",
          "text": [
            "Requirement already satisfied: razdel in /usr/local/lib/python3.6/dist-packages (0.5.0)\n"
          ],
          "name": "stdout"
        }
      ]
    },
    {
      "cell_type": "code",
      "metadata": {
        "id": "HTni9dHd-NMz"
      },
      "source": [
        "# your code and output here\n",
        "from razdel import sentenize, tokenize\n",
        "\n",
        "def get_num_sentences(text):\n",
        "    segmented_sentences = sentenize(text)\n",
        "    num_sentences = len(list(segmented_sentences))\n",
        "    return num_sentences\n",
        "\n",
        "df['num_sents'] = df['text'].apply(get_num_sentences)"
      ],
      "execution_count": null,
      "outputs": []
    },
    {
      "cell_type": "code",
      "metadata": {
        "id": "cOk6qa7p-lpR",
        "colab": {
          "base_uri": "https://localhost:8080/",
          "height": 194
        },
        "outputId": "29ed9f7e-8c45-4799-dbc1-d568ecba95c5"
      },
      "source": [
        "df.head()"
      ],
      "execution_count": null,
      "outputs": [
        {
          "output_type": "execute_result",
          "data": {
            "text/html": [
              "<div>\n",
              "<style scoped>\n",
              "    .dataframe tbody tr th:only-of-type {\n",
              "        vertical-align: middle;\n",
              "    }\n",
              "\n",
              "    .dataframe tbody tr th {\n",
              "        vertical-align: top;\n",
              "    }\n",
              "\n",
              "    .dataframe thead th {\n",
              "        text-align: right;\n",
              "    }\n",
              "</style>\n",
              "<table border=\"1\" class=\"dataframe\">\n",
              "  <thead>\n",
              "    <tr style=\"text-align: right;\">\n",
              "      <th></th>\n",
              "      <th>text</th>\n",
              "      <th>label</th>\n",
              "      <th>age</th>\n",
              "      <th>num_sents</th>\n",
              "    </tr>\n",
              "  </thead>\n",
              "  <tbody>\n",
              "    <tr>\n",
              "      <th>0</th>\n",
              "      <td>Когда-то я был добрым романтиком, который стре...</td>\n",
              "      <td>1</td>\n",
              "      <td>32.0</td>\n",
              "      <td>15</td>\n",
              "    </tr>\n",
              "    <tr>\n",
              "      <th>1</th>\n",
              "      <td>Здраствуйте! Я каждый день просыпаюсь с мыслью...</td>\n",
              "      <td>1</td>\n",
              "      <td>28.0</td>\n",
              "      <td>6</td>\n",
              "    </tr>\n",
              "    <tr>\n",
              "      <th>2</th>\n",
              "      <td>У меня проблемы с девушкой. Каждую ссору я не ...</td>\n",
              "      <td>1</td>\n",
              "      <td>16.0</td>\n",
              "      <td>10</td>\n",
              "    </tr>\n",
              "    <tr>\n",
              "      <th>3</th>\n",
              "      <td>Вся моя жизнь это один сплошной ад, в котором ...</td>\n",
              "      <td>1</td>\n",
              "      <td>32.0</td>\n",
              "      <td>5</td>\n",
              "    </tr>\n",
              "    <tr>\n",
              "      <th>4</th>\n",
              "      <td>Я хочу уснуть и не проснуться.каждый день одно...</td>\n",
              "      <td>1</td>\n",
              "      <td>14.0</td>\n",
              "      <td>18</td>\n",
              "    </tr>\n",
              "  </tbody>\n",
              "</table>\n",
              "</div>"
            ],
            "text/plain": [
              "                                                text  label   age  num_sents\n",
              "0  Когда-то я был добрым романтиком, который стре...      1  32.0         15\n",
              "1  Здраствуйте! Я каждый день просыпаюсь с мыслью...      1  28.0          6\n",
              "2  У меня проблемы с девушкой. Каждую ссору я не ...      1  16.0         10\n",
              "3  Вся моя жизнь это один сплошной ад, в котором ...      1  32.0          5\n",
              "4  Я хочу уснуть и не проснуться.каждый день одно...      1  14.0         18"
            ]
          },
          "metadata": {
            "tags": []
          },
          "execution_count": 76
        }
      ]
    },
    {
      "cell_type": "markdown",
      "metadata": {
        "id": "NX7FxEafFTiy"
      },
      "source": [
        "2. Напишите функцию для токенизации текста. Удалите стоп-слова."
      ]
    },
    {
      "cell_type": "code",
      "metadata": {
        "id": "C-UesC-jAlmD",
        "colab": {
          "base_uri": "https://localhost:8080/",
          "height": 70
        },
        "outputId": "8d16b911-c9f9-49c9-bead-c29997f484e7"
      },
      "source": [
        "import nltk\n",
        "nltk.download('stopwords')"
      ],
      "execution_count": null,
      "outputs": [
        {
          "output_type": "stream",
          "text": [
            "[nltk_data] Downloading package stopwords to /root/nltk_data...\n",
            "[nltk_data]   Package stopwords is already up-to-date!\n"
          ],
          "name": "stdout"
        },
        {
          "output_type": "execute_result",
          "data": {
            "text/plain": [
              "True"
            ]
          },
          "metadata": {
            "tags": []
          },
          "execution_count": 77
        }
      ]
    },
    {
      "cell_type": "code",
      "metadata": {
        "id": "Y1S782xBFlIi"
      },
      "source": [
        "# your code and output here\n",
        "from nltk.corpus import stopwords\n",
        "from string import punctuation\n",
        "\n",
        "russian_stopwords = stopwords.words(\"russian\")\n",
        "\n",
        "def tokenize_text(text):\n",
        "    tokens = tokenize(text.lower())\n",
        "    result = [token.text for token in tokens \n",
        "              if token.text not in russian_stopwords\n",
        "              and token.text not in punctuation + '«»—–...']\n",
        "                \n",
        "    return result"
      ],
      "execution_count": null,
      "outputs": []
    },
    {
      "cell_type": "markdown",
      "metadata": {
        "id": "HVq8if4s8q_1"
      },
      "source": [
        "3. Посчитайте количество токенов в тексте (без стоп-слов). Найдите среднее этих значений как по всей выборке, так и внутри каждого класса. "
      ]
    },
    {
      "cell_type": "code",
      "metadata": {
        "id": "rP8_BV3I-RPE"
      },
      "source": [
        "# your code and output here\n",
        "def get_tokens(text):\n",
        "    tokens = tokenize_text(text)\n",
        "    return tokens"
      ],
      "execution_count": null,
      "outputs": []
    },
    {
      "cell_type": "code",
      "metadata": {
        "id": "TmhJyCHOGbQ0"
      },
      "source": [
        "df['tokens'] = df['text'].apply(get_tokens)"
      ],
      "execution_count": null,
      "outputs": []
    },
    {
      "cell_type": "code",
      "metadata": {
        "id": "Xn3O1YcmG7Qv",
        "colab": {
          "base_uri": "https://localhost:8080/",
          "height": 194
        },
        "outputId": "34e63be8-9b09-4d92-ef97-f55a7a64a945"
      },
      "source": [
        "df.head()"
      ],
      "execution_count": null,
      "outputs": [
        {
          "output_type": "execute_result",
          "data": {
            "text/html": [
              "<div>\n",
              "<style scoped>\n",
              "    .dataframe tbody tr th:only-of-type {\n",
              "        vertical-align: middle;\n",
              "    }\n",
              "\n",
              "    .dataframe tbody tr th {\n",
              "        vertical-align: top;\n",
              "    }\n",
              "\n",
              "    .dataframe thead th {\n",
              "        text-align: right;\n",
              "    }\n",
              "</style>\n",
              "<table border=\"1\" class=\"dataframe\">\n",
              "  <thead>\n",
              "    <tr style=\"text-align: right;\">\n",
              "      <th></th>\n",
              "      <th>text</th>\n",
              "      <th>label</th>\n",
              "      <th>age</th>\n",
              "      <th>num_sents</th>\n",
              "      <th>tokens</th>\n",
              "    </tr>\n",
              "  </thead>\n",
              "  <tbody>\n",
              "    <tr>\n",
              "      <th>0</th>\n",
              "      <td>Когда-то я был добрым романтиком, который стре...</td>\n",
              "      <td>1</td>\n",
              "      <td>32.0</td>\n",
              "      <td>15</td>\n",
              "      <td>[когда-то, добрым, романтиком, который, стреми...</td>\n",
              "    </tr>\n",
              "    <tr>\n",
              "      <th>1</th>\n",
              "      <td>Здраствуйте! Я каждый день просыпаюсь с мыслью...</td>\n",
              "      <td>1</td>\n",
              "      <td>28.0</td>\n",
              "      <td>6</td>\n",
              "      <td>[здраствуйте, каждый, день, просыпаюсь, мыслью...</td>\n",
              "    </tr>\n",
              "    <tr>\n",
              "      <th>2</th>\n",
              "      <td>У меня проблемы с девушкой. Каждую ссору я не ...</td>\n",
              "      <td>1</td>\n",
              "      <td>16.0</td>\n",
              "      <td>10</td>\n",
              "      <td>[проблемы, девушкой, каждую, ссору, могу, пере...</td>\n",
              "    </tr>\n",
              "    <tr>\n",
              "      <th>3</th>\n",
              "      <td>Вся моя жизнь это один сплошной ад, в котором ...</td>\n",
              "      <td>1</td>\n",
              "      <td>32.0</td>\n",
              "      <td>5</td>\n",
              "      <td>[вся, жизнь, это, сплошной, ад, котором, горю,...</td>\n",
              "    </tr>\n",
              "    <tr>\n",
              "      <th>4</th>\n",
              "      <td>Я хочу уснуть и не проснуться.каждый день одно...</td>\n",
              "      <td>1</td>\n",
              "      <td>14.0</td>\n",
              "      <td>18</td>\n",
              "      <td>[хочу, уснуть, проснуться, каждый, день, одно,...</td>\n",
              "    </tr>\n",
              "  </tbody>\n",
              "</table>\n",
              "</div>"
            ],
            "text/plain": [
              "                                                text  ...                                             tokens\n",
              "0  Когда-то я был добрым романтиком, который стре...  ...  [когда-то, добрым, романтиком, который, стреми...\n",
              "1  Здраствуйте! Я каждый день просыпаюсь с мыслью...  ...  [здраствуйте, каждый, день, просыпаюсь, мыслью...\n",
              "2  У меня проблемы с девушкой. Каждую ссору я не ...  ...  [проблемы, девушкой, каждую, ссору, могу, пере...\n",
              "3  Вся моя жизнь это один сплошной ад, в котором ...  ...  [вся, жизнь, это, сплошной, ад, котором, горю,...\n",
              "4  Я хочу уснуть и не проснуться.каждый день одно...  ...  [хочу, уснуть, проснуться, каждый, день, одно,...\n",
              "\n",
              "[5 rows x 5 columns]"
            ]
          },
          "metadata": {
            "tags": []
          },
          "execution_count": 81
        }
      ]
    },
    {
      "cell_type": "code",
      "metadata": {
        "id": "VtZ275KVNNIV"
      },
      "source": [
        "df['num_tokens'] = df['tokens'].apply(lambda x: len(list(x)))"
      ],
      "execution_count": null,
      "outputs": []
    },
    {
      "cell_type": "code",
      "metadata": {
        "id": "N7kJeMcRNoBg",
        "colab": {
          "base_uri": "https://localhost:8080/",
          "height": 194
        },
        "outputId": "598b73e4-a9f0-43d8-8c6f-536f01ba187c"
      },
      "source": [
        "df.head()"
      ],
      "execution_count": null,
      "outputs": [
        {
          "output_type": "execute_result",
          "data": {
            "text/html": [
              "<div>\n",
              "<style scoped>\n",
              "    .dataframe tbody tr th:only-of-type {\n",
              "        vertical-align: middle;\n",
              "    }\n",
              "\n",
              "    .dataframe tbody tr th {\n",
              "        vertical-align: top;\n",
              "    }\n",
              "\n",
              "    .dataframe thead th {\n",
              "        text-align: right;\n",
              "    }\n",
              "</style>\n",
              "<table border=\"1\" class=\"dataframe\">\n",
              "  <thead>\n",
              "    <tr style=\"text-align: right;\">\n",
              "      <th></th>\n",
              "      <th>text</th>\n",
              "      <th>label</th>\n",
              "      <th>age</th>\n",
              "      <th>num_sents</th>\n",
              "      <th>tokens</th>\n",
              "      <th>num_tokens</th>\n",
              "    </tr>\n",
              "  </thead>\n",
              "  <tbody>\n",
              "    <tr>\n",
              "      <th>0</th>\n",
              "      <td>Когда-то я был добрым романтиком, который стре...</td>\n",
              "      <td>1</td>\n",
              "      <td>32.0</td>\n",
              "      <td>15</td>\n",
              "      <td>[когда-то, добрым, романтиком, который, стреми...</td>\n",
              "      <td>157</td>\n",
              "    </tr>\n",
              "    <tr>\n",
              "      <th>1</th>\n",
              "      <td>Здраствуйте! Я каждый день просыпаюсь с мыслью...</td>\n",
              "      <td>1</td>\n",
              "      <td>28.0</td>\n",
              "      <td>6</td>\n",
              "      <td>[здраствуйте, каждый, день, просыпаюсь, мыслью...</td>\n",
              "      <td>64</td>\n",
              "    </tr>\n",
              "    <tr>\n",
              "      <th>2</th>\n",
              "      <td>У меня проблемы с девушкой. Каждую ссору я не ...</td>\n",
              "      <td>1</td>\n",
              "      <td>16.0</td>\n",
              "      <td>10</td>\n",
              "      <td>[проблемы, девушкой, каждую, ссору, могу, пере...</td>\n",
              "      <td>43</td>\n",
              "    </tr>\n",
              "    <tr>\n",
              "      <th>3</th>\n",
              "      <td>Вся моя жизнь это один сплошной ад, в котором ...</td>\n",
              "      <td>1</td>\n",
              "      <td>32.0</td>\n",
              "      <td>5</td>\n",
              "      <td>[вся, жизнь, это, сплошной, ад, котором, горю,...</td>\n",
              "      <td>25</td>\n",
              "    </tr>\n",
              "    <tr>\n",
              "      <th>4</th>\n",
              "      <td>Я хочу уснуть и не проснуться.каждый день одно...</td>\n",
              "      <td>1</td>\n",
              "      <td>14.0</td>\n",
              "      <td>18</td>\n",
              "      <td>[хочу, уснуть, проснуться, каждый, день, одно,...</td>\n",
              "      <td>199</td>\n",
              "    </tr>\n",
              "  </tbody>\n",
              "</table>\n",
              "</div>"
            ],
            "text/plain": [
              "                                                text  ...  num_tokens\n",
              "0  Когда-то я был добрым романтиком, который стре...  ...         157\n",
              "1  Здраствуйте! Я каждый день просыпаюсь с мыслью...  ...          64\n",
              "2  У меня проблемы с девушкой. Каждую ссору я не ...  ...          43\n",
              "3  Вся моя жизнь это один сплошной ад, в котором ...  ...          25\n",
              "4  Я хочу уснуть и не проснуться.каждый день одно...  ...         199\n",
              "\n",
              "[5 rows x 6 columns]"
            ]
          },
          "metadata": {
            "tags": []
          },
          "execution_count": 84
        }
      ]
    },
    {
      "cell_type": "code",
      "metadata": {
        "id": "sZX_wPISHo-j",
        "colab": {
          "base_uri": "https://localhost:8080/",
          "height": 35
        },
        "outputId": "a97bdcb5-a72f-4551-b0d3-0097644fd400"
      },
      "source": [
        "df['num_tokens'].mean()"
      ],
      "execution_count": null,
      "outputs": [
        {
          "output_type": "execute_result",
          "data": {
            "text/plain": [
              "109.70428957354112"
            ]
          },
          "metadata": {
            "tags": []
          },
          "execution_count": 83
        }
      ]
    },
    {
      "cell_type": "code",
      "metadata": {
        "id": "rmfcjdqfIB8d",
        "colab": {
          "base_uri": "https://localhost:8080/",
          "height": 35
        },
        "outputId": "cc5b2982-0d1d-46f1-9d9e-e94a3b51cd7a"
      },
      "source": [
        "df[df['label'] == 0]['num_tokens'].mean()"
      ],
      "execution_count": null,
      "outputs": [
        {
          "output_type": "execute_result",
          "data": {
            "text/plain": [
              "148.15995752787234"
            ]
          },
          "metadata": {
            "tags": []
          },
          "execution_count": 85
        }
      ]
    },
    {
      "cell_type": "code",
      "metadata": {
        "id": "mUcB9O0EIKy1",
        "colab": {
          "base_uri": "https://localhost:8080/",
          "height": 35
        },
        "outputId": "9aff834d-0163-453f-b531-06a5e79f25e9"
      },
      "source": [
        "df[df['label'] == 1]['num_tokens'].mean()"
      ],
      "execution_count": null,
      "outputs": [
        {
          "output_type": "execute_result",
          "data": {
            "text/plain": [
              "71.24501842713474"
            ]
          },
          "metadata": {
            "tags": []
          },
          "execution_count": 86
        }
      ]
    },
    {
      "cell_type": "markdown",
      "metadata": {
        "id": "xXsyP9NHG-gO"
      },
      "source": [
        "4. Напишите функцию, которая переводит текст в последовательность лемм."
      ]
    },
    {
      "cell_type": "code",
      "metadata": {
        "id": "9Vfr3YGpQcm4",
        "colab": {
          "base_uri": "https://localhost:8080/",
          "height": 88
        },
        "outputId": "4898a073-e46a-4fcb-f21e-b7eb22d7bc11"
      },
      "source": [
        "! pip install pymorphy2"
      ],
      "execution_count": null,
      "outputs": [
        {
          "output_type": "stream",
          "text": [
            "Requirement already satisfied: pymorphy2 in /usr/local/lib/python3.6/dist-packages (0.9)\n",
            "Requirement already satisfied: docopt>=0.6 in /usr/local/lib/python3.6/dist-packages (from pymorphy2) (0.6.2)\n",
            "Requirement already satisfied: pymorphy2-dicts-ru<3.0,>=2.4 in /usr/local/lib/python3.6/dist-packages (from pymorphy2) (2.4.404381.4453942)\n",
            "Requirement already satisfied: dawg-python>=0.7.1 in /usr/local/lib/python3.6/dist-packages (from pymorphy2) (0.7.2)\n"
          ],
          "name": "stdout"
        }
      ]
    },
    {
      "cell_type": "code",
      "metadata": {
        "id": "b60PRQAQPoqJ"
      },
      "source": [
        "from pymorphy2 import MorphAnalyzer\n",
        "\n",
        "morph = MorphAnalyzer()"
      ],
      "execution_count": null,
      "outputs": []
    },
    {
      "cell_type": "code",
      "metadata": {
        "id": "n1o_Rh2iHDmH"
      },
      "source": [
        "# your code and output here\n",
        "def lemmatize_text(text):\n",
        "    lemmas = []\n",
        "    for word in tokenize_text(text):\n",
        "        lemmas.append(morph.parse(word)[0].normal_form)\n",
        "    return lemmas"
      ],
      "execution_count": null,
      "outputs": []
    },
    {
      "cell_type": "code",
      "metadata": {
        "id": "1IUs6isvQ0GH",
        "colab": {
          "base_uri": "https://localhost:8080/",
          "height": 372
        },
        "outputId": "ba40c2e5-2a5a-4e0a-c4de-dc70e260d45e"
      },
      "source": [
        "lemmatize_text(df['text'][0])[:20]"
      ],
      "execution_count": null,
      "outputs": [
        {
          "output_type": "execute_result",
          "data": {
            "text/plain": [
              "['когда-то',\n",
              " 'добрый',\n",
              " 'романтик',\n",
              " 'который',\n",
              " 'стремиться',\n",
              " 'помочь',\n",
              " 'весь',\n",
              " 'попросить',\n",
              " 'жалко',\n",
              " 'верить',\n",
              " 'человечность',\n",
              " 'однако',\n",
              " 'это',\n",
              " 'фальший',\n",
              " 'суррогатный',\n",
              " 'дружба',\n",
              " 'какой-то',\n",
              " 'непонятный',\n",
              " 'отношение',\n",
              " 'девушка']"
            ]
          },
          "metadata": {
            "tags": []
          },
          "execution_count": 105
        }
      ]
    },
    {
      "cell_type": "markdown",
      "metadata": {
        "id": "D5kyEWTZ98r3"
      },
      "source": [
        "5. Напишите функцию, которая переводит текст в последовательность частеречных тегов."
      ]
    },
    {
      "cell_type": "code",
      "metadata": {
        "id": "83EABAwH756M"
      },
      "source": [
        "# your code and output here\n",
        "def text_to_pos(text):\n",
        "    pos_tags = []\n",
        "    for word in tokenize_text(text):\n",
        "        pos_tags.append(morph.parse(word)[0].tag.POS)\n",
        "    return pos_tags"
      ],
      "execution_count": null,
      "outputs": []
    },
    {
      "cell_type": "code",
      "metadata": {
        "id": "nhrpof57RM0T",
        "colab": {
          "base_uri": "https://localhost:8080/",
          "height": 372
        },
        "outputId": "cf504af8-03b8-4ceb-f0d8-31d4189e3f76"
      },
      "source": [
        "text_to_pos(df['text'][0])[:20]"
      ],
      "execution_count": null,
      "outputs": [
        {
          "output_type": "execute_result",
          "data": {
            "text/plain": [
              "['ADVB',\n",
              " 'ADJF',\n",
              " 'NOUN',\n",
              " 'ADJF',\n",
              " 'VERB',\n",
              " 'INFN',\n",
              " 'ADJF',\n",
              " 'VERB',\n",
              " 'ADVB',\n",
              " 'VERB',\n",
              " 'NOUN',\n",
              " 'CONJ',\n",
              " 'PRCL',\n",
              " 'NOUN',\n",
              " 'ADJF',\n",
              " 'NOUN',\n",
              " 'ADJF',\n",
              " 'ADJF',\n",
              " 'NOUN',\n",
              " 'NOUN']"
            ]
          },
          "metadata": {
            "tags": []
          },
          "execution_count": 107
        }
      ]
    },
    {
      "cell_type": "markdown",
      "metadata": {
        "id": "d7VAjC4VHSyi"
      },
      "source": [
        "6. Какие слова мы можем добавить в список стоп-слов? Приведите примеры и объясните, почему."
      ]
    },
    {
      "cell_type": "markdown",
      "metadata": {
        "id": "5BkZh46XLLIO"
      },
      "source": [
        "Из следующих частотных словарей для выборочных примеров видно, что такие слова как \"это\", \"который\", \"стать\", \"быть\" являются довольно часто используемыми и более-менее бесполезными для понимания тональности текста словами, поэтому их бы я добавила в список стоп-слов. В отличие от, например, часто употребляемых \"часто\", \"мочь\", \"год\", \"сказать\" и др., которые, по-моему, вносят гораздо больше смысла в рамках нашей тематики, поэтому их можно оставить."
      ]
    },
    {
      "cell_type": "code",
      "metadata": {
        "id": "tgE0OsduLWfj"
      },
      "source": [
        "from collections import Counter"
      ],
      "execution_count": null,
      "outputs": []
    },
    {
      "cell_type": "code",
      "metadata": {
        "id": "JialHyCXLM5l",
        "colab": {
          "base_uri": "https://localhost:8080/",
          "height": 195
        },
        "outputId": "093a65b0-63b1-46c3-a968-c616e4d38126"
      },
      "source": [
        "for i in range(10):\n",
        "    print(Counter(lemmatize_text(df['text'][i])).most_common()[:10])"
      ],
      "execution_count": null,
      "outputs": [
        {
          "output_type": "stream",
          "text": [
            "[('это', 7), ('который', 4), ('часто', 4), ('мой', 4), ('именно', 4), ('потерять', 3), ('свой', 3), ('девушка', 2), ('любить', 2), ('попросту', 2)]\n",
            "[('заканчиваться', 2), ('барахтаться', 2), ('здраствовать', 1), ('каждый', 1), ('день', 1), ('просыпаться', 1), ('мысль', 1), ('жить', 1), ('дизнь', 1), ('пустой', 1)]\n",
            "[('мочь', 2), ('очень', 2), ('виноватый', 2), ('снова', 2), ('ситуация', 2), ('проблема', 1), ('девушка', 1), ('каждый', 1), ('ссора', 1), ('перенести', 1)]\n",
            "[('это', 2), ('который', 2), ('отец', 2), ('весь', 1), ('жизнь', 1), ('сплошной', 1), ('ад', 1), ('горе', 1), ('постоянно', 1), ('устать', 1)]\n",
            "[('нога', 6), ('хотеть', 5), ('сказать', 5), ('родитель', 5), ('время', 4), ('школа', 4), ('кость', 4), ('ходить', 4), ('гипс', 4), ('апрель', 3)]\n",
            "[('должный', 6), ('истерика', 5), ('сын', 5), ('стать', 4), ('муж', 4), ('ребёнок', 3), ('год', 3), ('просто', 3), ('день', 3), ('это', 3)]\n",
            "[('разослать', 3), ('мой', 2), ('лицо', 2), ('тело', 2), ('это', 2), ('хотеть', 2), ('шантажировать', 2), ('показать', 2), ('сказать', 2), ('мочь', 2)]\n",
            "[('говорить', 3), ('начало', 2), ('отношение', 2), ('весь', 2), ('плохо', 2), ('нужно', 2), ('друг', 2), ('знакомый', 2), ('мой', 2), ('это', 2)]\n",
            "[('первый', 1), ('последний', 1), ('сходить', 1), ('косметолог', 1), ('быть', 1), ('описывать', 1), ('итог', 1), ('поражение', 1), ('нерв', 1), ('лицо', 1)]\n",
            "[('год', 1), ('очень', 1), ('трудный', 1), ('....', 1)]\n"
          ],
          "name": "stdout"
        }
      ]
    },
    {
      "cell_type": "code",
      "metadata": {
        "id": "k69HwTLMNBhA",
        "colab": {
          "base_uri": "https://localhost:8080/",
          "height": 195
        },
        "outputId": "3d5154b4-9b56-42d4-8281-24b022cd696e"
      },
      "source": [
        "for i in range(60, 70):\n",
        "    print(Counter(lemmatize_text(df['text'][i])).most_common()[:10])"
      ],
      "execution_count": null,
      "outputs": [
        {
          "output_type": "stream",
          "text": [
            "[('время', 2), ('думать', 2), ('здравствуйте', 1), ('!!!', 1), ('знать', 1), ('начать', 1), ('просто', 1), ('устать', 1), ('жизнь', 1), ('работа', 1)]\n",
            "[('постоянно', 1), ('появляться', 1), ('мысль', 1), ('суецида', 1), ('каждый', 1), ('разом', 1), ('сильный', 1)]\n",
            "[('жена', 3), ('унижение', 2), ('мочь', 2), ('мой', 2), ('ребёнок', 2), ('так', 2), ('уважение', 1), ('постоянный', 1), ('оскорбление', 1), ('упрёк', 1)]\n",
            "[('больно', 3), ('хотеть', 3), ('молиться', 2), ('поддержать', 2), ('папа', 2), ('боль', 2), ('страдать', 1), ('стать', 1), ('нужный', 1), ('муж', 1)]\n",
            "[('деньга', 4), ('взять', 4), ('день', 2), ('проиграть', 2), ('прийтись', 2), ('вернуть', 2), ('снова', 2), ('30.000', 2), ('друг', 2), ('заём', 2)]\n",
            "[('стать', 7), ('год', 6), ('школа', 5), ('начать', 5), ('быть', 5), ('знать', 4), ('друг', 4), ('хотеть', 4), ('класс', 4), ('5', 4)]\n",
            "[('это', 8), ('всё', 7), ('класс', 6), ('просто', 6), ('так', 6), ('мочь', 6), ('хотя', 5), ('человек', 5), ('плохой', 5), ('мой', 5)]\n",
            "[('часто', 4), ('просто', 4), ('год', 3), ('родитель', 3), ('мочь', 3), ('сделать', 3), ('бояться', 3), ('14', 2), ('начаться', 2), ('подруга', 2)]\n",
            "[('думать', 3), ('переживать', 2), ('попросить', 2), ('родитель', 2), ('плохо', 2), ('говорить', 2), ('друг', 2), ('мысль', 2), ('депрессия', 1), ('обратиться', 1)]\n",
            "[('добрый', 1), ('день', 1), ('утро', 1), ('вечер', 1)]\n"
          ],
          "name": "stdout"
        }
      ]
    },
    {
      "cell_type": "markdown",
      "metadata": {
        "id": "vcLlYOZfIWRX"
      },
      "source": [
        "### Часть 3: Визуализация\n"
      ]
    },
    {
      "cell_type": "markdown",
      "metadata": {
        "id": "b9s_mHYIoOjg"
      },
      "source": [
        "1. Визуализируйте распределение количество предложений / текст."
      ]
    },
    {
      "cell_type": "code",
      "metadata": {
        "id": "dwPmg4HXJhLO"
      },
      "source": [
        "import matplotlib.pyplot as plt"
      ],
      "execution_count": null,
      "outputs": []
    },
    {
      "cell_type": "code",
      "metadata": {
        "id": "b0jjwvl2wUAL",
        "colab": {
          "base_uri": "https://localhost:8080/",
          "height": 338
        },
        "outputId": "b92293c1-f0d8-466d-f76d-66665d21b4bb"
      },
      "source": [
        "plt.figure(figsize=(7, 5))\n",
        "df['num_sents'].plot.hist(bins=40, alpha=0.8, logy=True, color='red')"
      ],
      "execution_count": null,
      "outputs": [
        {
          "output_type": "execute_result",
          "data": {
            "text/plain": [
              "<matplotlib.axes._subplots.AxesSubplot at 0x7f7e12c8cd68>"
            ]
          },
          "metadata": {
            "tags": []
          },
          "execution_count": 144
        },
        {
          "output_type": "display_data",
          "data": {
            "image/png": "[encoded data removed]",
            "text/plain": [
              "<Figure size 504x360 with 1 Axes>"
            ]
          },
          "metadata": {
            "tags": [],
            "needs_background": "light"
          }
        }
      ]
    },
    {
      "cell_type": "markdown",
      "metadata": {
        "id": "PzPsrj36KJ7n"
      },
      "source": [
        "2. Визуализируйте распределение количество-предложений / текст внутри каждого класса."
      ]
    },
    {
      "cell_type": "code",
      "metadata": {
        "id": "z7R5719eV2Me",
        "colab": {
          "base_uri": "https://localhost:8080/",
          "height": 320
        },
        "outputId": "de36ece5-181d-45c9-d790-12362e1e12ed"
      },
      "source": [
        "# your code and output here\n",
        "plt.figure(figsize=(7, 5))\n",
        "df[df['label'] == 0]['num_sents'].plot.hist(bins=30, alpha=0.7, logy=True, label='negative', legend=True)\n",
        "df[df['label'] == 1]['num_sents'].plot.hist(bins=30, alpha=0.7, logy=True, label='positive', legend=True)\n",
        "plt.show()"
      ],
      "execution_count": null,
      "outputs": [
        {
          "output_type": "display_data",
          "data": {
            "image/png": "[encoded data removed]",
            "text/plain": [
              "<Figure size 504x360 with 1 Axes>"
            ]
          },
          "metadata": {
            "tags": [],
            "needs_background": "light"
          }
        }
      ]
    },
    {
      "cell_type": "markdown",
      "metadata": {
        "id": "5zGMiWUBQKRi"
      },
      "source": [
        "3. Верно ли, что количество предложений в тексте коррелирует с возрастом автора в подвыборке от 16 до 32 лет включительно? Если да, какая это корреляция – положительная или отрицательная? Визуализируйте матрицу корреляции."
      ]
    },
    {
      "cell_type": "code",
      "metadata": {
        "id": "qAeNmcoqQi5x"
      },
      "source": [
        "# your code and output here\n",
        "df_age = df[(df['age'] >= 16) & (df['age'] <= 32)]"
      ],
      "execution_count": null,
      "outputs": []
    },
    {
      "cell_type": "code",
      "metadata": {
        "id": "lR8mjY_Hug6-",
        "colab": {
          "base_uri": "https://localhost:8080/",
          "height": 106
        },
        "outputId": "b865dec2-934a-41fd-b015-e2130bc23a17"
      },
      "source": [
        "df_age[['age', 'num_sents']].corr()"
      ],
      "execution_count": null,
      "outputs": [
        {
          "output_type": "execute_result",
          "data": {
            "text/html": [
              "<div>\n",
              "<style scoped>\n",
              "    .dataframe tbody tr th:only-of-type {\n",
              "        vertical-align: middle;\n",
              "    }\n",
              "\n",
              "    .dataframe tbody tr th {\n",
              "        vertical-align: top;\n",
              "    }\n",
              "\n",
              "    .dataframe thead th {\n",
              "        text-align: right;\n",
              "    }\n",
              "</style>\n",
              "<table border=\"1\" class=\"dataframe\">\n",
              "  <thead>\n",
              "    <tr style=\"text-align: right;\">\n",
              "      <th></th>\n",
              "      <th>age</th>\n",
              "      <th>num_sents</th>\n",
              "    </tr>\n",
              "  </thead>\n",
              "  <tbody>\n",
              "    <tr>\n",
              "      <th>age</th>\n",
              "      <td>1.000000</td>\n",
              "      <td>0.039831</td>\n",
              "    </tr>\n",
              "    <tr>\n",
              "      <th>num_sents</th>\n",
              "      <td>0.039831</td>\n",
              "      <td>1.000000</td>\n",
              "    </tr>\n",
              "  </tbody>\n",
              "</table>\n",
              "</div>"
            ],
            "text/plain": [
              "                age  num_sents\n",
              "age        1.000000   0.039831\n",
              "num_sents  0.039831   1.000000"
            ]
          },
          "metadata": {
            "tags": []
          },
          "execution_count": 51
        }
      ]
    },
    {
      "cell_type": "markdown",
      "metadata": {
        "id": "TsYQo_geLINP"
      },
      "source": [
        "Корреляция минимальна, положительная (0.04)"
      ]
    },
    {
      "cell_type": "code",
      "metadata": {
        "id": "5d2ggMbivYtz",
        "colab": {
          "base_uri": "https://localhost:8080/",
          "height": 336
        },
        "outputId": "2824875e-943a-4976-9b17-cc9eb61ee735"
      },
      "source": [
        "import seaborn as sns\n",
        "\n",
        "fig, ax = plt.subplots(figsize=(10, 5))\n",
        "\n",
        "sns.heatmap(\n",
        "    data=df_age[['age', 'num_sents']].corr(), \n",
        "    annot=True,\n",
        "    ax=ax\n",
        ")\n",
        "\n",
        "plt.title(\"Корреляция между возрастом и кол-вом предложений в тексте\")\n",
        "plt.show()"
      ],
      "execution_count": null,
      "outputs": [
        {
          "output_type": "display_data",
          "data": {
            "image/png": "[encoded data removed]",
            "text/plain": [
              "<Figure size 720x360 with 2 Axes>"
            ]
          },
          "metadata": {
            "tags": [],
            "needs_background": "light"
          }
        }
      ]
    },
    {
      "cell_type": "markdown",
      "metadata": {
        "id": "nBpo_1O5Ld7H"
      },
      "source": [
        "### Часть 4: Извлечение текстовых признаков"
      ]
    },
    {
      "cell_type": "markdown",
      "metadata": {
        "id": "oqZUzenfL2sF"
      },
      "source": [
        "1. Самостоятельно реализуйте функцию для получения посимвольных н-грамм (без использования библиотек)."
      ]
    },
    {
      "cell_type": "code",
      "metadata": {
        "id": "UOOp61e1MCU-"
      },
      "source": [
        "# your code and output here\n",
        "def char_ngrams(text, n=3):\n",
        "    ngrams = []\n",
        "    text = ' '.join(tokenize_text(text))\n",
        "    for i in range(len(text)):\n",
        "        ngram = text[i:i+n]\n",
        "        if len(ngram) == n:\n",
        "            ngrams.append(ngram)\n",
        "    return ngrams"
      ],
      "execution_count": null,
      "outputs": []
    },
    {
      "cell_type": "code",
      "metadata": {
        "id": "LctAR2cEMV0s",
        "colab": {
          "base_uri": "https://localhost:8080/",
          "height": 35
        },
        "outputId": "de71e70e-6353-4129-e381-50a70dfbbac8"
      },
      "source": [
        "# пример работы функции\n",
        "\n",
        "text = \"уставшая мама мыла грязную раму\"\n",
        "\n",
        "char_ngrams(text, n=3)[-10:]"
      ],
      "execution_count": null,
      "outputs": [
        {
          "output_type": "execute_result",
          "data": {
            "text/plain": [
              "['гря', 'ряз', 'язн', 'зну', 'ную', 'ую ', 'ю р', ' ра', 'рам', 'аму']"
            ]
          },
          "metadata": {
            "tags": []
          },
          "execution_count": 112
        }
      ]
    },
    {
      "cell_type": "markdown",
      "metadata": {
        "id": "CnPgflCeNsZA"
      },
      "source": [
        "2. Самостоятельно реализуйте функцию для получения пословных н-грамм (без использования библиотек)."
      ]
    },
    {
      "cell_type": "code",
      "metadata": {
        "id": "fX_6RyMFOGL2"
      },
      "source": [
        "# your code and output here\n",
        "def word_ngrams(text, n=3):\n",
        "    ngrams = []\n",
        "    tokens = tokenize_text(text)\n",
        "    for i in range(len(tokens)):\n",
        "        ngram = tokens[i:i+n]\n",
        "        if len(ngram) == n:\n",
        "            ngrams.append(ngram)\n",
        "    return ngrams"
      ],
      "execution_count": null,
      "outputs": []
    },
    {
      "cell_type": "code",
      "metadata": {
        "id": "7b-XHdadOVm5",
        "colab": {
          "base_uri": "https://localhost:8080/",
          "height": 70
        },
        "outputId": "6a8f8047-b7f2-4a0a-df64-42b57baa54a3"
      },
      "source": [
        "# пример работы функции\n",
        "\n",
        "word_ngrams(text, n=3)"
      ],
      "execution_count": null,
      "outputs": [
        {
          "output_type": "execute_result",
          "data": {
            "text/plain": [
              "[['уставшая', 'мама', 'мыла'],\n",
              " ['мама', 'мыла', 'грязную'],\n",
              " ['мыла', 'грязную', 'раму']]"
            ]
          },
          "metadata": {
            "tags": []
          },
          "execution_count": 114
        }
      ]
    },
    {
      "cell_type": "code",
      "metadata": {
        "id": "anLUGeXROekT",
        "colab": {
          "base_uri": "https://localhost:8080/",
          "height": 35
        },
        "outputId": "e421b31a-b980-4e0a-8e8c-3238a295d1ad"
      },
      "source": [
        "word_ngrams(text, n=4)"
      ],
      "execution_count": null,
      "outputs": [
        {
          "output_type": "execute_result",
          "data": {
            "text/plain": [
              "[['уставшая', 'мама', 'мыла', 'грязную'], ['мама', 'мыла', 'грязную', 'раму']]"
            ]
          },
          "metadata": {
            "tags": []
          },
          "execution_count": 115
        }
      ]
    },
    {
      "cell_type": "markdown",
      "metadata": {
        "id": "zU4PJTZVOvcQ"
      },
      "source": [
        "3. Самостоятельно реализуйте функцию для получения н-грамм лемм (без использования библиотек)."
      ]
    },
    {
      "cell_type": "code",
      "metadata": {
        "id": "dgWG3NdLO0JF"
      },
      "source": [
        "# your code and output here\n",
        "def lemma_ngrams(text, n=3):\n",
        "    ngrams = []\n",
        "    lemmas = lemmatize_text(text)\n",
        "    for i in range(len(lemmas)):\n",
        "        ngram = lemmas[i:i+n]\n",
        "        if len(ngram) == n:\n",
        "            ngrams.append(ngram)\n",
        "    return ngrams"
      ],
      "execution_count": null,
      "outputs": []
    },
    {
      "cell_type": "code",
      "metadata": {
        "id": "BfER14VDO8I3",
        "colab": {
          "base_uri": "https://localhost:8080/",
          "height": 70
        },
        "outputId": "b8a88ef9-7d90-4bf5-e080-6eba0329a798"
      },
      "source": [
        "# пример работы функции\n",
        "\n",
        "lemma_ngrams(text, n=3)"
      ],
      "execution_count": null,
      "outputs": [
        {
          "output_type": "execute_result",
          "data": {
            "text/plain": [
              "[['устать', 'мама', 'мыло'],\n",
              " ['мама', 'мыло', 'грязный'],\n",
              " ['мыло', 'грязный', 'рама']]"
            ]
          },
          "metadata": {
            "tags": []
          },
          "execution_count": 117
        }
      ]
    },
    {
      "cell_type": "code",
      "metadata": {
        "id": "k1XmkQ_rO_p1",
        "colab": {
          "base_uri": "https://localhost:8080/",
          "height": 35
        },
        "outputId": "94d7b714-f1ff-4867-cb1d-32a096a7f4c1"
      },
      "source": [
        "lemma_ngrams(text, n=4)"
      ],
      "execution_count": null,
      "outputs": [
        {
          "output_type": "execute_result",
          "data": {
            "text/plain": [
              "[['устать', 'мама', 'мыло', 'грязный'], ['мама', 'мыло', 'грязный', 'рама']]"
            ]
          },
          "metadata": {
            "tags": []
          },
          "execution_count": 118
        }
      ]
    },
    {
      "cell_type": "markdown",
      "metadata": {
        "id": "LHUo6LdLOblj"
      },
      "source": [
        "4. Самостоятельно реализуйте функцию для получения н-грамм частеречных тегов (без использования библиотек)."
      ]
    },
    {
      "cell_type": "code",
      "metadata": {
        "id": "YlPDRUCcOoCX"
      },
      "source": [
        "# your code and output here\n",
        "def pos_ngrams(text, n=3):\n",
        "    ngrams = []\n",
        "    pos_tags = text_to_pos(text)\n",
        "    for i in range(len(pos_tags)):\n",
        "        ngram = pos_tags[i:i+n]\n",
        "        if len(ngram) == n:\n",
        "            ngrams.append(ngram)\n",
        "    return ngrams"
      ],
      "execution_count": null,
      "outputs": []
    },
    {
      "cell_type": "code",
      "metadata": {
        "id": "a4kQmEqiPHPv",
        "colab": {
          "base_uri": "https://localhost:8080/",
          "height": 35
        },
        "outputId": "b30607fd-e379-4af8-b377-adf7d080e2ba"
      },
      "source": [
        "# пример работы функции\n",
        "\n",
        "pos_ngrams(text, n=3)"
      ],
      "execution_count": null,
      "outputs": [
        {
          "output_type": "execute_result",
          "data": {
            "text/plain": [
              "[['PRTF', 'NOUN', 'NOUN'], ['NOUN', 'NOUN', 'ADJF'], ['NOUN', 'ADJF', 'NOUN']]"
            ]
          },
          "metadata": {
            "tags": []
          },
          "execution_count": 120
        }
      ]
    },
    {
      "cell_type": "code",
      "metadata": {
        "id": "iBh5fRbOPKsn",
        "colab": {
          "base_uri": "https://localhost:8080/",
          "height": 35
        },
        "outputId": "dc1ad4cc-1595-4158-a186-e921c60a94ea"
      },
      "source": [
        "pos_ngrams(text, n=4)"
      ],
      "execution_count": null,
      "outputs": [
        {
          "output_type": "execute_result",
          "data": {
            "text/plain": [
              "[['PRTF', 'NOUN', 'NOUN', 'ADJF'], ['NOUN', 'NOUN', 'ADJF', 'NOUN']]"
            ]
          },
          "metadata": {
            "tags": []
          },
          "execution_count": 121
        }
      ]
    },
    {
      "cell_type": "markdown",
      "metadata": {
        "id": "ZnUBQ6hLPNb3"
      },
      "source": [
        "5. Самостоятельно реализуйте функцию для получения частотного словаря частеречных тегов по коллекции документов."
      ]
    },
    {
      "cell_type": "code",
      "metadata": {
        "id": "P69DZahVPctr"
      },
      "source": [
        "# your code and output here\n",
        "from tqdm import tqdm\n",
        "\n",
        "def build_pos_dict(corpus):\n",
        "    pos_tags = {}\n",
        "    for text in tqdm(corpus):\n",
        "        tags = text_to_pos(text)\n",
        "        for tag in tags:\n",
        "            if tag in pos_tags.keys():\n",
        "                pos_tags[tag] += 1\n",
        "            else:\n",
        "                pos_tags[tag] = 1\n",
        "    return pos_tags"
      ],
      "execution_count": null,
      "outputs": []
    },
    {
      "cell_type": "code",
      "metadata": {
        "id": "7ZLFo264Pa4b",
        "colab": {
          "base_uri": "https://localhost:8080/",
          "height": 52
        },
        "outputId": "23c36833-2875-4665-a108-c30f9b312107"
      },
      "source": [
        "# пример работы функции\n",
        "\n",
        "corpus = [\n",
        "    \"мама мыла уставшую раму\",\n",
        "    \"высшая школа экономики\",\n",
        "    \"компьютерная лингвистика\",\n",
        "    \"осень наступила\"\n",
        "]\n",
        "\n",
        "build_pos_dict(corpus)"
      ],
      "execution_count": null,
      "outputs": [
        {
          "output_type": "stream",
          "text": [
            "100%|██████████| 4/4 [00:00<00:00, 1057.43it/s]\n"
          ],
          "name": "stderr"
        },
        {
          "output_type": "execute_result",
          "data": {
            "text/plain": [
              "{'ADJF': 2, 'NOUN': 7, 'PRTF': 1, 'VERB': 1}"
            ]
          },
          "metadata": {
            "tags": []
          },
          "execution_count": 125
        }
      ]
    },
    {
      "cell_type": "code",
      "metadata": {
        "id": "BswPYlZvQOEW",
        "colab": {
          "base_uri": "https://localhost:8080/",
          "height": 35
        },
        "outputId": "18b78b33-b234-4143-f519-66d4ad903fce"
      },
      "source": [
        "pos_dict = build_pos_dict(df['text'])"
      ],
      "execution_count": null,
      "outputs": [
        {
          "output_type": "stream",
          "text": [
            "100%|██████████| 64039/64039 [20:54<00:00, 51.06it/s]\n"
          ],
          "name": "stderr"
        }
      ]
    },
    {
      "cell_type": "code",
      "metadata": {
        "id": "OnZtFWFpWub1"
      },
      "source": [
        "pos_list = []\n",
        "for pos in sorted(pos_dict, key=pos_dict.get, reverse=True)[:15]:\n",
        "    pos_list.append((pos, pos_dict[pos]))"
      ],
      "execution_count": null,
      "outputs": []
    },
    {
      "cell_type": "code",
      "metadata": {
        "id": "aeJSyV07rJI7",
        "colab": {
          "base_uri": "https://localhost:8080/",
          "height": 284
        },
        "outputId": "bf9e8a06-d369-4d61-94b6-cec2c2b2df11"
      },
      "source": [
        "pos_list"
      ],
      "execution_count": null,
      "outputs": [
        {
          "output_type": "execute_result",
          "data": {
            "text/plain": [
              "[('NOUN', 3214936),\n",
              " ('ADJF', 1102687),\n",
              " ('VERB', 908252),\n",
              " (None, 768394),\n",
              " ('ADVB', 267188),\n",
              " ('INFN', 264475),\n",
              " ('PRCL', 110080),\n",
              " ('PRTF', 64489),\n",
              " ('NPRO', 57882),\n",
              " ('ADJS', 54107),\n",
              " ('PRTS', 51805),\n",
              " ('PREP', 40274),\n",
              " ('CONJ', 32368),\n",
              " ('COMP', 22990),\n",
              " ('GRND', 20628)]"
            ]
          },
          "metadata": {
            "tags": []
          },
          "execution_count": 148
        }
      ]
    },
    {
      "cell_type": "markdown",
      "metadata": {
        "id": "yb_mcJ8sSr3-"
      },
      "source": [
        "6. Постройте частотный словарь лемм по текстам внутри каждого класса. Найдите топ-15 лемм для текстов каждого класса. Есть ли между этими списками пересечение? Если да, сколько лемм пересекается?"
      ]
    },
    {
      "cell_type": "code",
      "metadata": {
        "id": "nP6_MZbHTLtf"
      },
      "source": [
        "# your code and output here\n",
        "def build_lemmas_dict(corpus):\n",
        "    lemmas = {}\n",
        "    for text in tqdm(corpus):\n",
        "        ls = lemmatize_text(text)\n",
        "        for lemma in ls:\n",
        "            if lemma in lemmas.keys():\n",
        "                lemmas[lemma] += 1\n",
        "            else:\n",
        "                lemmas[lemma] = 1\n",
        "    return lemmas"
      ],
      "execution_count": null,
      "outputs": []
    },
    {
      "cell_type": "code",
      "metadata": {
        "id": "9--bUp2CXplu",
        "colab": {
          "base_uri": "https://localhost:8080/",
          "height": 35
        },
        "outputId": "e06c3728-7eea-4b16-ca90-857951182c93"
      },
      "source": [
        "lemmas_dict_0 = build_lemmas_dict(df.loc[df['label'] == 0]['text'])"
      ],
      "execution_count": null,
      "outputs": [
        {
          "output_type": "stream",
          "text": [
            "100%|██████████| 32021/32021 [14:11<00:00, 37.60it/s]\n"
          ],
          "name": "stderr"
        }
      ]
    },
    {
      "cell_type": "code",
      "metadata": {
        "id": "bkVSs7hDclO4",
        "colab": {
          "base_uri": "https://localhost:8080/",
          "height": 35
        },
        "outputId": "bcdb1971-2239-4d5c-fd94-9189546ce25d"
      },
      "source": [
        "lemmas_dict_1 = build_lemmas_dict(df.loc[df['label'] == 1]['text'])"
      ],
      "execution_count": null,
      "outputs": [
        {
          "output_type": "stream",
          "text": [
            "100%|██████████| 32018/32018 [06:03<00:00, 88.16it/s] \n"
          ],
          "name": "stderr"
        }
      ]
    },
    {
      "cell_type": "code",
      "metadata": {
        "id": "md3gjTc9gZFs",
        "colab": {
          "base_uri": "https://localhost:8080/",
          "height": 284
        },
        "outputId": "e7a1a168-c44f-4614-9ae7-0782766febf5"
      },
      "source": [
        "res_0 = []\n",
        "for lemma in sorted(lemmas_dict_0, key=lemmas_dict_0.get, reverse=True)[:15]:\n",
        "    print(lemma, lemmas_dict_0[lemma])\n",
        "    res_0.append(lemma)"
      ],
      "execution_count": null,
      "outputs": [
        {
          "output_type": "stream",
          "text": [
            "год 43943\n",
            "который 26291\n",
            "это 16813\n",
            "проект 16652\n",
            "https 16424\n",
            "новый 15775\n",
            "свой 15479\n",
            "наш 15433\n",
            "день 14845\n",
            "город 14453\n",
            "работа 14257\n",
            "апрель 14053\n",
            "также 13713\n",
            "первый 13474\n",
            "россия 13418\n"
          ],
          "name": "stdout"
        }
      ]
    },
    {
      "cell_type": "code",
      "metadata": {
        "id": "MzK4Ix8FdKN3",
        "colab": {
          "base_uri": "https://localhost:8080/",
          "height": 284
        },
        "outputId": "1400d25f-41f2-406c-d573-63691fc0f517"
      },
      "source": [
        "res_1 = []\n",
        "for lemma in sorted(lemmas_dict_1, key=lemmas_dict_1.get, reverse=True)[:15]:\n",
        "    print(lemma, lemmas_dict_1[lemma])\n",
        "    res_1.append(lemma)"
      ],
      "execution_count": null,
      "outputs": [
        {
          "output_type": "stream",
          "text": [
            "это 33953\n",
            "год 28565\n",
            "жить 25568\n",
            "хотеть 24525\n",
            "жизнь 24254\n",
            "мочь 21324\n",
            "человек 19236\n",
            "очень 18423\n",
            "мой 18111\n",
            "знать 16712\n",
            "просто 16200\n",
            "который 14926\n",
            "свой 14614\n",
            "друг 12485\n",
            "мама 12376\n"
          ],
          "name": "stdout"
        }
      ]
    },
    {
      "cell_type": "code",
      "metadata": {
        "id": "fb8l7nSNe2wi",
        "colab": {
          "base_uri": "https://localhost:8080/",
          "height": 35
        },
        "outputId": "dd8d5366-9030-4292-a01c-35ead362f6b6"
      },
      "source": [
        "list(set(res_0) & set(res_1))"
      ],
      "execution_count": null,
      "outputs": [
        {
          "output_type": "execute_result",
          "data": {
            "text/plain": [
              "['это', 'свой', 'который', 'год']"
            ]
          },
          "metadata": {
            "tags": []
          },
          "execution_count": 142
        }
      ]
    },
    {
      "cell_type": "code",
      "metadata": {
        "id": "uBOllt2yfGx7",
        "colab": {
          "base_uri": "https://localhost:8080/",
          "height": 35
        },
        "outputId": "b85fbd85-5bb1-470c-a593-591b32b2fe83"
      },
      "source": [
        "len(set(res_0) & set(res_1))"
      ],
      "execution_count": null,
      "outputs": [
        {
          "output_type": "execute_result",
          "data": {
            "text/plain": [
              "4"
            ]
          },
          "metadata": {
            "tags": []
          },
          "execution_count": 143
        }
      ]
    },
    {
      "cell_type": "markdown",
      "metadata": {
        "id": "Ais6vq2wcqvk"
      },
      "source": [
        "label 0: ['год',\n",
        " 'который',\n",
        " 'это',\n",
        " 'проект',\n",
        " 'https',\n",
        " 'новый',\n",
        " 'свой',\n",
        " 'наш',\n",
        " 'день',\n",
        " 'город',\n",
        " 'работа',\n",
        " 'апрель',\n",
        " 'также',\n",
        " 'первый',\n",
        " 'россия']\n",
        "\n",
        " label 1: ['это',\n",
        " 'год',\n",
        " 'жить',\n",
        " 'хотеть',\n",
        " 'жизнь',\n",
        " 'мочь',\n",
        " 'человек',\n",
        " 'очень',\n",
        " 'мой',\n",
        " 'знать',\n",
        " 'просто',\n",
        " 'который',\n",
        " 'свой',\n",
        " 'друг',\n",
        " 'мама']\n",
        "\n",
        " (тут кстати опять видно, насколько частотны бесполезные для нас сейчас слова \"это\" и \"который\")"
      ]
    },
    {
      "cell_type": "markdown",
      "metadata": {
        "id": "AqfZJ4csRSxZ"
      },
      "source": [
        "7. Какие текстовые признаки могли бы быть полезными для решения задачи классификации на этих данных? Приведите примеры и перечислите ресурсы, которые вы бы использовали для конструирования этих признаков."
      ]
    },
    {
      "cell_type": "code",
      "metadata": {
        "id": "4T5Rdx1HRjWX"
      },
      "source": [
        "# your answer text here"
      ],
      "execution_count": null,
      "outputs": []
    },
    {
      "cell_type": "markdown",
      "metadata": {
        "id": "W1Z3JSBxfi92"
      },
      "source": [
        "1) наличие определенного набора слов в тексте (например, \"жить\", \"жизнь\", \"смерть\", \"грустно\" и подобные эмоционально окрашенные слова). как видно из частотного словаря лемм для депрессивных текстов, их авторам свойственны рассуждения о вечном и лирические эмоции. можно просто для каждого текста подсчитывать сколько лемм из набора в нем есть и считать это число признаком (преполагается, что в депрессивных текстах этих слов будет больше)\n",
        "\n",
        "2) вектора tf-idf для текстов, чтобы можно было опираться на близость векторов (sklearn.feature_extraction.text.TfidfVectorizer). причем можно взять не все возможные леммы, а только, например, 500 самых частотных из словаря (по 250 из каждого, как вариант) или не TfidfVectorizer, а CountVectorizer, который будет только подсчитывать вхождения в текстах\n",
        "\n",
        "3) набор pos-тэгов, так как, вероятно, в депрессивных текстах больше наречий/прилагательных\n",
        "\n",
        "4) ещё можно попробовать учитывать пунктуацию типа многоточий и скобок \"(\", отдельно подсчитывая вхождения\n",
        "\n",
        "5) думаю, пригодятся n-граммы лемм (например, биграммы), так как они наиболее информативны для учитывания контекста\n",
        "\n",
        "6) видимо, значимым признаком является кол-во токенов, так как во 2 части видно, как сильно отличаются средние длины текстов в токенах по классам"
      ]
    }
  ]
}