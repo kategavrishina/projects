{
  "nbformat": 4,
  "nbformat_minor": 0,
  "metadata": {
    "kernelspec": {
      "display_name": "Python 3",
      "language": "python",
      "name": "python3"
    },
    "language_info": {
      "codemirror_mode": {
        "name": "ipython",
        "version": 3
      },
      "file_extension": ".py",
      "mimetype": "text/x-python",
      "name": "python",
      "nbconvert_exporter": "python",
      "pygments_lexer": "ipython3",
      "version": "3.7.6"
    },
    "colab": {
      "name": "sem3_ner.ipynb",
      "provenance": [],
      "collapsed_sections": [
        "4aQUV7xLZCXW"
      ]
    },
    "widgets": {
      "application/vnd.jupyter.widget-state+json": {
        "8c1b78eb373e4c2c9573ba158227b039": {
          "model_module": "@jupyter-widgets/controls",
          "model_name": "HBoxModel",
          "state": {
            "_view_name": "HBoxView",
            "_dom_classes": [],
            "_model_name": "HBoxModel",
            "_view_module": "@jupyter-widgets/controls",
            "_model_module_version": "1.5.0",
            "_view_count": null,
            "_view_module_version": "1.5.0",
            "box_style": "",
            "layout": "IPY_MODEL_ae0d807f31584efc9fc9ffbda515a72a",
            "_model_module": "@jupyter-widgets/controls",
            "children": [
              "IPY_MODEL_46cdedf9f70845be9dcf069322911e97",
              "IPY_MODEL_09e3682e9c1d404097eedb3167680057"
            ]
          }
        },
        "ae0d807f31584efc9fc9ffbda515a72a": {
          "model_module": "@jupyter-widgets/base",
          "model_name": "LayoutModel",
          "state": {
            "_view_name": "LayoutView",
            "grid_template_rows": null,
            "right": null,
            "justify_content": null,
            "_view_module": "@jupyter-widgets/base",
            "overflow": null,
            "_model_module_version": "1.2.0",
            "_view_count": null,
            "flex_flow": null,
            "width": null,
            "min_width": null,
            "border": null,
            "align_items": null,
            "bottom": null,
            "_model_module": "@jupyter-widgets/base",
            "top": null,
            "grid_column": null,
            "overflow_y": null,
            "overflow_x": null,
            "grid_auto_flow": null,
            "grid_area": null,
            "grid_template_columns": null,
            "flex": null,
            "_model_name": "LayoutModel",
            "justify_items": null,
            "grid_row": null,
            "max_height": null,
            "align_content": null,
            "visibility": null,
            "align_self": null,
            "height": null,
            "min_height": null,
            "padding": null,
            "grid_auto_rows": null,
            "grid_gap": null,
            "max_width": null,
            "order": null,
            "_view_module_version": "1.2.0",
            "grid_template_areas": null,
            "object_position": null,
            "object_fit": null,
            "grid_auto_columns": null,
            "margin": null,
            "display": null,
            "left": null
          }
        },
        "46cdedf9f70845be9dcf069322911e97": {
          "model_module": "@jupyter-widgets/controls",
          "model_name": "FloatProgressModel",
          "state": {
            "_view_name": "ProgressView",
            "style": "IPY_MODEL_2c3ad5c8df3246b4987945ba1de3bdba",
            "_dom_classes": [],
            "description": "100%",
            "_model_name": "FloatProgressModel",
            "bar_style": "success",
            "max": 3080,
            "_view_module": "@jupyter-widgets/controls",
            "_model_module_version": "1.5.0",
            "value": 3080,
            "_view_count": null,
            "_view_module_version": "1.5.0",
            "orientation": "horizontal",
            "min": 0,
            "description_tooltip": null,
            "_model_module": "@jupyter-widgets/controls",
            "layout": "IPY_MODEL_16fbd0a0f2554ff498b3109df6b3efe1"
          }
        },
        "09e3682e9c1d404097eedb3167680057": {
          "model_module": "@jupyter-widgets/controls",
          "model_name": "HTMLModel",
          "state": {
            "_view_name": "HTMLView",
            "style": "IPY_MODEL_1b325d28e61d46b9ab8bd992a4052c29",
            "_dom_classes": [],
            "description": "",
            "_model_name": "HTMLModel",
            "placeholder": "​",
            "_view_module": "@jupyter-widgets/controls",
            "_model_module_version": "1.5.0",
            "value": " 3080/3080 [1:11:31&lt;00:00,  1.39s/it]",
            "_view_count": null,
            "_view_module_version": "1.5.0",
            "description_tooltip": null,
            "_model_module": "@jupyter-widgets/controls",
            "layout": "IPY_MODEL_2c4177317f4d42c3a425810da38d19cc"
          }
        },
        "2c3ad5c8df3246b4987945ba1de3bdba": {
          "model_module": "@jupyter-widgets/controls",
          "model_name": "ProgressStyleModel",
          "state": {
            "_view_name": "StyleView",
            "_model_name": "ProgressStyleModel",
            "description_width": "initial",
            "_view_module": "@jupyter-widgets/base",
            "_model_module_version": "1.5.0",
            "_view_count": null,
            "_view_module_version": "1.2.0",
            "bar_color": null,
            "_model_module": "@jupyter-widgets/controls"
          }
        },
        "16fbd0a0f2554ff498b3109df6b3efe1": {
          "model_module": "@jupyter-widgets/base",
          "model_name": "LayoutModel",
          "state": {
            "_view_name": "LayoutView",
            "grid_template_rows": null,
            "right": null,
            "justify_content": null,
            "_view_module": "@jupyter-widgets/base",
            "overflow": null,
            "_model_module_version": "1.2.0",
            "_view_count": null,
            "flex_flow": null,
            "width": null,
            "min_width": null,
            "border": null,
            "align_items": null,
            "bottom": null,
            "_model_module": "@jupyter-widgets/base",
            "top": null,
            "grid_column": null,
            "overflow_y": null,
            "overflow_x": null,
            "grid_auto_flow": null,
            "grid_area": null,
            "grid_template_columns": null,
            "flex": null,
            "_model_name": "LayoutModel",
            "justify_items": null,
            "grid_row": null,
            "max_height": null,
            "align_content": null,
            "visibility": null,
            "align_self": null,
            "height": null,
            "min_height": null,
            "padding": null,
            "grid_auto_rows": null,
            "grid_gap": null,
            "max_width": null,
            "order": null,
            "_view_module_version": "1.2.0",
            "grid_template_areas": null,
            "object_position": null,
            "object_fit": null,
            "grid_auto_columns": null,
            "margin": null,
            "display": null,
            "left": null
          }
        },
        "1b325d28e61d46b9ab8bd992a4052c29": {
          "model_module": "@jupyter-widgets/controls",
          "model_name": "DescriptionStyleModel",
          "state": {
            "_view_name": "StyleView",
            "_model_name": "DescriptionStyleModel",
            "description_width": "",
            "_view_module": "@jupyter-widgets/base",
            "_model_module_version": "1.5.0",
            "_view_count": null,
            "_view_module_version": "1.2.0",
            "_model_module": "@jupyter-widgets/controls"
          }
        },
        "2c4177317f4d42c3a425810da38d19cc": {
          "model_module": "@jupyter-widgets/base",
          "model_name": "LayoutModel",
          "state": {
            "_view_name": "LayoutView",
            "grid_template_rows": null,
            "right": null,
            "justify_content": null,
            "_view_module": "@jupyter-widgets/base",
            "overflow": null,
            "_model_module_version": "1.2.0",
            "_view_count": null,
            "flex_flow": null,
            "width": null,
            "min_width": null,
            "border": null,
            "align_items": null,
            "bottom": null,
            "_model_module": "@jupyter-widgets/base",
            "top": null,
            "grid_column": null,
            "overflow_y": null,
            "overflow_x": null,
            "grid_auto_flow": null,
            "grid_area": null,
            "grid_template_columns": null,
            "flex": null,
            "_model_name": "LayoutModel",
            "justify_items": null,
            "grid_row": null,
            "max_height": null,
            "align_content": null,
            "visibility": null,
            "align_self": null,
            "height": null,
            "min_height": null,
            "padding": null,
            "grid_auto_rows": null,
            "grid_gap": null,
            "max_width": null,
            "order": null,
            "_view_module_version": "1.2.0",
            "grid_template_areas": null,
            "object_position": null,
            "object_fit": null,
            "grid_auto_columns": null,
            "margin": null,
            "display": null,
            "left": null
          }
        },
        "50315e6966f04f378ddc406fb6cbe32f": {
          "model_module": "@jupyter-widgets/controls",
          "model_name": "HBoxModel",
          "state": {
            "_view_name": "HBoxView",
            "_dom_classes": [],
            "_model_name": "HBoxModel",
            "_view_module": "@jupyter-widgets/controls",
            "_model_module_version": "1.5.0",
            "_view_count": null,
            "_view_module_version": "1.5.0",
            "box_style": "",
            "layout": "IPY_MODEL_10cb11cd33374d6bb7aa7ce9179da9be",
            "_model_module": "@jupyter-widgets/controls",
            "children": [
              "IPY_MODEL_9b5b2f394e2644ff9c25b5950eec7967",
              "IPY_MODEL_f47499c315ee459a814614b28a65a988"
            ]
          }
        },
        "10cb11cd33374d6bb7aa7ce9179da9be": {
          "model_module": "@jupyter-widgets/base",
          "model_name": "LayoutModel",
          "state": {
            "_view_name": "LayoutView",
            "grid_template_rows": null,
            "right": null,
            "justify_content": null,
            "_view_module": "@jupyter-widgets/base",
            "overflow": null,
            "_model_module_version": "1.2.0",
            "_view_count": null,
            "flex_flow": null,
            "width": null,
            "min_width": null,
            "border": null,
            "align_items": null,
            "bottom": null,
            "_model_module": "@jupyter-widgets/base",
            "top": null,
            "grid_column": null,
            "overflow_y": null,
            "overflow_x": null,
            "grid_auto_flow": null,
            "grid_area": null,
            "grid_template_columns": null,
            "flex": null,
            "_model_name": "LayoutModel",
            "justify_items": null,
            "grid_row": null,
            "max_height": null,
            "align_content": null,
            "visibility": null,
            "align_self": null,
            "height": null,
            "min_height": null,
            "padding": null,
            "grid_auto_rows": null,
            "grid_gap": null,
            "max_width": null,
            "order": null,
            "_view_module_version": "1.2.0",
            "grid_template_areas": null,
            "object_position": null,
            "object_fit": null,
            "grid_auto_columns": null,
            "margin": null,
            "display": null,
            "left": null
          }
        },
        "9b5b2f394e2644ff9c25b5950eec7967": {
          "model_module": "@jupyter-widgets/controls",
          "model_name": "FloatProgressModel",
          "state": {
            "_view_name": "ProgressView",
            "style": "IPY_MODEL_5e8d4a86c2754fa88cd6b05d252590d7",
            "_dom_classes": [],
            "description": "100%",
            "_model_name": "FloatProgressModel",
            "bar_style": "success",
            "max": 2150,
            "_view_module": "@jupyter-widgets/controls",
            "_model_module_version": "1.5.0",
            "value": 2150,
            "_view_count": null,
            "_view_module_version": "1.5.0",
            "orientation": "horizontal",
            "min": 0,
            "description_tooltip": null,
            "_model_module": "@jupyter-widgets/controls",
            "layout": "IPY_MODEL_aaa7126ac6d74c87a4748024d40c86d2"
          }
        },
        "f47499c315ee459a814614b28a65a988": {
          "model_module": "@jupyter-widgets/controls",
          "model_name": "HTMLModel",
          "state": {
            "_view_name": "HTMLView",
            "style": "IPY_MODEL_0da231b5763c49a39920348ef7d218cf",
            "_dom_classes": [],
            "description": "",
            "_model_name": "HTMLModel",
            "placeholder": "​",
            "_view_module": "@jupyter-widgets/controls",
            "_model_module_version": "1.5.0",
            "value": " 2150/2150 [12:58&lt;00:00,  2.76it/s]",
            "_view_count": null,
            "_view_module_version": "1.5.0",
            "description_tooltip": null,
            "_model_module": "@jupyter-widgets/controls",
            "layout": "IPY_MODEL_c6aad883b1154a1b9b9a6f3b864d14a4"
          }
        },
        "5e8d4a86c2754fa88cd6b05d252590d7": {
          "model_module": "@jupyter-widgets/controls",
          "model_name": "ProgressStyleModel",
          "state": {
            "_view_name": "StyleView",
            "_model_name": "ProgressStyleModel",
            "description_width": "initial",
            "_view_module": "@jupyter-widgets/base",
            "_model_module_version": "1.5.0",
            "_view_count": null,
            "_view_module_version": "1.2.0",
            "bar_color": null,
            "_model_module": "@jupyter-widgets/controls"
          }
        },
        "aaa7126ac6d74c87a4748024d40c86d2": {
          "model_module": "@jupyter-widgets/base",
          "model_name": "LayoutModel",
          "state": {
            "_view_name": "LayoutView",
            "grid_template_rows": null,
            "right": null,
            "justify_content": null,
            "_view_module": "@jupyter-widgets/base",
            "overflow": null,
            "_model_module_version": "1.2.0",
            "_view_count": null,
            "flex_flow": null,
            "width": null,
            "min_width": null,
            "border": null,
            "align_items": null,
            "bottom": null,
            "_model_module": "@jupyter-widgets/base",
            "top": null,
            "grid_column": null,
            "overflow_y": null,
            "overflow_x": null,
            "grid_auto_flow": null,
            "grid_area": null,
            "grid_template_columns": null,
            "flex": null,
            "_model_name": "LayoutModel",
            "justify_items": null,
            "grid_row": null,
            "max_height": null,
            "align_content": null,
            "visibility": null,
            "align_self": null,
            "height": null,
            "min_height": null,
            "padding": null,
            "grid_auto_rows": null,
            "grid_gap": null,
            "max_width": null,
            "order": null,
            "_view_module_version": "1.2.0",
            "grid_template_areas": null,
            "object_position": null,
            "object_fit": null,
            "grid_auto_columns": null,
            "margin": null,
            "display": null,
            "left": null
          }
        },
        "0da231b5763c49a39920348ef7d218cf": {
          "model_module": "@jupyter-widgets/controls",
          "model_name": "DescriptionStyleModel",
          "state": {
            "_view_name": "StyleView",
            "_model_name": "DescriptionStyleModel",
            "description_width": "",
            "_view_module": "@jupyter-widgets/base",
            "_model_module_version": "1.5.0",
            "_view_count": null,
            "_view_module_version": "1.2.0",
            "_model_module": "@jupyter-widgets/controls"
          }
        },
        "c6aad883b1154a1b9b9a6f3b864d14a4": {
          "model_module": "@jupyter-widgets/base",
          "model_name": "LayoutModel",
          "state": {
            "_view_name": "LayoutView",
            "grid_template_rows": null,
            "right": null,
            "justify_content": null,
            "_view_module": "@jupyter-widgets/base",
            "overflow": null,
            "_model_module_version": "1.2.0",
            "_view_count": null,
            "flex_flow": null,
            "width": null,
            "min_width": null,
            "border": null,
            "align_items": null,
            "bottom": null,
            "_model_module": "@jupyter-widgets/base",
            "top": null,
            "grid_column": null,
            "overflow_y": null,
            "overflow_x": null,
            "grid_auto_flow": null,
            "grid_area": null,
            "grid_template_columns": null,
            "flex": null,
            "_model_name": "LayoutModel",
            "justify_items": null,
            "grid_row": null,
            "max_height": null,
            "align_content": null,
            "visibility": null,
            "align_self": null,
            "height": null,
            "min_height": null,
            "padding": null,
            "grid_auto_rows": null,
            "grid_gap": null,
            "max_width": null,
            "order": null,
            "_view_module_version": "1.2.0",
            "grid_template_areas": null,
            "object_position": null,
            "object_fit": null,
            "grid_auto_columns": null,
            "margin": null,
            "display": null,
            "left": null
          }
        },
        "86a0d7d8d81547c1ab825a4de06f2ec1": {
          "model_module": "@jupyter-widgets/controls",
          "model_name": "HBoxModel",
          "state": {
            "_view_name": "HBoxView",
            "_dom_classes": [],
            "_model_name": "HBoxModel",
            "_view_module": "@jupyter-widgets/controls",
            "_model_module_version": "1.5.0",
            "_view_count": null,
            "_view_module_version": "1.5.0",
            "box_style": "",
            "layout": "IPY_MODEL_0bcc1fb6f89849d0bf858e0624735e6d",
            "_model_module": "@jupyter-widgets/controls",
            "children": [
              "IPY_MODEL_66fbc5ef8a3d44b2b881ad67cd32d1ce",
              "IPY_MODEL_e016d7125de84e979a5585812cdc4ca7"
            ]
          }
        },
        "0bcc1fb6f89849d0bf858e0624735e6d": {
          "model_module": "@jupyter-widgets/base",
          "model_name": "LayoutModel",
          "state": {
            "_view_name": "LayoutView",
            "grid_template_rows": null,
            "right": null,
            "justify_content": null,
            "_view_module": "@jupyter-widgets/base",
            "overflow": null,
            "_model_module_version": "1.2.0",
            "_view_count": null,
            "flex_flow": null,
            "width": null,
            "min_width": null,
            "border": null,
            "align_items": null,
            "bottom": null,
            "_model_module": "@jupyter-widgets/base",
            "top": null,
            "grid_column": null,
            "overflow_y": null,
            "overflow_x": null,
            "grid_auto_flow": null,
            "grid_area": null,
            "grid_template_columns": null,
            "flex": null,
            "_model_name": "LayoutModel",
            "justify_items": null,
            "grid_row": null,
            "max_height": null,
            "align_content": null,
            "visibility": null,
            "align_self": null,
            "height": null,
            "min_height": null,
            "padding": null,
            "grid_auto_rows": null,
            "grid_gap": null,
            "max_width": null,
            "order": null,
            "_view_module_version": "1.2.0",
            "grid_template_areas": null,
            "object_position": null,
            "object_fit": null,
            "grid_auto_columns": null,
            "margin": null,
            "display": null,
            "left": null
          }
        },
        "66fbc5ef8a3d44b2b881ad67cd32d1ce": {
          "model_module": "@jupyter-widgets/controls",
          "model_name": "FloatProgressModel",
          "state": {
            "_view_name": "ProgressView",
            "style": "IPY_MODEL_3c099a122a124a3fa65888c566ce46b6",
            "_dom_classes": [],
            "description": "100%",
            "_model_name": "FloatProgressModel",
            "bar_style": "success",
            "max": 930,
            "_view_module": "@jupyter-widgets/controls",
            "_model_module_version": "1.5.0",
            "value": 930,
            "_view_count": null,
            "_view_module_version": "1.5.0",
            "orientation": "horizontal",
            "min": 0,
            "description_tooltip": null,
            "_model_module": "@jupyter-widgets/controls",
            "layout": "IPY_MODEL_4586b415ae0e474aba80dad0633f3612"
          }
        },
        "e016d7125de84e979a5585812cdc4ca7": {
          "model_module": "@jupyter-widgets/controls",
          "model_name": "HTMLModel",
          "state": {
            "_view_name": "HTMLView",
            "style": "IPY_MODEL_fb40406541764f588a9c36375090e90f",
            "_dom_classes": [],
            "description": "",
            "_model_name": "HTMLModel",
            "placeholder": "​",
            "_view_module": "@jupyter-widgets/controls",
            "_model_module_version": "1.5.0",
            "value": " 930/930 [09:46&lt;00:00,  1.59it/s]",
            "_view_count": null,
            "_view_module_version": "1.5.0",
            "description_tooltip": null,
            "_model_module": "@jupyter-widgets/controls",
            "layout": "IPY_MODEL_0c31dd9ad0ad4cc48ecc65fef0313a44"
          }
        },
        "3c099a122a124a3fa65888c566ce46b6": {
          "model_module": "@jupyter-widgets/controls",
          "model_name": "ProgressStyleModel",
          "state": {
            "_view_name": "StyleView",
            "_model_name": "ProgressStyleModel",
            "description_width": "initial",
            "_view_module": "@jupyter-widgets/base",
            "_model_module_version": "1.5.0",
            "_view_count": null,
            "_view_module_version": "1.2.0",
            "bar_color": null,
            "_model_module": "@jupyter-widgets/controls"
          }
        },
        "4586b415ae0e474aba80dad0633f3612": {
          "model_module": "@jupyter-widgets/base",
          "model_name": "LayoutModel",
          "state": {
            "_view_name": "LayoutView",
            "grid_template_rows": null,
            "right": null,
            "justify_content": null,
            "_view_module": "@jupyter-widgets/base",
            "overflow": null,
            "_model_module_version": "1.2.0",
            "_view_count": null,
            "flex_flow": null,
            "width": null,
            "min_width": null,
            "border": null,
            "align_items": null,
            "bottom": null,
            "_model_module": "@jupyter-widgets/base",
            "top": null,
            "grid_column": null,
            "overflow_y": null,
            "overflow_x": null,
            "grid_auto_flow": null,
            "grid_area": null,
            "grid_template_columns": null,
            "flex": null,
            "_model_name": "LayoutModel",
            "justify_items": null,
            "grid_row": null,
            "max_height": null,
            "align_content": null,
            "visibility": null,
            "align_self": null,
            "height": null,
            "min_height": null,
            "padding": null,
            "grid_auto_rows": null,
            "grid_gap": null,
            "max_width": null,
            "order": null,
            "_view_module_version": "1.2.0",
            "grid_template_areas": null,
            "object_position": null,
            "object_fit": null,
            "grid_auto_columns": null,
            "margin": null,
            "display": null,
            "left": null
          }
        },
        "fb40406541764f588a9c36375090e90f": {
          "model_module": "@jupyter-widgets/controls",
          "model_name": "DescriptionStyleModel",
          "state": {
            "_view_name": "StyleView",
            "_model_name": "DescriptionStyleModel",
            "description_width": "",
            "_view_module": "@jupyter-widgets/base",
            "_model_module_version": "1.5.0",
            "_view_count": null,
            "_view_module_version": "1.2.0",
            "_model_module": "@jupyter-widgets/controls"
          }
        },
        "0c31dd9ad0ad4cc48ecc65fef0313a44": {
          "model_module": "@jupyter-widgets/base",
          "model_name": "LayoutModel",
          "state": {
            "_view_name": "LayoutView",
            "grid_template_rows": null,
            "right": null,
            "justify_content": null,
            "_view_module": "@jupyter-widgets/base",
            "overflow": null,
            "_model_module_version": "1.2.0",
            "_view_count": null,
            "flex_flow": null,
            "width": null,
            "min_width": null,
            "border": null,
            "align_items": null,
            "bottom": null,
            "_model_module": "@jupyter-widgets/base",
            "top": null,
            "grid_column": null,
            "overflow_y": null,
            "overflow_x": null,
            "grid_auto_flow": null,
            "grid_area": null,
            "grid_template_columns": null,
            "flex": null,
            "_model_name": "LayoutModel",
            "justify_items": null,
            "grid_row": null,
            "max_height": null,
            "align_content": null,
            "visibility": null,
            "align_self": null,
            "height": null,
            "min_height": null,
            "padding": null,
            "grid_auto_rows": null,
            "grid_gap": null,
            "max_width": null,
            "order": null,
            "_view_module_version": "1.2.0",
            "grid_template_areas": null,
            "object_position": null,
            "object_fit": null,
            "grid_auto_columns": null,
            "margin": null,
            "display": null,
            "left": null
          }
        }
      }
    }
  },
  "cells": [
    {
      "cell_type": "markdown",
      "metadata": {
        "id": "zAVyOpG_ZCWw"
      },
      "source": [
        "## Лекция 3  NER"
      ]
    },
    {
      "cell_type": "markdown",
      "metadata": {
        "id": "VfLLPFW2ZCWz"
      },
      "source": [
        "### __Задача 1__:\n",
        "\n",
        "Реализуйте 2 функции препроцессинга:\n",
        "\n",
        "- Удалить именованные сущности с помощью natasha (https://github.com/natasha/yargy)\n",
        "- Удалить именованные сущности с помощью deepmipt (https://github.com/deepmipt/ner)"
      ]
    },
    {
      "cell_type": "code",
      "metadata": {
        "id": "2bUBsvzIcVq6"
      },
      "source": [
        "! pip install natasha"
      ],
      "execution_count": null,
      "outputs": []
    },
    {
      "cell_type": "code",
      "metadata": {
        "id": "0oLixk_vFtC4"
      },
      "source": [
        "! pip install deeppavlov"
      ],
      "execution_count": null,
      "outputs": []
    },
    {
      "cell_type": "code",
      "metadata": {
        "id": "TOPB6IdVdc2Y"
      },
      "source": [
        "text1 = \"\"\"Школа анализа данных за 25 млрд долларов возникла в 2007 году на улице Крылова, д. 6 с целью восполнить недостаток квалифицированных кадров на рынке труда, с которым столкнулся Яндекс в то время. 24.02.13 Научным руководителем ШАД стал профессор Ратгерского университета Илья Мучник, директором — Елена Бунина.\"\"\""
      ],
      "execution_count": null,
      "outputs": []
    },
    {
      "cell_type": "code",
      "metadata": {
        "id": "QTlBheXpdJeQ"
      },
      "source": [
        "from natasha import (\n",
        "    Segmenter,\n",
        "    MorphVocab,\n",
        "    \n",
        "    NewsEmbedding,\n",
        "    NewsMorphTagger,\n",
        "    NewsSyntaxParser,\n",
        "    NewsNERTagger,\n",
        "    \n",
        "    DatesExtractor,\n",
        "    MoneyExtractor,\n",
        "    AddrExtractor,\n",
        "    NamesExtractor,\n",
        "\n",
        "    Doc\n",
        ")\n",
        "\n",
        "segmenter = Segmenter()\n",
        "\n",
        "morph_vocab = MorphVocab()\n",
        "\n",
        "emb = NewsEmbedding()\n",
        "morph_tagger = NewsMorphTagger(emb)\n",
        "syntax_parser = NewsSyntaxParser(emb)\n",
        "ner_tagger = NewsNERTagger(emb)"
      ],
      "execution_count": null,
      "outputs": []
    },
    {
      "cell_type": "code",
      "metadata": {
        "id": "EPW0YETfscAG"
      },
      "source": [
        "dates_extractor = DatesExtractor(morph_vocab)\n",
        "money_extractor = MoneyExtractor(morph_vocab)\n",
        "addr_extractor = AddrExtractor(morph_vocab)"
      ],
      "execution_count": null,
      "outputs": []
    },
    {
      "cell_type": "code",
      "metadata": {
        "id": "wfTR7SO4ZCW2"
      },
      "source": [
        "def preprocess_with_natasha(text: str) -> str:\n",
        "    extractors = [\n",
        "              dates_extractor,\n",
        "              money_extractor,\n",
        "              addr_extractor\n",
        "    ]\n",
        "    \n",
        "    doc = Doc(text)\n",
        "\n",
        "    doc.segment(segmenter)\n",
        "    doc.tag_morph(morph_tagger)\n",
        "    doc.parse_syntax(syntax_parser)\n",
        "    doc.tag_ner(ner_tagger)\n",
        "\n",
        "    indices = []\n",
        "    for span in doc.spans:\n",
        "        if span.type == \"PER\":\n",
        "            indices.append((span.start, span.stop))\n",
        "    for pair in indices[::-1]:\n",
        "        text = text[:pair[0]] + text[pair[1]:]\n",
        "\n",
        "    for extractor in extractors:\n",
        "        idx = []\n",
        "        for match in extractor(text):\n",
        "            idx.append((match.start, match.stop))\n",
        "        for pair in idx[::-1]:\n",
        "            text = text[:pair[0]] + text[pair[1]:]\n",
        "    \n",
        "    return text"
      ],
      "execution_count": null,
      "outputs": []
    },
    {
      "cell_type": "code",
      "metadata": {
        "id": "VXsEU6w1EKmm"
      },
      "source": [
        "from deeppavlov import configs, build_model"
      ],
      "execution_count": null,
      "outputs": []
    },
    {
      "cell_type": "code",
      "metadata": {
        "id": "Nz2EhK-7foSW"
      },
      "source": [
        "! python -m deeppavlov install ner_rus_bert"
      ],
      "execution_count": null,
      "outputs": []
    },
    {
      "cell_type": "code",
      "metadata": {
        "id": "0Z1SSWX3IjR7"
      },
      "source": [
        "ner_model = build_model(configs.ner.ner_rus_bert, download=True)"
      ],
      "execution_count": null,
      "outputs": []
    },
    {
      "cell_type": "code",
      "metadata": {
        "id": "RBpaUzn7FUDu"
      },
      "source": [
        "! pip install razdel"
      ],
      "execution_count": null,
      "outputs": []
    },
    {
      "cell_type": "code",
      "metadata": {
        "id": "rkX-vHfiD2uW"
      },
      "source": [
        "from razdel import sentenize\n",
        "\n",
        "def preprocess_with_deeppavlov(text: str) -> str:\n",
        "    clean_text = []\n",
        "    sents = [j.text for j in sentenize(text)]\n",
        "    result = ner_model(sents)\n",
        "    for i in range(len(result[0])):\n",
        "        clean_text += [word for word, tag in zip(result[0][i], result[1][i]) if tag == 'O']\n",
        "    return ' '.join(clean_text)"
      ],
      "execution_count": null,
      "outputs": []
    },
    {
      "cell_type": "code",
      "metadata": {
        "id": "wkZENeMQDctr"
      },
      "source": [
        "import pymorphy2\n",
        "morph = pymorphy2.MorphAnalyzer()"
      ],
      "execution_count": null,
      "outputs": []
    },
    {
      "cell_type": "code",
      "metadata": {
        "id": "bFY7Q6_dLwSg",
        "colab": {
          "base_uri": "https://localhost:8080/",
          "height": 70
        },
        "outputId": "8b614815-1194-49ff-e265-0765c20ce671"
      },
      "source": [
        "import nltk\n",
        "nltk.download('stopwords')"
      ],
      "execution_count": null,
      "outputs": [
        {
          "output_type": "stream",
          "text": [
            "[nltk_data] Downloading package stopwords to /root/nltk_data...\n",
            "[nltk_data]   Package stopwords is already up-to-date!\n"
          ],
          "name": "stderr"
        },
        {
          "output_type": "execute_result",
          "data": {
            "text/plain": [
              "True"
            ]
          },
          "metadata": {
            "tags": []
          },
          "execution_count": 76
        }
      ]
    },
    {
      "cell_type": "code",
      "metadata": {
        "id": "mYvG5PuOL60_"
      },
      "source": [
        "from nltk.corpus import stopwords\n",
        "\n",
        "russian_stopwords = stopwords.words(\"russian\")"
      ],
      "execution_count": null,
      "outputs": []
    },
    {
      "cell_type": "code",
      "metadata": {
        "id": "nkyOQHzdDSdV"
      },
      "source": [
        "def preprocess(f):\n",
        "    sym = \"0123456789.,?!…:;()[]-—_|/\\\"'«»*{}<>@#$%^&№\"\n",
        "    s = []\n",
        "    words = f.strip().lower().split()\n",
        "    for word in words:\n",
        "        word = word.strip(sym)\n",
        "        if word != '':\n",
        "            word = morph.parse(word)[0].normal_form\n",
        "            if word not in russian_stopwords:\n",
        "                s.append(word)\n",
        "    return s"
      ],
      "execution_count": null,
      "outputs": []
    },
    {
      "cell_type": "code",
      "metadata": {
        "id": "1UkzE-B5XetB",
        "colab": {
          "base_uri": "https://localhost:8080/",
          "height": 53
        },
        "outputId": "42037e8c-163a-4cfd-8add-6e3904c5003a"
      },
      "source": [
        "preprocess_with_natasha(text1)"
      ],
      "execution_count": null,
      "outputs": [
        {
          "output_type": "execute_result",
          "data": {
            "application/vnd.google.colaboratory.intrinsic+json": {
              "type": "string"
            },
            "text/plain": [
              "'Школа анализа данных за  возникла в  на ,  целью восполнить недостаток квалифицированных кадров на рынке труда, с которым столкнулся Яндекс в то время.  Научным руководителем ШАД стал профессор Ратгерского университета , директором — .'"
            ]
          },
          "metadata": {
            "tags": []
          },
          "execution_count": 79
        }
      ]
    },
    {
      "cell_type": "code",
      "metadata": {
        "id": "8CubVrrWlPi-",
        "colab": {
          "base_uri": "https://localhost:8080/",
          "height": 53
        },
        "outputId": "a650a86f-5e03-48a0-f814-1ea45bb2ee7d"
      },
      "source": [
        "preprocess_with_deeppavlov(text1)"
      ],
      "execution_count": null,
      "outputs": [
        {
          "output_type": "execute_result",
          "data": {
            "application/vnd.google.colaboratory.intrinsic+json": {
              "type": "string"
            },
            "text/plain": [
              "'Школа анализа данных за 25 млрд долларов возникла в 2007 году на улице , д . 6 с целью восполнить недостаток квалифицированных кадров на рынке труда , с которым столкнулся в то время . 24 . 02 . 13 Научным руководителем стал профессор , директором — .'"
            ]
          },
          "metadata": {
            "tags": []
          },
          "execution_count": 80
        }
      ]
    },
    {
      "cell_type": "markdown",
      "metadata": {
        "id": "kt_5gvaiZCXT"
      },
      "source": [
        "### __Задача 2__:    \n",
        "На предыдущем занятии вы реализовывали функции поиска ближайших ответов на запросы через TF-IDF и BM25. \n",
        "Сравните качество нахождения верного ответа для обоих методов в трех случаях:\n",
        "- с функцией ```preprocess_with_natasha```\n",
        "- с функцией ```preprocess_with_deepmipt```\n",
        "- без препроцессинга\n",
        "\n",
        "Для измерения качества используйте метрику accuracy. Считаем, что ответ верный, если он входит в топ-1."
      ]
    },
    {
      "cell_type": "code",
      "metadata": {
        "id": "pfaLgX4_L_o3"
      },
      "source": [
        "import pandas as pd"
      ],
      "execution_count": null,
      "outputs": []
    },
    {
      "cell_type": "code",
      "metadata": {
        "id": "sVXMUOK0MJQj"
      },
      "source": [
        "ans = pd.read_excel('answers_base.xlsx')"
      ],
      "execution_count": null,
      "outputs": []
    },
    {
      "cell_type": "code",
      "metadata": {
        "id": "0No4ESzAMJUk",
        "colab": {
          "base_uri": "https://localhost:8080/",
          "height": 194
        },
        "outputId": "a73b0622-0a79-450e-9068-5a6712c16944"
      },
      "source": [
        "ans.head()"
      ],
      "execution_count": null,
      "outputs": [
        {
          "output_type": "execute_result",
          "data": {
            "text/html": [
              "<div>\n",
              "<style scoped>\n",
              "    .dataframe tbody tr th:only-of-type {\n",
              "        vertical-align: middle;\n",
              "    }\n",
              "\n",
              "    .dataframe tbody tr th {\n",
              "        vertical-align: top;\n",
              "    }\n",
              "\n",
              "    .dataframe thead th {\n",
              "        text-align: right;\n",
              "    }\n",
              "</style>\n",
              "<table border=\"1\" class=\"dataframe\">\n",
              "  <thead>\n",
              "    <tr style=\"text-align: right;\">\n",
              "      <th></th>\n",
              "      <th>Номер связки</th>\n",
              "      <th>Текст вопросов</th>\n",
              "      <th>Текст ответа</th>\n",
              "      <th>Тематика</th>\n",
              "    </tr>\n",
              "  </thead>\n",
              "  <tbody>\n",
              "    <tr>\n",
              "      <th>0</th>\n",
              "      <td>57</td>\n",
              "      <td>У ребенка в школе продлили каникулы. Могу ли я...</td>\n",
              "      <td>Листок временной нетрудоспособности (больничны...</td>\n",
              "      <td>БОЛЬНИЧНЫЙ ЛИСТ</td>\n",
              "    </tr>\n",
              "    <tr>\n",
              "      <th>1</th>\n",
              "      <td>78</td>\n",
              "      <td>Где сделать вакцинацию от коронавируса?\\nСущес...</td>\n",
              "      <td>Коронавирусы - это целое семейство вирусов, ко...</td>\n",
              "      <td>ВАКЦИНАЦИЯ</td>\n",
              "    </tr>\n",
              "    <tr>\n",
              "      <th>2</th>\n",
              "      <td>326</td>\n",
              "      <td>Сколько стоит сделать вакцину от гриппа?\\nМожн...</td>\n",
              "      <td>Бесплатно пройти вакцинацию можно в Вашей меди...</td>\n",
              "      <td>ВАКЦИНАЦИЯ</td>\n",
              "    </tr>\n",
              "    <tr>\n",
              "      <th>3</th>\n",
              "      <td>327</td>\n",
              "      <td>Могу я отказаться от вакцинации?\\nВ каких случ...</td>\n",
              "      <td>Согласно приказу Министерства здравоохранения ...</td>\n",
              "      <td>ВАКЦИНАЦИЯ</td>\n",
              "    </tr>\n",
              "    <tr>\n",
              "      <th>4</th>\n",
              "      <td>328</td>\n",
              "      <td>Безопасна ли вакцинация?\\nОпасна ли вакцинация...</td>\n",
              "      <td>В соответствии с пунктами 1 и 2 статьи 12 Феде...</td>\n",
              "      <td>ВАКЦИНАЦИЯ</td>\n",
              "    </tr>\n",
              "  </tbody>\n",
              "</table>\n",
              "</div>"
            ],
            "text/plain": [
              "   Номер связки  ...         Тематика\n",
              "0            57  ...  БОЛЬНИЧНЫЙ ЛИСТ\n",
              "1            78  ...       ВАКЦИНАЦИЯ\n",
              "2           326  ...       ВАКЦИНАЦИЯ\n",
              "3           327  ...       ВАКЦИНАЦИЯ\n",
              "4           328  ...       ВАКЦИНАЦИЯ\n",
              "\n",
              "[5 rows x 4 columns]"
            ]
          },
          "metadata": {
            "tags": []
          },
          "execution_count": 3
        }
      ]
    },
    {
      "cell_type": "code",
      "metadata": {
        "id": "RHGgqlK1Tly6"
      },
      "source": [
        "answers = pd.DataFrame(ans[['Номер связки', 'Текст ответа']])"
      ],
      "execution_count": null,
      "outputs": []
    },
    {
      "cell_type": "code",
      "metadata": {
        "id": "6w3rwTSpvWbr"
      },
      "source": [
        "ans['Вопросы'] = ans['Текст вопросов'].apply(lambda text: text.split('\\n'))"
      ],
      "execution_count": null,
      "outputs": []
    },
    {
      "cell_type": "code",
      "metadata": {
        "id": "OtjxfMA_vHjA"
      },
      "source": [
        "ans = ans.explode('Вопросы')"
      ],
      "execution_count": null,
      "outputs": []
    },
    {
      "cell_type": "code",
      "metadata": {
        "id": "RreTUjJkVZJe"
      },
      "source": [
        "ans.reset_index(drop=True, inplace=True)\n",
        "ans.drop(['Текст вопросов', 'Текст ответа', 'Тематика'], axis=1, inplace=True)"
      ],
      "execution_count": null,
      "outputs": []
    },
    {
      "cell_type": "code",
      "metadata": {
        "id": "Gmab1TcaUW36",
        "colab": {
          "base_uri": "https://localhost:8080/",
          "height": 194
        },
        "outputId": "c864e87a-c7c6-4e5f-a3c1-a3816a7c4c22"
      },
      "source": [
        "ans.head()"
      ],
      "execution_count": null,
      "outputs": [
        {
          "output_type": "execute_result",
          "data": {
            "text/html": [
              "<div>\n",
              "<style scoped>\n",
              "    .dataframe tbody tr th:only-of-type {\n",
              "        vertical-align: middle;\n",
              "    }\n",
              "\n",
              "    .dataframe tbody tr th {\n",
              "        vertical-align: top;\n",
              "    }\n",
              "\n",
              "    .dataframe thead th {\n",
              "        text-align: right;\n",
              "    }\n",
              "</style>\n",
              "<table border=\"1\" class=\"dataframe\">\n",
              "  <thead>\n",
              "    <tr style=\"text-align: right;\">\n",
              "      <th></th>\n",
              "      <th>Номер связки</th>\n",
              "      <th>Вопросы</th>\n",
              "    </tr>\n",
              "  </thead>\n",
              "  <tbody>\n",
              "    <tr>\n",
              "      <th>0</th>\n",
              "      <td>57</td>\n",
              "      <td>У ребенка в школе продлили каникулы. Могу ли я...</td>\n",
              "    </tr>\n",
              "    <tr>\n",
              "      <th>1</th>\n",
              "      <td>57</td>\n",
              "      <td>Больничный лист?</td>\n",
              "    </tr>\n",
              "    <tr>\n",
              "      <th>2</th>\n",
              "      <td>57</td>\n",
              "      <td>Есть ли компенсация, в случае если есть разниц...</td>\n",
              "    </tr>\n",
              "    <tr>\n",
              "      <th>3</th>\n",
              "      <td>57</td>\n",
              "      <td>как оплачивается больничный при коронавирусе?</td>\n",
              "    </tr>\n",
              "    <tr>\n",
              "      <th>4</th>\n",
              "      <td>57</td>\n",
              "      <td>Я контактный, дадут ли больничный?</td>\n",
              "    </tr>\n",
              "  </tbody>\n",
              "</table>\n",
              "</div>"
            ],
            "text/plain": [
              "   Номер связки                                            Вопросы\n",
              "0            57  У ребенка в школе продлили каникулы. Могу ли я...\n",
              "1            57                                   Больничный лист?\n",
              "2            57  Есть ли компенсация, в случае если есть разниц...\n",
              "3            57      как оплачивается больничный при коронавирусе?\n",
              "4            57                 Я контактный, дадут ли больничный?"
            ]
          },
          "metadata": {
            "tags": []
          },
          "execution_count": 8
        }
      ]
    },
    {
      "cell_type": "code",
      "metadata": {
        "id": "IfrDDnV0W32F"
      },
      "source": [
        "q = pd.read_excel('queries_base.xlsx', usecols='A, B', names=['Вопросы', 'Номер связки'])"
      ],
      "execution_count": null,
      "outputs": []
    },
    {
      "cell_type": "code",
      "metadata": {
        "id": "mOlzb1rBXA1p"
      },
      "source": [
        "q = q[['Номер связки', 'Вопросы']]"
      ],
      "execution_count": null,
      "outputs": []
    },
    {
      "cell_type": "code",
      "metadata": {
        "id": "_HX5q8YF8l7w"
      },
      "source": [
        "data = pd.concat([ans, q], ignore_index=True)"
      ],
      "execution_count": null,
      "outputs": []
    },
    {
      "cell_type": "code",
      "metadata": {
        "id": "pi4zPbK3N5l1"
      },
      "source": [
        "data['Preprocessed'] = data['Вопросы'].apply(lambda text: ' '.join(preprocess(str(text))))"
      ],
      "execution_count": null,
      "outputs": []
    },
    {
      "cell_type": "code",
      "metadata": {
        "id": "xDAv2sDxAm5M"
      },
      "source": [
        "from tqdm.auto import tqdm"
      ],
      "execution_count": null,
      "outputs": []
    },
    {
      "cell_type": "code",
      "metadata": {
        "id": "h-960UnTAm5R"
      },
      "source": [
        "tqdm.pandas()"
      ],
      "execution_count": null,
      "outputs": []
    },
    {
      "cell_type": "code",
      "metadata": {
        "id": "8BdhTQpT3oxa",
        "colab": {
          "base_uri": "https://localhost:8080/",
          "height": 67,
          "referenced_widgets": [
            "8c1b78eb373e4c2c9573ba158227b039",
            "ae0d807f31584efc9fc9ffbda515a72a",
            "46cdedf9f70845be9dcf069322911e97",
            "09e3682e9c1d404097eedb3167680057",
            "2c3ad5c8df3246b4987945ba1de3bdba",
            "16fbd0a0f2554ff498b3109df6b3efe1",
            "1b325d28e61d46b9ab8bd992a4052c29",
            "2c4177317f4d42c3a425810da38d19cc"
          ]
        },
        "outputId": "4056e3e5-e5ae-43e7-bfe4-18112af5a876"
      },
      "source": [
        "data['Natasha'] = data['Вопросы'].progress_apply(lambda text: ' '.join(preprocess(preprocess_with_natasha(str(text)))))"
      ],
      "execution_count": null,
      "outputs": [
        {
          "output_type": "display_data",
          "data": {
            "application/vnd.jupyter.widget-view+json": {
              "model_id": "8c1b78eb373e4c2c9573ba158227b039",
              "version_minor": 0,
              "version_major": 2
            },
            "text/plain": [
              "HBox(children=(FloatProgress(value=0.0, max=3080.0), HTML(value='')))"
            ]
          },
          "metadata": {
            "tags": []
          }
        },
        {
          "output_type": "stream",
          "text": [
            "\n"
          ],
          "name": "stdout"
        }
      ]
    },
    {
      "cell_type": "code",
      "metadata": {
        "id": "GtPgwmtEt8BW",
        "colab": {
          "base_uri": "https://localhost:8080/",
          "height": 35
        },
        "outputId": "295aebff-7247-4de1-b24f-200439f4bddc"
      },
      "source": [
        "data.shape"
      ],
      "execution_count": null,
      "outputs": [
        {
          "output_type": "execute_result",
          "data": {
            "text/plain": [
              "(3080, 4)"
            ]
          },
          "metadata": {
            "tags": []
          },
          "execution_count": 64
        }
      ]
    },
    {
      "cell_type": "code",
      "metadata": {
        "id": "WhauFtdSt975",
        "colab": {
          "base_uri": "https://localhost:8080/",
          "height": 35
        },
        "outputId": "62b0b6ab-291d-4543-d5b0-6a78c5ad8579"
      },
      "source": [
        "len(data[data.Preprocessed != data.Natasha]) # кол-во текстов, из которых были удалены сущности Natasha"
      ],
      "execution_count": null,
      "outputs": [
        {
          "output_type": "execute_result",
          "data": {
            "text/plain": [
              "1625"
            ]
          },
          "metadata": {
            "tags": []
          },
          "execution_count": 86
        }
      ]
    },
    {
      "cell_type": "code",
      "metadata": {
        "id": "c5lUcmLv4nbE",
        "colab": {
          "base_uri": "https://localhost:8080/",
          "referenced_widgets": [
            "7115e8aa91814d06aecff39a42f25d1c"
          ]
        },
        "outputId": "441e261f-40ad-42ee-a854-5054b867486a"
      },
      "source": [
        "data['DeepPavlov'] = data['Вопросы'].progress_apply(lambda text: ' '.join(preprocess(preprocess_with_deeppavlov(str(text)))))"
      ],
      "execution_count": null,
      "outputs": [
        {
          "output_type": "display_data",
          "data": {
            "application/vnd.jupyter.widget-view+json": {
              "model_id": "7115e8aa91814d06aecff39a42f25d1c",
              "version_minor": 0,
              "version_major": 2
            },
            "text/plain": [
              "HBox(children=(FloatProgress(value=0.0, max=3080.0), HTML(value='')))"
            ]
          },
          "metadata": {
            "tags": []
          }
        },
        {
          "output_type": "stream",
          "text": [
            "\n"
          ],
          "name": "stdout"
        }
      ]
    },
    {
      "cell_type": "code",
      "metadata": {
        "id": "vy-8nz1G5ed6",
        "colab": {
          "base_uri": "https://localhost:8080/",
          "height": 194
        },
        "outputId": "9a07f799-9dc7-4279-dd14-a694e350149e"
      },
      "source": [
        "data.head()"
      ],
      "execution_count": null,
      "outputs": [
        {
          "output_type": "execute_result",
          "data": {
            "text/html": [
              "<div>\n",
              "<style scoped>\n",
              "    .dataframe tbody tr th:only-of-type {\n",
              "        vertical-align: middle;\n",
              "    }\n",
              "\n",
              "    .dataframe tbody tr th {\n",
              "        vertical-align: top;\n",
              "    }\n",
              "\n",
              "    .dataframe thead th {\n",
              "        text-align: right;\n",
              "    }\n",
              "</style>\n",
              "<table border=\"1\" class=\"dataframe\">\n",
              "  <thead>\n",
              "    <tr style=\"text-align: right;\">\n",
              "      <th></th>\n",
              "      <th>Номер связки</th>\n",
              "      <th>Вопросы</th>\n",
              "      <th>Preprocessed</th>\n",
              "      <th>Natasha</th>\n",
              "      <th>DeepPavlov</th>\n",
              "    </tr>\n",
              "  </thead>\n",
              "  <tbody>\n",
              "    <tr>\n",
              "      <th>0</th>\n",
              "      <td>57.0</td>\n",
              "      <td>У ребенка в школе продлили каникулы. Могу ли я...</td>\n",
              "      <td>ребёнок школа продлить каникулы мочь взять бол...</td>\n",
              "      <td>ребёнок школа продлить каникулы мочь взять бол...</td>\n",
              "      <td>ребёнок школа продлить каникулы мочь взять бол...</td>\n",
              "    </tr>\n",
              "    <tr>\n",
              "      <th>1</th>\n",
              "      <td>57.0</td>\n",
              "      <td>Больничный лист?</td>\n",
              "      <td>больничный лист</td>\n",
              "      <td>больничный лист</td>\n",
              "      <td>больничный лист</td>\n",
              "    </tr>\n",
              "    <tr>\n",
              "      <th>2</th>\n",
              "      <td>57.0</td>\n",
              "      <td>Есть ли компенсация, в случае если есть разниц...</td>\n",
              "      <td>компенсация случай разница оплата больничный з...</td>\n",
              "      <td>компенсация случай разница оплата больничный з...</td>\n",
              "      <td>компенсация случай разница оплата больничный з...</td>\n",
              "    </tr>\n",
              "    <tr>\n",
              "      <th>3</th>\n",
              "      <td>57.0</td>\n",
              "      <td>как оплачивается больничный при коронавирусе?</td>\n",
              "      <td>оплачиваться больничный коронавирус</td>\n",
              "      <td>оплачиваться больничный коронавирус</td>\n",
              "      <td>оплачиваться больничный коронавирус</td>\n",
              "    </tr>\n",
              "    <tr>\n",
              "      <th>4</th>\n",
              "      <td>57.0</td>\n",
              "      <td>Я контактный, дадут ли больничный?</td>\n",
              "      <td>контактный дать больничный</td>\n",
              "      <td>контактный дать больничный</td>\n",
              "      <td>контактный дать больничный</td>\n",
              "    </tr>\n",
              "  </tbody>\n",
              "</table>\n",
              "</div>"
            ],
            "text/plain": [
              "   Номер связки  ...                                         DeepPavlov\n",
              "0          57.0  ...  ребёнок школа продлить каникулы мочь взять бол...\n",
              "1          57.0  ...                                    больничный лист\n",
              "2          57.0  ...  компенсация случай разница оплата больничный з...\n",
              "3          57.0  ...                оплачиваться больничный коронавирус\n",
              "4          57.0  ...                         контактный дать больничный\n",
              "\n",
              "[5 rows x 5 columns]"
            ]
          },
          "metadata": {
            "tags": []
          },
          "execution_count": 83
        }
      ]
    },
    {
      "cell_type": "code",
      "metadata": {
        "id": "aimPjWuW5ucS",
        "colab": {
          "base_uri": "https://localhost:8080/",
          "height": 35
        },
        "outputId": "836070b5-2739-4c44-cd4e-1da6e888d284"
      },
      "source": [
        "len(data[data.Preprocessed != data.DeepPavlov]) # кол-во текстов, из которых были удалены сущности DP"
      ],
      "execution_count": null,
      "outputs": [
        {
          "output_type": "execute_result",
          "data": {
            "text/plain": [
              "2060"
            ]
          },
          "metadata": {
            "tags": []
          },
          "execution_count": 85
        }
      ]
    },
    {
      "cell_type": "code",
      "metadata": {
        "id": "XwEbJw6wzcX8"
      },
      "source": [
        "data.to_excel('data.xlsx')"
      ],
      "execution_count": null,
      "outputs": []
    },
    {
      "cell_type": "code",
      "metadata": {
        "id": "tzGXEXnfROgO"
      },
      "source": [
        "from sklearn.feature_extraction.text import TfidfVectorizer\n",
        "import numpy as np"
      ],
      "execution_count": null,
      "outputs": []
    },
    {
      "cell_type": "code",
      "metadata": {
        "id": "Iq3es24eQoiG"
      },
      "source": [
        "def make_tfidf(corpus):\n",
        "    vectorizer = TfidfVectorizer(stop_words=russian_stopwords)\n",
        "    X = vectorizer.fit_transform(corpus)\n",
        "    tfidf = pd.DataFrame(X.A, columns=vectorizer.get_feature_names())\n",
        "    return tfidf, vectorizer\n",
        "\n",
        "\n",
        "def get_similar(query, vectorizer, tfidf_matrix, corpus):\n",
        "    query_tfidf = vectorizer.transform([query]).toarray()\n",
        "    result = tfidf_matrix.to_numpy().dot(query_tfidf.transpose())\n",
        "    for i in np.argsort(result, axis=0)[::-1].transpose()[0]:\n",
        "        return corpus.loc[i, 'Номер связки']"
      ],
      "execution_count": null,
      "outputs": []
    },
    {
      "cell_type": "code",
      "metadata": {
        "id": "-RhOHPoG9719"
      },
      "source": [
        "data_train, data_test = data[:2150], data[2150:]"
      ],
      "execution_count": null,
      "outputs": []
    },
    {
      "cell_type": "code",
      "metadata": {
        "id": "W5VRuMlTRD9y"
      },
      "source": [
        "tfidf_p, vec_p = make_tfidf(data_train.Preprocessed)\n",
        "data_test['TfIdf_Pred'] = data_test.apply(lambda x: get_similar(x.Preprocessed, vec_p, tfidf_p, data_train), axis=1)"
      ],
      "execution_count": null,
      "outputs": []
    },
    {
      "cell_type": "code",
      "metadata": {
        "id": "AnINJ8Jvd_nc"
      },
      "source": [
        "tfidf_n, vec_n = make_tfidf(data_train.Natasha)\n",
        "data_test['TfIdf_Natasha_Pred'] = data_test.apply(lambda x: get_similar(x.Natasha, vec_n, tfidf_n, data_train), axis=1)"
      ],
      "execution_count": null,
      "outputs": []
    },
    {
      "cell_type": "code",
      "metadata": {
        "id": "9Tucte1seqa1"
      },
      "source": [
        "tfidf_d, vec_d = make_tfidf(data_train.DeepPavlov)\n",
        "data_test['TfIdf_DP_Pred'] = data_test.apply(lambda x: get_similar(x.DeepPavlov, vec_d, tfidf_d, data_train), axis=1)"
      ],
      "execution_count": null,
      "outputs": []
    },
    {
      "cell_type": "code",
      "metadata": {
        "id": "SkYH18DG6wvs",
        "colab": {
          "base_uri": "https://localhost:8080/",
          "height": 295
        },
        "outputId": "cdf71d13-a847-45e7-c62f-c91622254494"
      },
      "source": [
        "data_test.sample(5)"
      ],
      "execution_count": null,
      "outputs": [
        {
          "output_type": "execute_result",
          "data": {
            "text/html": [
              "<div>\n",
              "<style scoped>\n",
              "    .dataframe tbody tr th:only-of-type {\n",
              "        vertical-align: middle;\n",
              "    }\n",
              "\n",
              "    .dataframe tbody tr th {\n",
              "        vertical-align: top;\n",
              "    }\n",
              "\n",
              "    .dataframe thead th {\n",
              "        text-align: right;\n",
              "    }\n",
              "</style>\n",
              "<table border=\"1\" class=\"dataframe\">\n",
              "  <thead>\n",
              "    <tr style=\"text-align: right;\">\n",
              "      <th></th>\n",
              "      <th>Номер связки</th>\n",
              "      <th>Вопросы</th>\n",
              "      <th>Preprocessed</th>\n",
              "      <th>Natasha</th>\n",
              "      <th>DeepPavlov</th>\n",
              "      <th>TfIdf_Pred</th>\n",
              "      <th>TfIdf_Natasha_Pred</th>\n",
              "      <th>TfIdf_DP_Pred</th>\n",
              "    </tr>\n",
              "  </thead>\n",
              "  <tbody>\n",
              "    <tr>\n",
              "      <th>2339</th>\n",
              "      <td>6.0</td>\n",
              "      <td>пн, 24 авг. 2020 г., 21:23 Илхомжон Абдукахоро...</td>\n",
              "      <td>пн авг год илхомжон абдукахор abdukahorovilhom...</td>\n",
              "      <td>пн авг abdukahorovilhomzon@gmail.com резултать...</td>\n",
              "      <td>пн авг год gmail com резултать анализ отправит...</td>\n",
              "      <td>308.0</td>\n",
              "      <td>308.0</td>\n",
              "      <td>308.0</td>\n",
              "    </tr>\n",
              "    <tr>\n",
              "      <th>2926</th>\n",
              "      <td>308.0</td>\n",
              "      <td>Заблаговременно заполнили и отправили анкету д...</td>\n",
              "      <td>заблаговременно заполнить отправить анкета пре...</td>\n",
              "      <td>заблаговременно заполнить отправить анкета пре...</td>\n",
              "      <td>заблаговременно заполнить отправить анкета пре...</td>\n",
              "      <td>308.0</td>\n",
              "      <td>308.0</td>\n",
              "      <td>308.0</td>\n",
              "    </tr>\n",
              "    <tr>\n",
              "      <th>2395</th>\n",
              "      <td>308.0</td>\n",
              "      <td>Добрый день!\\nЕсли туристы по прилёту в РФ из ...</td>\n",
              "      <td>добрый день турист прилёт рф турция успеть уло...</td>\n",
              "      <td>добрый день турист прилёт турция успеть уложит...</td>\n",
              "      <td>добрый день турист прилёт успеть уложиться х д...</td>\n",
              "      <td>308.0</td>\n",
              "      <td>308.0</td>\n",
              "      <td>308.0</td>\n",
              "    </tr>\n",
              "    <tr>\n",
              "      <th>2732</th>\n",
              "      <td>37.0</td>\n",
              "      <td>Добрый день. Необходимо ли в Нижегородской обл...</td>\n",
              "      <td>добрый день необходимый нижегородский область ...</td>\n",
              "      <td>добрый день необходимый возобновление деятельн...</td>\n",
              "      <td>добрый день необходимый возобновление деятельн...</td>\n",
              "      <td>286.0</td>\n",
              "      <td>286.0</td>\n",
              "      <td>286.0</td>\n",
              "    </tr>\n",
              "    <tr>\n",
              "      <th>2851</th>\n",
              "      <td>324.0</td>\n",
              "      <td>Здравствуйте! Мы планируем поездку в санаторий...</td>\n",
              "      <td>здравствовать планировать поездка санаторий им...</td>\n",
              "      <td>здравствовать планировать поездка санаторий им...</td>\n",
              "      <td>здравствовать планировать поездка санаторий го...</td>\n",
              "      <td>324.0</td>\n",
              "      <td>324.0</td>\n",
              "      <td>324.0</td>\n",
              "    </tr>\n",
              "  </tbody>\n",
              "</table>\n",
              "</div>"
            ],
            "text/plain": [
              "      Номер связки  ... TfIdf_DP_Pred\n",
              "2339           6.0  ...         308.0\n",
              "2926         308.0  ...         308.0\n",
              "2395         308.0  ...         308.0\n",
              "2732          37.0  ...         286.0\n",
              "2851         324.0  ...         324.0\n",
              "\n",
              "[5 rows x 8 columns]"
            ]
          },
          "metadata": {
            "tags": []
          },
          "execution_count": 156
        }
      ]
    },
    {
      "cell_type": "code",
      "metadata": {
        "id": "ismj-UH-f0Xa"
      },
      "source": [
        "from sklearn.feature_extraction.text import CountVectorizer\n",
        "from math import log"
      ],
      "execution_count": null,
      "outputs": []
    },
    {
      "cell_type": "code",
      "metadata": {
        "id": "L7hru6M8V0Km"
      },
      "source": [
        "def bm25(item, avgdl, ld, k=2.0, b=0.75) -> float:\n",
        "    score = (item * (k + 1)) / (item + k * (1 - b + ((b * ld) / avgdl)))\n",
        "    return score\n",
        "\n",
        "\n",
        "def get_bm(N, tf, avgdl, ld):\n",
        "    bm = np.zeros((N, tf.shape[1]))\n",
        "    for i in range(N):\n",
        "        bm[i] = [bm25(word[i], avgdl, ld[i]) for word in tf.T]\n",
        "    return bm\n",
        "\n",
        "\n",
        "def get_similar_bm(query, vectorizer, corpus, bm, idf):\n",
        "    query_vec = vectorizer.transform([query]).toarray() * idf\n",
        "    result = bm.dot(query_vec.transpose())\n",
        "    \n",
        "    for i in np.argsort(result, axis=0)[::-1].transpose()[0]:\n",
        "        return corpus.iloc[i]['Номер связки']"
      ],
      "execution_count": null,
      "outputs": []
    },
    {
      "cell_type": "code",
      "metadata": {
        "id": "FkNnqzy3hPES"
      },
      "source": [
        "k = 2.0\n",
        "b = 0.75"
      ],
      "execution_count": null,
      "outputs": []
    },
    {
      "cell_type": "code",
      "metadata": {
        "id": "4D-Zz1aWvCY2"
      },
      "source": [
        "data_train.Preprocessed.fillna('', inplace=True)\n",
        "\n",
        "corpus = data_train.Preprocessed\n",
        "\n",
        "count_vectorizer = CountVectorizer()\n",
        "tf = count_vectorizer.fit_transform(corpus).toarray()\n",
        "\n",
        "N = len(tf)\n",
        "lens = 0\n",
        "ld = []\n",
        "for text in corpus:\n",
        "    l = len(text.split())\n",
        "    lens += l\n",
        "    ld.append(l)\n",
        "avgdl = lens / N\n",
        "ld = np.array(ld)\n",
        "\n",
        "n_qi = [len(word.nonzero()[0]) for word in tf.T]\n",
        "idf = [log((N - n_qi[i] + 0.5)/(n_qi[i] + 0.5)) for i in range(len(n_qi))]"
      ],
      "execution_count": null,
      "outputs": []
    },
    {
      "cell_type": "code",
      "metadata": {
        "id": "e2Vp7mL6vCZK"
      },
      "source": [
        "bm = get_bm(N, tf, avgdl, ld)"
      ],
      "execution_count": null,
      "outputs": []
    },
    {
      "cell_type": "code",
      "metadata": {
        "id": "E5FfdnsPvCZU",
        "colab": {
          "base_uri": "https://localhost:8080/",
          "height": 35
        },
        "outputId": "db6a834d-f2bc-40ad-f1e0-630ca7874d5a"
      },
      "source": [
        "bm.shape"
      ],
      "execution_count": null,
      "outputs": [
        {
          "output_type": "execute_result",
          "data": {
            "text/plain": [
              "(2150, 5833)"
            ]
          },
          "metadata": {
            "tags": []
          },
          "execution_count": 162
        }
      ]
    },
    {
      "cell_type": "code",
      "metadata": {
        "id": "oJDaQDBgvCZc"
      },
      "source": [
        "data_test['BM25_Pred'] = data_test.apply(lambda x: get_similar_bm(x.Preprocessed, count_vectorizer, data_train, bm, idf), axis=1)"
      ],
      "execution_count": null,
      "outputs": []
    },
    {
      "cell_type": "code",
      "metadata": {
        "id": "t-2Z48-Ozmz3"
      },
      "source": [
        "data_train.Natasha.fillna('', inplace=True)\n",
        "\n",
        "corpus_n = data_train.Natasha\n",
        "\n",
        "count_vectorizer_n = CountVectorizer()\n",
        "tf_n = count_vectorizer_n.fit_transform(corpus_n).toarray()\n",
        "\n",
        "N_n = len(tf_n)\n",
        "lens_n = 0\n",
        "ld_n = []\n",
        "for text in corpus_n:\n",
        "    l = len(text.split())\n",
        "    lens_n += l\n",
        "    ld_n.append(l)\n",
        "avgdl_n = lens_n / N_n\n",
        "ld_n = np.array(ld_n)\n",
        "\n",
        "n_qi_n = [len(word.nonzero()[0]) for word in tf_n.T]\n",
        "idf_n = [log((N_n - n_qi_n[i] + 0.5)/(n_qi_n[i] + 0.5)) for i in range(len(n_qi_n))]"
      ],
      "execution_count": null,
      "outputs": []
    },
    {
      "cell_type": "code",
      "metadata": {
        "id": "XOXYc64_azLn"
      },
      "source": [
        "bm_n = get_bm(N_n, tf_n, avgdl_n, ld_n)"
      ],
      "execution_count": null,
      "outputs": []
    },
    {
      "cell_type": "code",
      "metadata": {
        "id": "D-JRRcV5eRWJ",
        "colab": {
          "base_uri": "https://localhost:8080/",
          "height": 35
        },
        "outputId": "fd6f593b-bc3c-4ada-b9d8-833348addcee"
      },
      "source": [
        "bm_n.shape"
      ],
      "execution_count": null,
      "outputs": [
        {
          "output_type": "execute_result",
          "data": {
            "text/plain": [
              "(2150, 5063)"
            ]
          },
          "metadata": {
            "tags": []
          },
          "execution_count": 166
        }
      ]
    },
    {
      "cell_type": "code",
      "metadata": {
        "id": "Ck-A7IwY2fCF"
      },
      "source": [
        "data_test['BM25_Natasha_Pred'] = data_test.apply(lambda x: get_similar_bm(x.Natasha, count_vectorizer_n, data_train, bm_n, idf_n), axis=1)"
      ],
      "execution_count": null,
      "outputs": []
    },
    {
      "cell_type": "code",
      "metadata": {
        "id": "xK68RzAqxPnB"
      },
      "source": [
        "data_train.DeepPavlov.fillna('', inplace=True)\n",
        "\n",
        "corpus_d = data_train.DeepPavlov\n",
        "\n",
        "count_vectorizer_d = CountVectorizer()\n",
        "tf_d = count_vectorizer_d.fit_transform(corpus_d).toarray()\n",
        "\n",
        "N_d = len(tf_d)\n",
        "lens_d = 0\n",
        "ld_d = []\n",
        "for text in corpus_d:\n",
        "    l = len(text.split())\n",
        "    lens_d += l\n",
        "    ld_d.append(l)\n",
        "avgdl_d = lens_d / N_d\n",
        "ld_d = np.array(ld_d)\n",
        "\n",
        "n_qi_d = [len(word.nonzero()[0]) for word in tf_d.T]\n",
        "idf_d = [log((N_d - n_qi_d[i] + 0.5)/(n_qi_d[i] + 0.5)) for i in range(len(n_qi_d))]"
      ],
      "execution_count": null,
      "outputs": []
    },
    {
      "cell_type": "code",
      "metadata": {
        "id": "vCIqpNnmxPnV"
      },
      "source": [
        "bm_d = get_bm(N_d, tf_d, avgdl_d, ld_d)"
      ],
      "execution_count": null,
      "outputs": []
    },
    {
      "cell_type": "code",
      "metadata": {
        "id": "EFBjg0xqxPnj",
        "colab": {
          "base_uri": "https://localhost:8080/",
          "height": 35
        },
        "outputId": "d90d1394-1db8-4d58-d353-09f6230a7d67"
      },
      "source": [
        "bm_d.shape"
      ],
      "execution_count": null,
      "outputs": [
        {
          "output_type": "execute_result",
          "data": {
            "text/plain": [
              "(2150, 4378)"
            ]
          },
          "metadata": {
            "tags": []
          },
          "execution_count": 170
        }
      ]
    },
    {
      "cell_type": "code",
      "metadata": {
        "id": "Ofqvhy4exPns"
      },
      "source": [
        "data_test['BM25_DP_Pred'] = data_test.apply(lambda x: get_similar_bm(x.DeepPavlov, count_vectorizer_d, data_train, bm_d, idf_d), axis=1)"
      ],
      "execution_count": null,
      "outputs": []
    },
    {
      "cell_type": "code",
      "metadata": {
        "id": "w4xFvosX68gJ",
        "colab": {
          "base_uri": "https://localhost:8080/",
          "height": 380
        },
        "outputId": "bfced34d-386b-4348-f613-bf0061519470"
      },
      "source": [
        "data_test.sample(5)"
      ],
      "execution_count": null,
      "outputs": [
        {
          "output_type": "execute_result",
          "data": {
            "text/html": [
              "<div>\n",
              "<style scoped>\n",
              "    .dataframe tbody tr th:only-of-type {\n",
              "        vertical-align: middle;\n",
              "    }\n",
              "\n",
              "    .dataframe tbody tr th {\n",
              "        vertical-align: top;\n",
              "    }\n",
              "\n",
              "    .dataframe thead th {\n",
              "        text-align: right;\n",
              "    }\n",
              "</style>\n",
              "<table border=\"1\" class=\"dataframe\">\n",
              "  <thead>\n",
              "    <tr style=\"text-align: right;\">\n",
              "      <th></th>\n",
              "      <th>Номер связки</th>\n",
              "      <th>Вопросы</th>\n",
              "      <th>Preprocessed</th>\n",
              "      <th>Natasha</th>\n",
              "      <th>DeepPavlov</th>\n",
              "      <th>TfIdf_Pred</th>\n",
              "      <th>TfIdf_Natasha_Pred</th>\n",
              "      <th>TfIdf_DP_Pred</th>\n",
              "      <th>BM25_Pred</th>\n",
              "      <th>BM25_Natasha_Pred</th>\n",
              "      <th>BM25_DP_Pred</th>\n",
              "    </tr>\n",
              "  </thead>\n",
              "  <tbody>\n",
              "    <tr>\n",
              "      <th>2244</th>\n",
              "      <td>308.0</td>\n",
              "      <td>Добрый день! Я являюсь иностранным гражданином...</td>\n",
              "      <td>добрый день являться иностранный гражданин рф ...</td>\n",
              "      <td>добрый день являться иностранный гражданин име...</td>\n",
              "      <td>добрый день являться иностранный гражданин име...</td>\n",
              "      <td>308.0</td>\n",
              "      <td>308.0</td>\n",
              "      <td>308.0</td>\n",
              "      <td>308.0</td>\n",
              "      <td>308.0</td>\n",
              "      <td>308.0</td>\n",
              "    </tr>\n",
              "    <tr>\n",
              "      <th>2793</th>\n",
              "      <td>70.0</td>\n",
              "      <td>Здравствуйте! \\nПравомерны ли действия со рудн...</td>\n",
              "      <td>здравствовать правомерный действие рудник служ...</td>\n",
              "      <td>здравствовать правомерный действие рудник служ...</td>\n",
              "      <td>здравствовать правомерный действие рудник служ...</td>\n",
              "      <td>70.0</td>\n",
              "      <td>70.0</td>\n",
              "      <td>70.0</td>\n",
              "      <td>70.0</td>\n",
              "      <td>70.0</td>\n",
              "      <td>70.0</td>\n",
              "    </tr>\n",
              "    <tr>\n",
              "      <th>2789</th>\n",
              "      <td>308.0</td>\n",
              "      <td>Добрый день. Могу ли я после поездки за границ...</td>\n",
              "      <td>добрый день мочь поездка граница сдать обязате...</td>\n",
              "      <td>добрый день мочь поездка граница сдать обязате...</td>\n",
              "      <td>добрый день мочь поездка граница сдать обязате...</td>\n",
              "      <td>6.0</td>\n",
              "      <td>6.0</td>\n",
              "      <td>6.0</td>\n",
              "      <td>308.0</td>\n",
              "      <td>308.0</td>\n",
              "      <td>308.0</td>\n",
              "    </tr>\n",
              "    <tr>\n",
              "      <th>2261</th>\n",
              "      <td>1.0</td>\n",
              "      <td>Здравствуйте! Ответьте, пожалуйста, на следующ...</td>\n",
              "      <td>здравствовать ответить пожалуйста следующий во...</td>\n",
              "      <td>здравствовать ответить пожалуйста следующий во...</td>\n",
              "      <td>здравствовать ответить пожалуйста следующий во...</td>\n",
              "      <td>74.0</td>\n",
              "      <td>74.0</td>\n",
              "      <td>74.0</td>\n",
              "      <td>74.0</td>\n",
              "      <td>74.0</td>\n",
              "      <td>74.0</td>\n",
              "    </tr>\n",
              "    <tr>\n",
              "      <th>2176</th>\n",
              "      <td>308.0</td>\n",
              "      <td>Добрый день, мама прибыла вывозным рейсом сего...</td>\n",
              "      <td>добрый день мама прибыть вывозной рейс сегодня...</td>\n",
              "      <td>добрый день мама прибыть вывозной рейс сегодня...</td>\n",
              "      <td>добрый день мама прибыть вывозной рейс сегодня...</td>\n",
              "      <td>308.0</td>\n",
              "      <td>308.0</td>\n",
              "      <td>308.0</td>\n",
              "      <td>308.0</td>\n",
              "      <td>308.0</td>\n",
              "      <td>308.0</td>\n",
              "    </tr>\n",
              "  </tbody>\n",
              "</table>\n",
              "</div>"
            ],
            "text/plain": [
              "      Номер связки  ... BM25_DP_Pred\n",
              "2244         308.0  ...        308.0\n",
              "2793          70.0  ...         70.0\n",
              "2789         308.0  ...        308.0\n",
              "2261           1.0  ...         74.0\n",
              "2176         308.0  ...        308.0\n",
              "\n",
              "[5 rows x 11 columns]"
            ]
          },
          "metadata": {
            "tags": []
          },
          "execution_count": 172
        }
      ]
    },
    {
      "cell_type": "markdown",
      "metadata": {
        "id": "XAkr_Zec0k1J"
      },
      "source": [
        "Accuracy для TF-IDF без удаления NER:"
      ]
    },
    {
      "cell_type": "code",
      "metadata": {
        "id": "wUpEXuFG7JHS"
      },
      "source": [
        "results = {}"
      ],
      "execution_count": null,
      "outputs": []
    },
    {
      "cell_type": "code",
      "metadata": {
        "id": "aXHhmfXuk_Qy"
      },
      "source": [
        "results['tfidf_pred'] = len(data_test[data_test['Номер связки'] == data_test.TfIdf_Pred]) / len(data_test)"
      ],
      "execution_count": null,
      "outputs": []
    },
    {
      "cell_type": "markdown",
      "metadata": {
        "id": "w922BvzZ0xd0"
      },
      "source": [
        "Accuracy для TF-IDF после удаления NER с помощью Natasha:"
      ]
    },
    {
      "cell_type": "code",
      "metadata": {
        "id": "80VIMgOklK3B"
      },
      "source": [
        "results['tfidf_natasha_pred'] = len(data_test[data_test['Номер связки'] == data_test.TfIdf_Natasha_Pred]) / len(data_test)"
      ],
      "execution_count": null,
      "outputs": []
    },
    {
      "cell_type": "markdown",
      "metadata": {
        "id": "brcU9y4X0x4W"
      },
      "source": [
        "Accuracy для TF-IDF после удаления NER с помощью DeepPavlov:"
      ]
    },
    {
      "cell_type": "code",
      "metadata": {
        "id": "7h6s5pLelK7T"
      },
      "source": [
        "results['tfidf_dp_pred'] = len(data_test[data_test['Номер связки'] == data_test.TfIdf_DP_Pred]) / len(data_test)"
      ],
      "execution_count": null,
      "outputs": []
    },
    {
      "cell_type": "markdown",
      "metadata": {
        "id": "GjVfbhEa1Djz"
      },
      "source": [
        "Accuracy для BM25 без удаления NER"
      ]
    },
    {
      "cell_type": "code",
      "metadata": {
        "id": "t64VBqrpzzcS"
      },
      "source": [
        "results['bm25_pred'] = len(data_test[data_test['Номер связки'] == data_test.BM25_Pred]) / len(data_test)"
      ],
      "execution_count": null,
      "outputs": []
    },
    {
      "cell_type": "markdown",
      "metadata": {
        "id": "tPkvPsbS1Gl3"
      },
      "source": [
        "Accuracy для BM25 после удаления NER с помощью Natasha"
      ]
    },
    {
      "cell_type": "code",
      "metadata": {
        "id": "REpAEF-Ozzcr"
      },
      "source": [
        "results['bm25_natasha_pred'] = len(data_test[data_test['Номер связки'] == data_test.BM25_Natasha_Pred]) / len(data_test)"
      ],
      "execution_count": null,
      "outputs": []
    },
    {
      "cell_type": "markdown",
      "metadata": {
        "id": "KBvisGmQ1Lyu"
      },
      "source": [
        "Accuracy для BM25 после удаления NER с помощью DeepPavlov"
      ]
    },
    {
      "cell_type": "code",
      "metadata": {
        "id": "0HfflSZ3zzcz"
      },
      "source": [
        "results['bm25_dp_pred'] = len(data_test[data_test['Номер связки'] == data_test.BM25_DP_Pred]) / len(data_test)"
      ],
      "execution_count": null,
      "outputs": []
    },
    {
      "cell_type": "code",
      "metadata": {
        "id": "pgsx4OHS9Yjy"
      },
      "source": [
        "d = {'method':list(results.keys()), 'accuracy':list(results.values())}"
      ],
      "execution_count": null,
      "outputs": []
    },
    {
      "cell_type": "code",
      "metadata": {
        "id": "yLSB0xoU8SCd"
      },
      "source": [
        "acc = pd.DataFrame.from_dict(d)"
      ],
      "execution_count": null,
      "outputs": []
    },
    {
      "cell_type": "code",
      "metadata": {
        "id": "FDXi_sJVF-Mb",
        "colab": {
          "base_uri": "https://localhost:8080/",
          "height": 223
        },
        "outputId": "ead2c92e-95d7-408b-9203-52f176833b02"
      },
      "source": [
        "acc"
      ],
      "execution_count": null,
      "outputs": [
        {
          "output_type": "execute_result",
          "data": {
            "text/html": [
              "<div>\n",
              "<style scoped>\n",
              "    .dataframe tbody tr th:only-of-type {\n",
              "        vertical-align: middle;\n",
              "    }\n",
              "\n",
              "    .dataframe tbody tr th {\n",
              "        vertical-align: top;\n",
              "    }\n",
              "\n",
              "    .dataframe thead th {\n",
              "        text-align: right;\n",
              "    }\n",
              "</style>\n",
              "<table border=\"1\" class=\"dataframe\">\n",
              "  <thead>\n",
              "    <tr style=\"text-align: right;\">\n",
              "      <th></th>\n",
              "      <th>method</th>\n",
              "      <th>accuracy</th>\n",
              "    </tr>\n",
              "  </thead>\n",
              "  <tbody>\n",
              "    <tr>\n",
              "      <th>0</th>\n",
              "      <td>tfidf_pred</td>\n",
              "      <td>0.497849</td>\n",
              "    </tr>\n",
              "    <tr>\n",
              "      <th>1</th>\n",
              "      <td>tfidf_natasha_pred</td>\n",
              "      <td>0.490323</td>\n",
              "    </tr>\n",
              "    <tr>\n",
              "      <th>2</th>\n",
              "      <td>tfidf_dp_pred</td>\n",
              "      <td>0.474194</td>\n",
              "    </tr>\n",
              "    <tr>\n",
              "      <th>3</th>\n",
              "      <td>bm25_pred</td>\n",
              "      <td>0.540860</td>\n",
              "    </tr>\n",
              "    <tr>\n",
              "      <th>4</th>\n",
              "      <td>bm25_natasha_pred</td>\n",
              "      <td>0.536559</td>\n",
              "    </tr>\n",
              "    <tr>\n",
              "      <th>5</th>\n",
              "      <td>bm25_dp_pred</td>\n",
              "      <td>0.529032</td>\n",
              "    </tr>\n",
              "  </tbody>\n",
              "</table>\n",
              "</div>"
            ],
            "text/plain": [
              "               method  accuracy\n",
              "0          tfidf_pred  0.497849\n",
              "1  tfidf_natasha_pred  0.490323\n",
              "2       tfidf_dp_pred  0.474194\n",
              "3           bm25_pred  0.540860\n",
              "4   bm25_natasha_pred  0.536559\n",
              "5        bm25_dp_pred  0.529032"
            ]
          },
          "metadata": {
            "tags": []
          },
          "execution_count": 195
        }
      ]
    },
    {
      "cell_type": "markdown",
      "metadata": {
        "id": "4aQUV7xLZCXW"
      },
      "source": [
        "### __Задача 3__:    \n",
        "Улучшить правила в natasha. Написать правила, которые ловят даты в следующих примерах и пересчитать статистику из Задачи 2:\n",
        "- Уехал 8-9 ноября в Сочи\n",
        "- Уезжаю 5 числа                           \n",
        "- 20го сентября заболел\n",
        "\n",
        "Пример можно посмотреть тут: https://github.com/natasha/yargy"
      ]
    },
    {
      "cell_type": "code",
      "metadata": {
        "id": "BH-kAzgP3aht",
        "colab": {
          "base_uri": "https://localhost:8080/",
          "height": 106
        },
        "outputId": "2465c372-0dc8-4a97-e756-4b751b318184"
      },
      "source": [
        "! pip install yargy"
      ],
      "execution_count": null,
      "outputs": [
        {
          "output_type": "stream",
          "text": [
            "Requirement already satisfied: yargy in /usr/local/lib/python3.6/dist-packages (0.14.0)\n",
            "Requirement already satisfied: pymorphy2 in /usr/local/lib/python3.6/dist-packages (from yargy) (0.8)\n",
            "Requirement already satisfied: docopt>=0.6 in /usr/local/lib/python3.6/dist-packages (from pymorphy2->yargy) (0.6.2)\n",
            "Requirement already satisfied: dawg-python>=0.7 in /usr/local/lib/python3.6/dist-packages (from pymorphy2->yargy) (0.7.2)\n",
            "Requirement already satisfied: pymorphy2-dicts<3.0,>=2.4 in /usr/local/lib/python3.6/dist-packages (from pymorphy2->yargy) (2.4.393442.3710985)\n"
          ],
          "name": "stdout"
        }
      ]
    },
    {
      "cell_type": "code",
      "metadata": {
        "id": "75QGW7HMZCXY"
      },
      "source": [
        "from yargy import Parser, rule, and_, or_\n",
        "from yargy.interpretation import fact\n",
        "from yargy.predicates import (\n",
        "    lte,\n",
        "    gte,\n",
        "    caseless,\n",
        "    dictionary\n",
        ")\n",
        "\n",
        "Date = fact(\n",
        "    'Date',\n",
        "    ['year', 'month', 'day']\n",
        ")\n",
        "\n",
        "MONTHS = {\n",
        "    'январь',\n",
        "    'февраль',\n",
        "    'март',\n",
        "    'апрель',\n",
        "    'май',\n",
        "    'июнь',\n",
        "    'июль',\n",
        "    'август',\n",
        "    'сентябрь',\n",
        "    'октябрь',\n",
        "    'ноябрь',\n",
        "    'декабрь'\n",
        "}\n",
        "\n",
        "MONTH_NAME = dictionary(MONTHS)\n",
        "DAY = and_(\n",
        "    gte(1),\n",
        "    lte(31)\n",
        ")\n",
        "DATE = or_(\n",
        "    rule(\n",
        "        DAY.interpretation(\n",
        "            Date.day\n",
        "            ),\n",
        "        'го',\n",
        "        MONTH_NAME.interpretation(\n",
        "            Date.month\n",
        "        )\n",
        "    ),\n",
        "    rule(\n",
        "        DAY.interpretation(\n",
        "            Date.day\n",
        "            ),\n",
        "         caseless('числа')\n",
        "    ),\n",
        "    rule(\n",
        "        DAY.interpretation(\n",
        "            Date.day\n",
        "            ),\n",
        "        '-',\n",
        "        DAY.interpretation(\n",
        "            Date.day\n",
        "            ),\n",
        "        MONTH_NAME.interpretation(\n",
        "            Date.month\n",
        "        )\n",
        "    )\n",
        ").named('DATE')\n",
        "parser = Parser(DATE)"
      ],
      "execution_count": null,
      "outputs": []
    },
    {
      "cell_type": "code",
      "metadata": {
        "id": "Qk_mdTsUWfEV"
      },
      "source": [
        "import yargy\n",
        "from natasha import (\n",
        "    Segmenter,\n",
        "    MorphVocab,\n",
        "    \n",
        "    NewsEmbedding,\n",
        "    NewsMorphTagger,\n",
        "    NewsSyntaxParser,\n",
        "    NewsNERTagger,\n",
        "    \n",
        "    PER,\n",
        "    DatesExtractor,\n",
        "    MoneyExtractor,\n",
        "    AddrExtractor,\n",
        "\n",
        "    Doc\n",
        ")\n",
        "\n",
        "segmenter = Segmenter()\n",
        "\n",
        "morph_vocab = MorphVocab()\n",
        "\n",
        "emb = NewsEmbedding()\n",
        "morph_tagger = NewsMorphTagger(emb)\n",
        "syntax_parser = NewsSyntaxParser(emb)\n",
        "ner_tagger = NewsNERTagger(emb)"
      ],
      "execution_count": null,
      "outputs": []
    },
    {
      "cell_type": "code",
      "metadata": {
        "id": "8_dsJTGmWfEn"
      },
      "source": [
        "dates_extractor = DatesExtractor(morph_vocab)\n",
        "money_extractor = MoneyExtractor(morph_vocab)\n",
        "addr_extractor = AddrExtractor(morph_vocab)"
      ],
      "execution_count": null,
      "outputs": []
    },
    {
      "cell_type": "code",
      "metadata": {
        "id": "ouSci0zOWfEv"
      },
      "source": [
        "extractors = [\n",
        "              dates_extractor,\n",
        "              money_extractor,\n",
        "              addr_extractor,\n",
        "]\n",
        "\n",
        "def preprocess_with_natasha(text: str) -> str:\n",
        "\n",
        "    doc = Doc(text)\n",
        "\n",
        "    doc.segment(segmenter)\n",
        "    doc.tag_morph(morph_tagger)\n",
        "    doc.parse_syntax(syntax_parser)\n",
        "    doc.tag_ner(ner_tagger)\n",
        "\n",
        "    id = []\n",
        "    for match in parser.findall(text):\n",
        "        id.append((match.span.start, match.span.stop))\n",
        "    for pair in sorted(id)[::-1]:\n",
        "        text = text[:pair[0]] + text[pair[1]:]\n",
        "\n",
        "    indices = []\n",
        "    for span in doc.spans:\n",
        "        if span.type == \"PER\":\n",
        "            indices.append((span.start, span.stop))\n",
        "    for pair in sorted(indices)[::-1]:\n",
        "        text = text[:pair[0]] + text[pair[1]:]\n",
        "\n",
        "    for extractor in extractors:\n",
        "        idx = []\n",
        "        for match in list(extractor(text)):\n",
        "            idx.append((match.start, match.stop))\n",
        "        for pair in sorted(idx)[::-1]:\n",
        "            text = text[:pair[0]] + text[pair[1]:]\n",
        "    \n",
        "    return text"
      ],
      "execution_count": null,
      "outputs": []
    },
    {
      "cell_type": "code",
      "metadata": {
        "id": "jyVZ0xDQYOn7",
        "colab": {
          "base_uri": "https://localhost:8080/",
          "height": 173,
          "referenced_widgets": [
            "50315e6966f04f378ddc406fb6cbe32f",
            "10cb11cd33374d6bb7aa7ce9179da9be",
            "9b5b2f394e2644ff9c25b5950eec7967",
            "f47499c315ee459a814614b28a65a988",
            "5e8d4a86c2754fa88cd6b05d252590d7",
            "aaa7126ac6d74c87a4748024d40c86d2",
            "0da231b5763c49a39920348ef7d218cf",
            "c6aad883b1154a1b9b9a6f3b864d14a4"
          ]
        },
        "outputId": "f89dc9c3-f5cb-4205-b389-64482179d1a1"
      },
      "source": [
        "data_train['Natasha_New'] = data_train['Вопросы'].progress_apply(lambda text: ' '.join(preprocess(preprocess_with_natasha(str(text)))))"
      ],
      "execution_count": null,
      "outputs": [
        {
          "output_type": "display_data",
          "data": {
            "application/vnd.jupyter.widget-view+json": {
              "model_id": "50315e6966f04f378ddc406fb6cbe32f",
              "version_minor": 0,
              "version_major": 2
            },
            "text/plain": [
              "HBox(children=(FloatProgress(value=0.0, max=2150.0), HTML(value='')))"
            ]
          },
          "metadata": {
            "tags": []
          }
        },
        {
          "output_type": "stream",
          "text": [
            "\n"
          ],
          "name": "stdout"
        },
        {
          "output_type": "stream",
          "text": [
            "/usr/local/lib/python3.6/dist-packages/ipykernel_launcher.py:1: SettingWithCopyWarning: \n",
            "A value is trying to be set on a copy of a slice from a DataFrame.\n",
            "Try using .loc[row_indexer,col_indexer] = value instead\n",
            "\n",
            "See the caveats in the documentation: http://pandas.pydata.org/pandas-docs/stable/user_guide/indexing.html#returning-a-view-versus-a-copy\n",
            "  \"\"\"Entry point for launching an IPython kernel.\n"
          ],
          "name": "stderr"
        }
      ]
    },
    {
      "cell_type": "code",
      "metadata": {
        "id": "cd6HpSN-YgPS",
        "colab": {
          "base_uri": "https://localhost:8080/",
          "height": 173,
          "referenced_widgets": [
            "86a0d7d8d81547c1ab825a4de06f2ec1",
            "0bcc1fb6f89849d0bf858e0624735e6d",
            "66fbc5ef8a3d44b2b881ad67cd32d1ce",
            "e016d7125de84e979a5585812cdc4ca7",
            "3c099a122a124a3fa65888c566ce46b6",
            "4586b415ae0e474aba80dad0633f3612",
            "fb40406541764f588a9c36375090e90f",
            "0c31dd9ad0ad4cc48ecc65fef0313a44"
          ]
        },
        "outputId": "76c856bb-1d0e-4266-ec5d-31c9340a2e69"
      },
      "source": [
        "data_test['Natasha_New'] = data_test['Вопросы'].progress_apply(lambda text: ' '.join(preprocess(preprocess_with_natasha(str(text)))))"
      ],
      "execution_count": null,
      "outputs": [
        {
          "output_type": "display_data",
          "data": {
            "application/vnd.jupyter.widget-view+json": {
              "model_id": "86a0d7d8d81547c1ab825a4de06f2ec1",
              "version_minor": 0,
              "version_major": 2
            },
            "text/plain": [
              "HBox(children=(FloatProgress(value=0.0, max=930.0), HTML(value='')))"
            ]
          },
          "metadata": {
            "tags": []
          }
        },
        {
          "output_type": "stream",
          "text": [
            "\n"
          ],
          "name": "stdout"
        },
        {
          "output_type": "stream",
          "text": [
            "/usr/local/lib/python3.6/dist-packages/ipykernel_launcher.py:1: SettingWithCopyWarning: \n",
            "A value is trying to be set on a copy of a slice from a DataFrame.\n",
            "Try using .loc[row_indexer,col_indexer] = value instead\n",
            "\n",
            "See the caveats in the documentation: http://pandas.pydata.org/pandas-docs/stable/user_guide/indexing.html#returning-a-view-versus-a-copy\n",
            "  \"\"\"Entry point for launching an IPython kernel.\n"
          ],
          "name": "stderr"
        }
      ]
    },
    {
      "cell_type": "code",
      "metadata": {
        "id": "sCbjdUBDYgPd"
      },
      "source": [
        "tfidf_nn, vec_nn = make_tfidf(data_train.Natasha_New)\n",
        "data_test['TfIdf_Natasha_New_Pred'] = data_test.apply(lambda x: get_similar(x.Natasha_New, vec_nn, tfidf_nn, data_train), axis=1)"
      ],
      "execution_count": null,
      "outputs": []
    },
    {
      "cell_type": "code",
      "metadata": {
        "id": "sEo1tPtyZBAP"
      },
      "source": [
        "data_train.Natasha_New.fillna('', inplace=True)\n",
        "\n",
        "corpus_nn = data_train.Natasha_New\n",
        "\n",
        "count_vectorizer_nn = CountVectorizer()\n",
        "tf_nn = count_vectorizer_nn.fit_transform(corpus_nn).toarray()\n",
        "\n",
        "N_nn = len(tf_nn)\n",
        "lens_nn = 0\n",
        "ld_nn = []\n",
        "for text in corpus_nn:\n",
        "    l = len(text.split())\n",
        "    lens_nn += l\n",
        "    ld_nn.append(l)\n",
        "avgdl_nn = lens_nn / N_nn\n",
        "ld_nn = np.array(ld_nn)\n",
        "\n",
        "n_qi_nn = [len(word.nonzero()[0]) for word in tf_nn.T]\n",
        "idf_nn = [log((N_nn - n_qi_nn[i] + 0.5)/(n_qi_nn[i] + 0.5)) for i in range(len(n_qi_nn))]"
      ],
      "execution_count": null,
      "outputs": []
    },
    {
      "cell_type": "code",
      "metadata": {
        "id": "khWbh8CmZBAq"
      },
      "source": [
        "bm_nn = get_bm(N_nn, tf_nn, avgdl_nn, ld_nn)"
      ],
      "execution_count": null,
      "outputs": []
    },
    {
      "cell_type": "code",
      "metadata": {
        "id": "ygPCIwjNZBA4",
        "colab": {
          "base_uri": "https://localhost:8080/",
          "height": 35
        },
        "outputId": "04feb2c5-c2c7-47ce-bc56-124c4c1da9b4"
      },
      "source": [
        "bm_nn.shape"
      ],
      "execution_count": null,
      "outputs": [
        {
          "output_type": "execute_result",
          "data": {
            "text/plain": [
              "(2150, 5080)"
            ]
          },
          "metadata": {
            "tags": []
          },
          "execution_count": 191
        }
      ]
    },
    {
      "cell_type": "code",
      "metadata": {
        "id": "RJqpQDT0ZBBL",
        "colab": {
          "base_uri": "https://localhost:8080/",
          "height": 124
        },
        "outputId": "e9d3783f-2c0a-4bce-98a0-a2eefc77b394"
      },
      "source": [
        "data_test['BM25_Natasha_New_Pred'] = data_test.apply(lambda x: get_similar_bm(x.Natasha_New, count_vectorizer_nn, data_train, bm_nn, idf_nn), axis=1)"
      ],
      "execution_count": null,
      "outputs": [
        {
          "output_type": "stream",
          "text": [
            "/usr/local/lib/python3.6/dist-packages/ipykernel_launcher.py:1: SettingWithCopyWarning: \n",
            "A value is trying to be set on a copy of a slice from a DataFrame.\n",
            "Try using .loc[row_indexer,col_indexer] = value instead\n",
            "\n",
            "See the caveats in the documentation: http://pandas.pydata.org/pandas-docs/stable/user_guide/indexing.html#returning-a-view-versus-a-copy\n",
            "  \"\"\"Entry point for launching an IPython kernel.\n"
          ],
          "name": "stderr"
        }
      ]
    },
    {
      "cell_type": "code",
      "metadata": {
        "id": "gDJSuv1TZcIU",
        "colab": {
          "base_uri": "https://localhost:8080/",
          "height": 816
        },
        "outputId": "d57c63f4-0da7-4e7f-faa4-86aab32e4178"
      },
      "source": [
        "data_test.sample(10)"
      ],
      "execution_count": null,
      "outputs": [
        {
          "output_type": "execute_result",
          "data": {
            "text/html": [
              "<div>\n",
              "<style scoped>\n",
              "    .dataframe tbody tr th:only-of-type {\n",
              "        vertical-align: middle;\n",
              "    }\n",
              "\n",
              "    .dataframe tbody tr th {\n",
              "        vertical-align: top;\n",
              "    }\n",
              "\n",
              "    .dataframe thead th {\n",
              "        text-align: right;\n",
              "    }\n",
              "</style>\n",
              "<table border=\"1\" class=\"dataframe\">\n",
              "  <thead>\n",
              "    <tr style=\"text-align: right;\">\n",
              "      <th></th>\n",
              "      <th>Номер связки</th>\n",
              "      <th>Вопросы</th>\n",
              "      <th>Preprocessed</th>\n",
              "      <th>Natasha</th>\n",
              "      <th>DeepPavlov</th>\n",
              "      <th>TfIdf_Pred</th>\n",
              "      <th>TfIdf_Natasha_Pred</th>\n",
              "      <th>TfIdf_DP_Pred</th>\n",
              "      <th>BM25_Pred</th>\n",
              "      <th>BM25_Natasha_Pred</th>\n",
              "      <th>BM25_DP_Pred</th>\n",
              "      <th>Natasha_New</th>\n",
              "      <th>TfIdf_Natasha_New_Pred</th>\n",
              "      <th>BM25_Natasha_New_Pred</th>\n",
              "    </tr>\n",
              "  </thead>\n",
              "  <tbody>\n",
              "    <tr>\n",
              "      <th>2998</th>\n",
              "      <td>308.0</td>\n",
              "      <td>Доброе утро, я со своей женой 1 сентября приле...</td>\n",
              "      <td>добрый утро свой жена сентябрь прилететь грани...</td>\n",
              "      <td>добрый утро свой жена прилететь граница турция...</td>\n",
              "      <td>добрый утро свой жена сентябрь прилететь грани...</td>\n",
              "      <td>12.0</td>\n",
              "      <td>12.0</td>\n",
              "      <td>12.0</td>\n",
              "      <td>12.0</td>\n",
              "      <td>12.0</td>\n",
              "      <td>12.0</td>\n",
              "      <td>добрый утро свой жена прилететь граница турция...</td>\n",
              "      <td>12.0</td>\n",
              "      <td>12.0</td>\n",
              "    </tr>\n",
              "    <tr>\n",
              "      <th>2946</th>\n",
              "      <td>286.0</td>\n",
              "      <td>Добрый день. Меня интересует такой вопрос. В н...</td>\n",
              "      <td>добрый день интересовать вопрос настоящий моме...</td>\n",
              "      <td>добрый день интересовать вопрос настоящий моме...</td>\n",
              "      <td>добрый день интересовать вопрос настоящий моме...</td>\n",
              "      <td>5.0</td>\n",
              "      <td>5.0</td>\n",
              "      <td>5.0</td>\n",
              "      <td>1.0</td>\n",
              "      <td>5.0</td>\n",
              "      <td>1.0</td>\n",
              "      <td>добрый день интересовать вопрос настоящий моме...</td>\n",
              "      <td>5.0</td>\n",
              "      <td>5.0</td>\n",
              "    </tr>\n",
              "    <tr>\n",
              "      <th>2535</th>\n",
              "      <td>308.0</td>\n",
              "      <td>Добрый день! Проконсультируйте пожалуйста, как...</td>\n",
              "      <td>добрый день проконсультировать пожалуйста дейс...</td>\n",
              "      <td>добрый день проконсультировать пожалуйста дейс...</td>\n",
              "      <td>добрый день проконсультировать пожалуйста дейс...</td>\n",
              "      <td>308.0</td>\n",
              "      <td>308.0</td>\n",
              "      <td>308.0</td>\n",
              "      <td>308.0</td>\n",
              "      <td>308.0</td>\n",
              "      <td>308.0</td>\n",
              "      <td>добрый день проконсультировать пожалуйста дейс...</td>\n",
              "      <td>308.0</td>\n",
              "      <td>308.0</td>\n",
              "    </tr>\n",
              "    <tr>\n",
              "      <th>2702</th>\n",
              "      <td>308.0</td>\n",
              "      <td>--Добрый вечер! Скажите пожалуйста, нужно ли с...</td>\n",
              "      <td>добрый вечер сказать пожалуйста нужно сдавать ...</td>\n",
              "      <td>добрый вечер сказать пожалуйста нужно сдавать ...</td>\n",
              "      <td>добрый вечер сказать пожалуйста нужно сдавать ...</td>\n",
              "      <td>308.0</td>\n",
              "      <td>308.0</td>\n",
              "      <td>308.0</td>\n",
              "      <td>308.0</td>\n",
              "      <td>308.0</td>\n",
              "      <td>308.0</td>\n",
              "      <td>добрый вечер сказать пожалуйста нужно сдавать ...</td>\n",
              "      <td>308.0</td>\n",
              "      <td>308.0</td>\n",
              "    </tr>\n",
              "    <tr>\n",
              "      <th>2937</th>\n",
              "      <td>257.0</td>\n",
              "      <td>Добрый день! \\nСкажите, пожалуйста, как получи...</td>\n",
              "      <td>добрый день сказать пожалуйста получить уведом...</td>\n",
              "      <td>добрый день сказать пожалуйста получить уведом...</td>\n",
              "      <td>добрый день сказать пожалуйста получить уведом...</td>\n",
              "      <td>6.0</td>\n",
              "      <td>6.0</td>\n",
              "      <td>6.0</td>\n",
              "      <td>1.0</td>\n",
              "      <td>1.0</td>\n",
              "      <td>1.0</td>\n",
              "      <td>добрый день сказать пожалуйста получить уведом...</td>\n",
              "      <td>6.0</td>\n",
              "      <td>1.0</td>\n",
              "    </tr>\n",
              "    <tr>\n",
              "      <th>2927</th>\n",
              "      <td>308.0</td>\n",
              "      <td>Добрый день.\\n\\nПодскажите пожалуйста, при воз...</td>\n",
              "      <td>добрый день подсказать пожалуйста возвращение ...</td>\n",
              "      <td>добрый день подсказать пожалуйста возвращение ...</td>\n",
              "      <td>добрый день подсказать пожалуйста возвращение ...</td>\n",
              "      <td>173.0</td>\n",
              "      <td>173.0</td>\n",
              "      <td>173.0</td>\n",
              "      <td>308.0</td>\n",
              "      <td>308.0</td>\n",
              "      <td>173.0</td>\n",
              "      <td>добрый день подсказать пожалуйста возвращение ...</td>\n",
              "      <td>173.0</td>\n",
              "      <td>308.0</td>\n",
              "    </tr>\n",
              "    <tr>\n",
              "      <th>3031</th>\n",
              "      <td>308.0</td>\n",
              "      <td>Добрый день, подскажите пожалуйста. Если иност...</td>\n",
              "      <td>добрый день подсказать пожалуйста иностранный ...</td>\n",
              "      <td>добрый день подсказать пожалуйста иностранный ...</td>\n",
              "      <td>добрый день подсказать пожалуйста иностранный ...</td>\n",
              "      <td>308.0</td>\n",
              "      <td>308.0</td>\n",
              "      <td>308.0</td>\n",
              "      <td>308.0</td>\n",
              "      <td>308.0</td>\n",
              "      <td>308.0</td>\n",
              "      <td>добрый день подсказать пожалуйста иностранный ...</td>\n",
              "      <td>308.0</td>\n",
              "      <td>308.0</td>\n",
              "    </tr>\n",
              "    <tr>\n",
              "      <th>2802</th>\n",
              "      <td>308.0</td>\n",
              "      <td>Здравствуйте! В воскресенье прилетаю из Турции...</td>\n",
              "      <td>здравствовать воскресение прилетать турция сда...</td>\n",
              "      <td>здравствовать воскресение прилетать турция сда...</td>\n",
              "      <td>здравствовать воскресение прилетать сдавать ма...</td>\n",
              "      <td>308.0</td>\n",
              "      <td>135.0</td>\n",
              "      <td>135.0</td>\n",
              "      <td>308.0</td>\n",
              "      <td>308.0</td>\n",
              "      <td>135.0</td>\n",
              "      <td>здравствовать воскресение прилетать турция сда...</td>\n",
              "      <td>135.0</td>\n",
              "      <td>308.0</td>\n",
              "    </tr>\n",
              "    <tr>\n",
              "      <th>2759</th>\n",
              "      <td>6.0</td>\n",
              "      <td>Здравствуйте! 27 августа у трёх членов нашей с...</td>\n",
              "      <td>здравствовать август член наш семья взять тест...</td>\n",
              "      <td>здравствовать член наш семья взять тест корона...</td>\n",
              "      <td>здравствовать август член наш семья взять тест...</td>\n",
              "      <td>6.0</td>\n",
              "      <td>6.0</td>\n",
              "      <td>6.0</td>\n",
              "      <td>6.0</td>\n",
              "      <td>6.0</td>\n",
              "      <td>6.0</td>\n",
              "      <td>здравствовать член наш семья взять тест корона...</td>\n",
              "      <td>6.0</td>\n",
              "      <td>6.0</td>\n",
              "    </tr>\n",
              "    <tr>\n",
              "      <th>2803</th>\n",
              "      <td>308.0</td>\n",
              "      <td>Добрый вечер, 31.08. с детьми вернулись из Абх...</td>\n",
              "      <td>добрый вечер ребёнок вернуться абхазия ребёнок...</td>\n",
              "      <td>добрый вечер ребёнок вернуться абхазия ребёнок...</td>\n",
              "      <td>добрый вечер ребёнок вернуться ребёнок учиться...</td>\n",
              "      <td>94.0</td>\n",
              "      <td>10.0</td>\n",
              "      <td>10.0</td>\n",
              "      <td>94.0</td>\n",
              "      <td>57.0</td>\n",
              "      <td>57.0</td>\n",
              "      <td>добрый вечер ребёнок вернуться абхазия ребёнок...</td>\n",
              "      <td>10.0</td>\n",
              "      <td>57.0</td>\n",
              "    </tr>\n",
              "  </tbody>\n",
              "</table>\n",
              "</div>"
            ],
            "text/plain": [
              "      Номер связки  ... BM25_Natasha_New_Pred\n",
              "2998         308.0  ...                  12.0\n",
              "2946         286.0  ...                   5.0\n",
              "2535         308.0  ...                 308.0\n",
              "2702         308.0  ...                 308.0\n",
              "2937         257.0  ...                   1.0\n",
              "2927         308.0  ...                 308.0\n",
              "3031         308.0  ...                 308.0\n",
              "2802         308.0  ...                 308.0\n",
              "2759           6.0  ...                   6.0\n",
              "2803         308.0  ...                  57.0\n",
              "\n",
              "[10 rows x 14 columns]"
            ]
          },
          "metadata": {
            "tags": []
          },
          "execution_count": 193
        }
      ]
    },
    {
      "cell_type": "markdown",
      "metadata": {
        "id": "5l262_qca5Em"
      },
      "source": [
        "Accuracy для Tf-Idf после удаления NER с помощью Natasha с новыми правилами"
      ]
    },
    {
      "cell_type": "code",
      "metadata": {
        "id": "cqCuwrNga5Er"
      },
      "source": [
        "acc.loc[len(acc)] = ['tfidf_yargy_pred', len(data_test[data_test['Номер связки'] == data_test.TfIdf_Natasha_New_Pred]) / len(data_test)]"
      ],
      "execution_count": null,
      "outputs": []
    },
    {
      "cell_type": "markdown",
      "metadata": {
        "id": "9jJdHHGVa3uQ"
      },
      "source": [
        "Accuracy для BM25 после удаления NER с помощью Natasha с новыми правилами"
      ]
    },
    {
      "cell_type": "code",
      "metadata": {
        "id": "Ku8w6Fb_a3uU"
      },
      "source": [
        "acc.loc[len(acc)] = ['bm25_yargy_pred', len(data_test[data_test['Номер связки'] == data_test.BM25_Natasha_New_Pred]) / len(data_test)]"
      ],
      "execution_count": null,
      "outputs": []
    },
    {
      "cell_type": "code",
      "metadata": {
        "id": "-pk2c774GlY8",
        "colab": {
          "base_uri": "https://localhost:8080/",
          "height": 282
        },
        "outputId": "979fda7b-7450-42d8-e562-cdd5955db654"
      },
      "source": [
        "acc"
      ],
      "execution_count": null,
      "outputs": [
        {
          "output_type": "execute_result",
          "data": {
            "text/html": [
              "<div>\n",
              "<style scoped>\n",
              "    .dataframe tbody tr th:only-of-type {\n",
              "        vertical-align: middle;\n",
              "    }\n",
              "\n",
              "    .dataframe tbody tr th {\n",
              "        vertical-align: top;\n",
              "    }\n",
              "\n",
              "    .dataframe thead th {\n",
              "        text-align: right;\n",
              "    }\n",
              "</style>\n",
              "<table border=\"1\" class=\"dataframe\">\n",
              "  <thead>\n",
              "    <tr style=\"text-align: right;\">\n",
              "      <th></th>\n",
              "      <th>method</th>\n",
              "      <th>accuracy</th>\n",
              "    </tr>\n",
              "  </thead>\n",
              "  <tbody>\n",
              "    <tr>\n",
              "      <th>0</th>\n",
              "      <td>tfidf_pred</td>\n",
              "      <td>0.497849</td>\n",
              "    </tr>\n",
              "    <tr>\n",
              "      <th>1</th>\n",
              "      <td>tfidf_natasha_pred</td>\n",
              "      <td>0.490323</td>\n",
              "    </tr>\n",
              "    <tr>\n",
              "      <th>2</th>\n",
              "      <td>tfidf_dp_pred</td>\n",
              "      <td>0.474194</td>\n",
              "    </tr>\n",
              "    <tr>\n",
              "      <th>3</th>\n",
              "      <td>bm25_pred</td>\n",
              "      <td>0.540860</td>\n",
              "    </tr>\n",
              "    <tr>\n",
              "      <th>4</th>\n",
              "      <td>bm25_natasha_pred</td>\n",
              "      <td>0.536559</td>\n",
              "    </tr>\n",
              "    <tr>\n",
              "      <th>5</th>\n",
              "      <td>bm25_dp_pred</td>\n",
              "      <td>0.529032</td>\n",
              "    </tr>\n",
              "    <tr>\n",
              "      <th>6</th>\n",
              "      <td>tfidf_yargy_pred</td>\n",
              "      <td>0.491398</td>\n",
              "    </tr>\n",
              "    <tr>\n",
              "      <th>7</th>\n",
              "      <td>bm25_yargy_pred</td>\n",
              "      <td>0.536559</td>\n",
              "    </tr>\n",
              "  </tbody>\n",
              "</table>\n",
              "</div>"
            ],
            "text/plain": [
              "               method  accuracy\n",
              "0          tfidf_pred  0.497849\n",
              "1  tfidf_natasha_pred  0.490323\n",
              "2       tfidf_dp_pred  0.474194\n",
              "3           bm25_pred  0.540860\n",
              "4   bm25_natasha_pred  0.536559\n",
              "5        bm25_dp_pred  0.529032\n",
              "6    tfidf_yargy_pred  0.491398\n",
              "7     bm25_yargy_pred  0.536559"
            ]
          },
          "metadata": {
            "tags": []
          },
          "execution_count": 199
        }
      ]
    },
    {
      "cell_type": "markdown",
      "metadata": {
        "id": "opgsOPvHc915"
      },
      "source": [
        "Показатели немного улучшились в случае с tfidf (по сравнению с обычной Наташей), но остались прежними в случае с bm25"
      ]
    },
    {
      "cell_type": "code",
      "metadata": {
        "id": "Ht4cdyWWd_7o",
        "colab": {
          "base_uri": "https://localhost:8080/",
          "height": 35
        },
        "outputId": "3df23488-17c6-4744-d09c-85af35a0865f"
      },
      "source": [
        "len(data_test[data_test.BM25_Natasha_Pred != data_test.BM25_Natasha_New_Pred])"
      ],
      "execution_count": null,
      "outputs": [
        {
          "output_type": "execute_result",
          "data": {
            "text/plain": [
              "4"
            ]
          },
          "metadata": {
            "tags": []
          },
          "execution_count": 200
        }
      ]
    },
    {
      "cell_type": "code",
      "metadata": {
        "id": "uQZAJ33peO5r",
        "colab": {
          "base_uri": "https://localhost:8080/",
          "height": 35
        },
        "outputId": "e1f02388-8620-4617-e85f-31de6017d3c7"
      },
      "source": [
        "len(data_test[data_test.TfIdf_Natasha_Pred != data_test.TfIdf_Natasha_New_Pred])"
      ],
      "execution_count": null,
      "outputs": [
        {
          "output_type": "execute_result",
          "data": {
            "text/plain": [
              "3"
            ]
          },
          "metadata": {
            "tags": []
          },
          "execution_count": 201
        }
      ]
    },
    {
      "cell_type": "code",
      "metadata": {
        "id": "RQ6EWcXkG9tl"
      },
      "source": [
        ""
      ],
      "execution_count": null,
      "outputs": []
    }
  ]
}