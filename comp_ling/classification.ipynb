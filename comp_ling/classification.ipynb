{
  "nbformat": 4,
  "nbformat_minor": 0,
  "metadata": {
    "colab": {
      "name": "hw3.ipynb",
      "provenance": [],
      "authorship_tag": "ABX9TyPo1jGZb8RKjSnds/g6PXxy"
    },
    "kernelspec": {
      "name": "python3",
      "display_name": "Python 3"
    },
    "widgets": {
      "application/vnd.jupyter.widget-state+json": {
        "25a81b58ff684fc583c85b26cf19f8f3": {
          "model_module": "@jupyter-widgets/controls",
          "model_name": "HBoxModel",
          "state": {
            "_view_name": "HBoxView",
            "_dom_classes": [],
            "_model_name": "HBoxModel",
            "_view_module": "@jupyter-widgets/controls",
            "_model_module_version": "1.5.0",
            "_view_count": null,
            "_view_module_version": "1.5.0",
            "box_style": "",
            "layout": "IPY_MODEL_4134f734fe9f46fab30f94b052ca8c66",
            "_model_module": "@jupyter-widgets/controls",
            "children": [
              "IPY_MODEL_a1c82e666e244d409f426c1c043d121b",
              "IPY_MODEL_db13fdae2b2043f89cabed9caeb901bc"
            ]
          }
        },
        "4134f734fe9f46fab30f94b052ca8c66": {
          "model_module": "@jupyter-widgets/base",
          "model_name": "LayoutModel",
          "state": {
            "_view_name": "LayoutView",
            "grid_template_rows": null,
            "right": null,
            "justify_content": null,
            "_view_module": "@jupyter-widgets/base",
            "overflow": null,
            "_model_module_version": "1.2.0",
            "_view_count": null,
            "flex_flow": null,
            "width": null,
            "min_width": null,
            "border": null,
            "align_items": null,
            "bottom": null,
            "_model_module": "@jupyter-widgets/base",
            "top": null,
            "grid_column": null,
            "overflow_y": null,
            "overflow_x": null,
            "grid_auto_flow": null,
            "grid_area": null,
            "grid_template_columns": null,
            "flex": null,
            "_model_name": "LayoutModel",
            "justify_items": null,
            "grid_row": null,
            "max_height": null,
            "align_content": null,
            "visibility": null,
            "align_self": null,
            "height": null,
            "min_height": null,
            "padding": null,
            "grid_auto_rows": null,
            "grid_gap": null,
            "max_width": null,
            "order": null,
            "_view_module_version": "1.2.0",
            "grid_template_areas": null,
            "object_position": null,
            "object_fit": null,
            "grid_auto_columns": null,
            "margin": null,
            "display": null,
            "left": null
          }
        },
        "a1c82e666e244d409f426c1c043d121b": {
          "model_module": "@jupyter-widgets/controls",
          "model_name": "FloatProgressModel",
          "state": {
            "_view_name": "ProgressView",
            "style": "IPY_MODEL_b49b0b80d1bb419595f25d663b489595",
            "_dom_classes": [],
            "description": "100%",
            "_model_name": "FloatProgressModel",
            "bar_style": "success",
            "max": 25000,
            "_view_module": "@jupyter-widgets/controls",
            "_model_module_version": "1.5.0",
            "value": 25000,
            "_view_count": null,
            "_view_module_version": "1.5.0",
            "orientation": "horizontal",
            "min": 0,
            "description_tooltip": null,
            "_model_module": "@jupyter-widgets/controls",
            "layout": "IPY_MODEL_366ae670cd1847b09690bb3956d83cd6"
          }
        },
        "db13fdae2b2043f89cabed9caeb901bc": {
          "model_module": "@jupyter-widgets/controls",
          "model_name": "HTMLModel",
          "state": {
            "_view_name": "HTMLView",
            "style": "IPY_MODEL_8119015fca36444a8555821cebd40cbb",
            "_dom_classes": [],
            "description": "",
            "_model_name": "HTMLModel",
            "placeholder": "​",
            "_view_module": "@jupyter-widgets/controls",
            "_model_module_version": "1.5.0",
            "value": " 25000/25000 [01:46&lt;00:00, 234.22it/s]",
            "_view_count": null,
            "_view_module_version": "1.5.0",
            "description_tooltip": null,
            "_model_module": "@jupyter-widgets/controls",
            "layout": "IPY_MODEL_2da45556db114f56a96c37aa14d78122"
          }
        },
        "b49b0b80d1bb419595f25d663b489595": {
          "model_module": "@jupyter-widgets/controls",
          "model_name": "ProgressStyleModel",
          "state": {
            "_view_name": "StyleView",
            "_model_name": "ProgressStyleModel",
            "description_width": "initial",
            "_view_module": "@jupyter-widgets/base",
            "_model_module_version": "1.5.0",
            "_view_count": null,
            "_view_module_version": "1.2.0",
            "bar_color": null,
            "_model_module": "@jupyter-widgets/controls"
          }
        },
        "366ae670cd1847b09690bb3956d83cd6": {
          "model_module": "@jupyter-widgets/base",
          "model_name": "LayoutModel",
          "state": {
            "_view_name": "LayoutView",
            "grid_template_rows": null,
            "right": null,
            "justify_content": null,
            "_view_module": "@jupyter-widgets/base",
            "overflow": null,
            "_model_module_version": "1.2.0",
            "_view_count": null,
            "flex_flow": null,
            "width": null,
            "min_width": null,
            "border": null,
            "align_items": null,
            "bottom": null,
            "_model_module": "@jupyter-widgets/base",
            "top": null,
            "grid_column": null,
            "overflow_y": null,
            "overflow_x": null,
            "grid_auto_flow": null,
            "grid_area": null,
            "grid_template_columns": null,
            "flex": null,
            "_model_name": "LayoutModel",
            "justify_items": null,
            "grid_row": null,
            "max_height": null,
            "align_content": null,
            "visibility": null,
            "align_self": null,
            "height": null,
            "min_height": null,
            "padding": null,
            "grid_auto_rows": null,
            "grid_gap": null,
            "max_width": null,
            "order": null,
            "_view_module_version": "1.2.0",
            "grid_template_areas": null,
            "object_position": null,
            "object_fit": null,
            "grid_auto_columns": null,
            "margin": null,
            "display": null,
            "left": null
          }
        },
        "8119015fca36444a8555821cebd40cbb": {
          "model_module": "@jupyter-widgets/controls",
          "model_name": "DescriptionStyleModel",
          "state": {
            "_view_name": "StyleView",
            "_model_name": "DescriptionStyleModel",
            "description_width": "",
            "_view_module": "@jupyter-widgets/base",
            "_model_module_version": "1.5.0",
            "_view_count": null,
            "_view_module_version": "1.2.0",
            "_model_module": "@jupyter-widgets/controls"
          }
        },
        "2da45556db114f56a96c37aa14d78122": {
          "model_module": "@jupyter-widgets/base",
          "model_name": "LayoutModel",
          "state": {
            "_view_name": "LayoutView",
            "grid_template_rows": null,
            "right": null,
            "justify_content": null,
            "_view_module": "@jupyter-widgets/base",
            "overflow": null,
            "_model_module_version": "1.2.0",
            "_view_count": null,
            "flex_flow": null,
            "width": null,
            "min_width": null,
            "border": null,
            "align_items": null,
            "bottom": null,
            "_model_module": "@jupyter-widgets/base",
            "top": null,
            "grid_column": null,
            "overflow_y": null,
            "overflow_x": null,
            "grid_auto_flow": null,
            "grid_area": null,
            "grid_template_columns": null,
            "flex": null,
            "_model_name": "LayoutModel",
            "justify_items": null,
            "grid_row": null,
            "max_height": null,
            "align_content": null,
            "visibility": null,
            "align_self": null,
            "height": null,
            "min_height": null,
            "padding": null,
            "grid_auto_rows": null,
            "grid_gap": null,
            "max_width": null,
            "order": null,
            "_view_module_version": "1.2.0",
            "grid_template_areas": null,
            "object_position": null,
            "object_fit": null,
            "grid_auto_columns": null,
            "margin": null,
            "display": null,
            "left": null
          }
        },
        "4d9295ad0f264f0aadd45b81a327d29f": {
          "model_module": "@jupyter-widgets/controls",
          "model_name": "HBoxModel",
          "state": {
            "_view_name": "HBoxView",
            "_dom_classes": [],
            "_model_name": "HBoxModel",
            "_view_module": "@jupyter-widgets/controls",
            "_model_module_version": "1.5.0",
            "_view_count": null,
            "_view_module_version": "1.5.0",
            "box_style": "",
            "layout": "IPY_MODEL_0c0e9fbf29044a8191db7cf7ed70cd79",
            "_model_module": "@jupyter-widgets/controls",
            "children": [
              "IPY_MODEL_46b291fe13fb4a7fa6c15242fdb96559",
              "IPY_MODEL_14e762979f48423786b60cefc752de87"
            ]
          }
        },
        "0c0e9fbf29044a8191db7cf7ed70cd79": {
          "model_module": "@jupyter-widgets/base",
          "model_name": "LayoutModel",
          "state": {
            "_view_name": "LayoutView",
            "grid_template_rows": null,
            "right": null,
            "justify_content": null,
            "_view_module": "@jupyter-widgets/base",
            "overflow": null,
            "_model_module_version": "1.2.0",
            "_view_count": null,
            "flex_flow": null,
            "width": null,
            "min_width": null,
            "border": null,
            "align_items": null,
            "bottom": null,
            "_model_module": "@jupyter-widgets/base",
            "top": null,
            "grid_column": null,
            "overflow_y": null,
            "overflow_x": null,
            "grid_auto_flow": null,
            "grid_area": null,
            "grid_template_columns": null,
            "flex": null,
            "_model_name": "LayoutModel",
            "justify_items": null,
            "grid_row": null,
            "max_height": null,
            "align_content": null,
            "visibility": null,
            "align_self": null,
            "height": null,
            "min_height": null,
            "padding": null,
            "grid_auto_rows": null,
            "grid_gap": null,
            "max_width": null,
            "order": null,
            "_view_module_version": "1.2.0",
            "grid_template_areas": null,
            "object_position": null,
            "object_fit": null,
            "grid_auto_columns": null,
            "margin": null,
            "display": null,
            "left": null
          }
        },
        "46b291fe13fb4a7fa6c15242fdb96559": {
          "model_module": "@jupyter-widgets/controls",
          "model_name": "FloatProgressModel",
          "state": {
            "_view_name": "ProgressView",
            "style": "IPY_MODEL_94ace78ccb16499c90b7ddc4710d582f",
            "_dom_classes": [],
            "description": "100%",
            "_model_name": "FloatProgressModel",
            "bar_style": "success",
            "max": 25000,
            "_view_module": "@jupyter-widgets/controls",
            "_model_module_version": "1.5.0",
            "value": 25000,
            "_view_count": null,
            "_view_module_version": "1.5.0",
            "orientation": "horizontal",
            "min": 0,
            "description_tooltip": null,
            "_model_module": "@jupyter-widgets/controls",
            "layout": "IPY_MODEL_a42c327b2ac94c698099add3d1e2221e"
          }
        },
        "14e762979f48423786b60cefc752de87": {
          "model_module": "@jupyter-widgets/controls",
          "model_name": "HTMLModel",
          "state": {
            "_view_name": "HTMLView",
            "style": "IPY_MODEL_b26476b37a8b407ab14f90e97b3a62b3",
            "_dom_classes": [],
            "description": "",
            "_model_name": "HTMLModel",
            "placeholder": "​",
            "_view_module": "@jupyter-widgets/controls",
            "_model_module_version": "1.5.0",
            "value": " 25000/25000 [00:55&lt;00:00, 450.27it/s]",
            "_view_count": null,
            "_view_module_version": "1.5.0",
            "description_tooltip": null,
            "_model_module": "@jupyter-widgets/controls",
            "layout": "IPY_MODEL_d978cb40d3a54c8ca89d600a6a010479"
          }
        },
        "94ace78ccb16499c90b7ddc4710d582f": {
          "model_module": "@jupyter-widgets/controls",
          "model_name": "ProgressStyleModel",
          "state": {
            "_view_name": "StyleView",
            "_model_name": "ProgressStyleModel",
            "description_width": "initial",
            "_view_module": "@jupyter-widgets/base",
            "_model_module_version": "1.5.0",
            "_view_count": null,
            "_view_module_version": "1.2.0",
            "bar_color": null,
            "_model_module": "@jupyter-widgets/controls"
          }
        },
        "a42c327b2ac94c698099add3d1e2221e": {
          "model_module": "@jupyter-widgets/base",
          "model_name": "LayoutModel",
          "state": {
            "_view_name": "LayoutView",
            "grid_template_rows": null,
            "right": null,
            "justify_content": null,
            "_view_module": "@jupyter-widgets/base",
            "overflow": null,
            "_model_module_version": "1.2.0",
            "_view_count": null,
            "flex_flow": null,
            "width": null,
            "min_width": null,
            "border": null,
            "align_items": null,
            "bottom": null,
            "_model_module": "@jupyter-widgets/base",
            "top": null,
            "grid_column": null,
            "overflow_y": null,
            "overflow_x": null,
            "grid_auto_flow": null,
            "grid_area": null,
            "grid_template_columns": null,
            "flex": null,
            "_model_name": "LayoutModel",
            "justify_items": null,
            "grid_row": null,
            "max_height": null,
            "align_content": null,
            "visibility": null,
            "align_self": null,
            "height": null,
            "min_height": null,
            "padding": null,
            "grid_auto_rows": null,
            "grid_gap": null,
            "max_width": null,
            "order": null,
            "_view_module_version": "1.2.0",
            "grid_template_areas": null,
            "object_position": null,
            "object_fit": null,
            "grid_auto_columns": null,
            "margin": null,
            "display": null,
            "left": null
          }
        },
        "b26476b37a8b407ab14f90e97b3a62b3": {
          "model_module": "@jupyter-widgets/controls",
          "model_name": "DescriptionStyleModel",
          "state": {
            "_view_name": "StyleView",
            "_model_name": "DescriptionStyleModel",
            "description_width": "",
            "_view_module": "@jupyter-widgets/base",
            "_model_module_version": "1.5.0",
            "_view_count": null,
            "_view_module_version": "1.2.0",
            "_model_module": "@jupyter-widgets/controls"
          }
        },
        "d978cb40d3a54c8ca89d600a6a010479": {
          "model_module": "@jupyter-widgets/base",
          "model_name": "LayoutModel",
          "state": {
            "_view_name": "LayoutView",
            "grid_template_rows": null,
            "right": null,
            "justify_content": null,
            "_view_module": "@jupyter-widgets/base",
            "overflow": null,
            "_model_module_version": "1.2.0",
            "_view_count": null,
            "flex_flow": null,
            "width": null,
            "min_width": null,
            "border": null,
            "align_items": null,
            "bottom": null,
            "_model_module": "@jupyter-widgets/base",
            "top": null,
            "grid_column": null,
            "overflow_y": null,
            "overflow_x": null,
            "grid_auto_flow": null,
            "grid_area": null,
            "grid_template_columns": null,
            "flex": null,
            "_model_name": "LayoutModel",
            "justify_items": null,
            "grid_row": null,
            "max_height": null,
            "align_content": null,
            "visibility": null,
            "align_self": null,
            "height": null,
            "min_height": null,
            "padding": null,
            "grid_auto_rows": null,
            "grid_gap": null,
            "max_width": null,
            "order": null,
            "_view_module_version": "1.2.0",
            "grid_template_areas": null,
            "object_position": null,
            "object_fit": null,
            "grid_auto_columns": null,
            "margin": null,
            "display": null,
            "left": null
          }
        }
      }
    }
  },
  "cells": [
    {
      "cell_type": "markdown",
      "metadata": {
        "id": "niNkTyt2uTm8"
      },
      "source": [
        "В качестве домашнего задания мы предлагаем вам решить задачу бинарной классификации на большом корпусе imdb рецензий на фильмы. \n",
        "Корпус можно скачать по ссылке http://ai.stanford.edu/~amaas/data/sentiment/\n",
        "\n",
        "Ваша задача в sklearn, используя один из алгоритмов, рассмотренных на паре, построить и обучить классификатор, посчитать метрики качества, построить ROC кривую и посчитайте величину ROC AUC.  - 4 балла\n",
        "\n",
        "Используя предсказания вероятностей класса, найдите 15 самых негативных и самых позитивных рецензий по мнению модели.  - 3 балла\n",
        "\n",
        "Написать свои функции, которые бы считали tp, fp, tn, fn, и возвращали точность, полноту и ф-меру и применить их к результатам, полученным вашими классификаторами (если все сделано правильно, то результаты должны совпадать с полученными  sklearn метриками). - 3 балла\n",
        "\n",
        "Дедлайн - 11 октября 23:59"
      ]
    },
    {
      "cell_type": "code",
      "metadata": {
        "id": "QYpAhR_4uWIZ",
        "colab": {
          "base_uri": "https://localhost:8080/",
          "height": 212
        },
        "outputId": "25e689b4-dd5a-46dc-e4ab-6558be5551fa"
      },
      "source": [
        "! wget http://ai.stanford.edu/~amaas/data/sentiment/aclImdb_v1.tar.gz"
      ],
      "execution_count": null,
      "outputs": [
        {
          "output_type": "stream",
          "text": [
            "--2020-10-16 09:12:32--  http://ai.stanford.edu/~amaas/data/sentiment/aclImdb_v1.tar.gz\n",
            "Resolving ai.stanford.edu (ai.stanford.edu)... 171.64.68.10\n",
            "Connecting to ai.stanford.edu (ai.stanford.edu)|171.64.68.10|:80... connected.\n",
            "HTTP request sent, awaiting response... 200 OK\n",
            "Length: 84125825 (80M) [application/x-gzip]\n",
            "Saving to: ‘aclImdb_v1.tar.gz’\n",
            "\n",
            "aclImdb_v1.tar.gz   100%[===================>]  80.23M  24.5MB/s    in 3.8s    \n",
            "\n",
            "2020-10-16 09:12:36 (21.1 MB/s) - ‘aclImdb_v1.tar.gz’ saved [84125825/84125825]\n",
            "\n"
          ],
          "name": "stdout"
        }
      ]
    },
    {
      "cell_type": "code",
      "metadata": {
        "id": "3hKR6e_VuWMr"
      },
      "source": [
        "! tar xvzf aclImdb_v1.tar.gz"
      ],
      "execution_count": null,
      "outputs": []
    },
    {
      "cell_type": "code",
      "metadata": {
        "id": "5WK029gk4B1V",
        "colab": {
          "base_uri": "https://localhost:8080/",
          "height": 35
        },
        "outputId": "3a34ec99-c752-44fc-8ddd-fb1ecbba427c"
      },
      "source": [
        "%cd aclImdb"
      ],
      "execution_count": null,
      "outputs": [
        {
          "output_type": "stream",
          "text": [
            "/content/aclImdb\n"
          ],
          "name": "stdout"
        }
      ]
    },
    {
      "cell_type": "code",
      "metadata": {
        "id": "zlJobCadBDZ8",
        "colab": {
          "base_uri": "https://localhost:8080/",
          "height": 70
        },
        "outputId": "7bb86096-ae25-4436-95f4-f81216592166"
      },
      "source": [
        "import nltk\n",
        "\n",
        "nltk.download('wordnet')"
      ],
      "execution_count": null,
      "outputs": [
        {
          "output_type": "stream",
          "text": [
            "[nltk_data] Downloading package wordnet to /root/nltk_data...\n",
            "[nltk_data]   Unzipping corpora/wordnet.zip.\n"
          ],
          "name": "stdout"
        },
        {
          "output_type": "execute_result",
          "data": {
            "text/plain": [
              "True"
            ]
          },
          "metadata": {
            "tags": []
          },
          "execution_count": 4
        }
      ]
    },
    {
      "cell_type": "code",
      "metadata": {
        "id": "wFFR8NbkBfov",
        "colab": {
          "base_uri": "https://localhost:8080/",
          "height": 70
        },
        "outputId": "347bbc44-d433-4fdb-8940-4197a34a32a0"
      },
      "source": [
        "nltk.download('punkt')"
      ],
      "execution_count": null,
      "outputs": [
        {
          "output_type": "stream",
          "text": [
            "[nltk_data] Downloading package punkt to /root/nltk_data...\n",
            "[nltk_data]   Unzipping tokenizers/punkt.zip.\n"
          ],
          "name": "stdout"
        },
        {
          "output_type": "execute_result",
          "data": {
            "text/plain": [
              "True"
            ]
          },
          "metadata": {
            "tags": []
          },
          "execution_count": 5
        }
      ]
    },
    {
      "cell_type": "code",
      "metadata": {
        "id": "oY9dJYosr_qr",
        "colab": {
          "base_uri": "https://localhost:8080/",
          "height": 70
        },
        "outputId": "12d65aa5-81f1-41b4-815a-42d75d15efad"
      },
      "source": [
        "nltk.download('stopwords')"
      ],
      "execution_count": null,
      "outputs": [
        {
          "output_type": "stream",
          "text": [
            "[nltk_data] Downloading package stopwords to /root/nltk_data...\n",
            "[nltk_data]   Unzipping corpora/stopwords.zip.\n"
          ],
          "name": "stdout"
        },
        {
          "output_type": "execute_result",
          "data": {
            "text/plain": [
              "True"
            ]
          },
          "metadata": {
            "tags": []
          },
          "execution_count": 7
        }
      ]
    },
    {
      "cell_type": "code",
      "metadata": {
        "id": "YWAFnuZYuWQB"
      },
      "source": [
        "import re\n",
        "import os\n",
        "\n",
        "import pandas as pd\n",
        "import numpy as np\n",
        "import matplotlib.pyplot as plt\n",
        "\n",
        "from nltk.corpus import stopwords\n",
        "from nltk.stem import WordNetLemmatizer\n",
        "from tqdm import tqdm\n",
        "from string import punctuation\n",
        "\n",
        "from sklearn.feature_extraction.text import TfidfVectorizer\n",
        "from sklearn.linear_model import LogisticRegression\n",
        "from sklearn.metrics import *"
      ],
      "execution_count": null,
      "outputs": []
    },
    {
      "cell_type": "code",
      "metadata": {
        "id": "sLnavl3P4mdT"
      },
      "source": [
        "train = pd.DataFrame(columns=['text', 'rate'])"
      ],
      "execution_count": null,
      "outputs": []
    },
    {
      "cell_type": "code",
      "metadata": {
        "id": "rD1X90yJ36JO"
      },
      "source": [
        "for file in os.listdir('train/neg'):\n",
        "    f = open('train/neg' + os.sep + file, 'r')\n",
        "    train.loc[len(train)] = [f.read(), 0]\n",
        "    f.close()"
      ],
      "execution_count": null,
      "outputs": []
    },
    {
      "cell_type": "code",
      "metadata": {
        "id": "WBKtIVly54sj"
      },
      "source": [
        "for file in os.listdir('train/pos'):\n",
        "    f = open('train/pos' + os.sep + file, 'r')\n",
        "    train.loc[len(train)] = [f.read(), 1]\n",
        "    f.close()"
      ],
      "execution_count": null,
      "outputs": []
    },
    {
      "cell_type": "code",
      "metadata": {
        "id": "FXWh7zKH5ZzQ",
        "colab": {
          "base_uri": "https://localhost:8080/",
          "height": 194
        },
        "outputId": "9b4da190-e38b-4aab-ce39-b370b8ba5978"
      },
      "source": [
        "train.head()"
      ],
      "execution_count": null,
      "outputs": [
        {
          "output_type": "execute_result",
          "data": {
            "text/html": [
              "<div>\n",
              "<style scoped>\n",
              "    .dataframe tbody tr th:only-of-type {\n",
              "        vertical-align: middle;\n",
              "    }\n",
              "\n",
              "    .dataframe tbody tr th {\n",
              "        vertical-align: top;\n",
              "    }\n",
              "\n",
              "    .dataframe thead th {\n",
              "        text-align: right;\n",
              "    }\n",
              "</style>\n",
              "<table border=\"1\" class=\"dataframe\">\n",
              "  <thead>\n",
              "    <tr style=\"text-align: right;\">\n",
              "      <th></th>\n",
              "      <th>text</th>\n",
              "      <th>rate</th>\n",
              "    </tr>\n",
              "  </thead>\n",
              "  <tbody>\n",
              "    <tr>\n",
              "      <th>0</th>\n",
              "      <td>Overall an extremely disappointing picture. Ve...</td>\n",
              "      <td>0</td>\n",
              "    </tr>\n",
              "    <tr>\n",
              "      <th>1</th>\n",
              "      <td>I saw this movie way back when it premiered.&lt;b...</td>\n",
              "      <td>0</td>\n",
              "    </tr>\n",
              "    <tr>\n",
              "      <th>2</th>\n",
              "      <td>The Fluffer may have strong elements of porn i...</td>\n",
              "      <td>0</td>\n",
              "    </tr>\n",
              "    <tr>\n",
              "      <th>3</th>\n",
              "      <td>this is without a doubt the worst most idiotic...</td>\n",
              "      <td>0</td>\n",
              "    </tr>\n",
              "    <tr>\n",
              "      <th>4</th>\n",
              "      <td>Once big action star who fell off the face of ...</td>\n",
              "      <td>0</td>\n",
              "    </tr>\n",
              "  </tbody>\n",
              "</table>\n",
              "</div>"
            ],
            "text/plain": [
              "                                                text rate\n",
              "0  Overall an extremely disappointing picture. Ve...    0\n",
              "1  I saw this movie way back when it premiered.<b...    0\n",
              "2  The Fluffer may have strong elements of porn i...    0\n",
              "3  this is without a doubt the worst most idiotic...    0\n",
              "4  Once big action star who fell off the face of ...    0"
            ]
          },
          "metadata": {
            "tags": []
          },
          "execution_count": 11
        }
      ]
    },
    {
      "cell_type": "code",
      "metadata": {
        "id": "pfqwMKCA6A7C"
      },
      "source": [
        "test = pd.DataFrame(columns=['text', 'rate'])"
      ],
      "execution_count": null,
      "outputs": []
    },
    {
      "cell_type": "code",
      "metadata": {
        "id": "PraqfC6S6A7V"
      },
      "source": [
        "for file in os.listdir('test/neg'):\n",
        "    f = open('test/neg' + os.sep + file, 'r')\n",
        "    test.loc[len(test)] = [f.read(), 0]\n",
        "    f.close()"
      ],
      "execution_count": null,
      "outputs": []
    },
    {
      "cell_type": "code",
      "metadata": {
        "id": "PsW6nk8a6A7k"
      },
      "source": [
        "for file in os.listdir('test/pos'):\n",
        "    f = open('test/pos' + os.sep + file, 'r')\n",
        "    test.loc[len(test)] = [f.read(), 1]\n",
        "    f.close()"
      ],
      "execution_count": null,
      "outputs": []
    },
    {
      "cell_type": "code",
      "metadata": {
        "id": "V_1aXgKc6A78",
        "colab": {
          "base_uri": "https://localhost:8080/",
          "height": 194
        },
        "outputId": "b034ff3e-faaf-485c-d1be-907b71aee552"
      },
      "source": [
        "test.head()"
      ],
      "execution_count": null,
      "outputs": [
        {
          "output_type": "execute_result",
          "data": {
            "text/html": [
              "<div>\n",
              "<style scoped>\n",
              "    .dataframe tbody tr th:only-of-type {\n",
              "        vertical-align: middle;\n",
              "    }\n",
              "\n",
              "    .dataframe tbody tr th {\n",
              "        vertical-align: top;\n",
              "    }\n",
              "\n",
              "    .dataframe thead th {\n",
              "        text-align: right;\n",
              "    }\n",
              "</style>\n",
              "<table border=\"1\" class=\"dataframe\">\n",
              "  <thead>\n",
              "    <tr style=\"text-align: right;\">\n",
              "      <th></th>\n",
              "      <th>text</th>\n",
              "      <th>rate</th>\n",
              "    </tr>\n",
              "  </thead>\n",
              "  <tbody>\n",
              "    <tr>\n",
              "      <th>0</th>\n",
              "      <td>This movie was *good* relatively during the fi...</td>\n",
              "      <td>0</td>\n",
              "    </tr>\n",
              "    <tr>\n",
              "      <th>1</th>\n",
              "      <td>Spheeris used this documentary to push a stere...</td>\n",
              "      <td>0</td>\n",
              "    </tr>\n",
              "    <tr>\n",
              "      <th>2</th>\n",
              "      <td>** Black Dragons (1942) William Nigh ~ Bela Lu...</td>\n",
              "      <td>0</td>\n",
              "    </tr>\n",
              "    <tr>\n",
              "      <th>3</th>\n",
              "      <td>I was expecting \"Born to Kill\" to be an exciti...</td>\n",
              "      <td>0</td>\n",
              "    </tr>\n",
              "    <tr>\n",
              "      <th>4</th>\n",
              "      <td>By far this is the worst Halloween movie ever ...</td>\n",
              "      <td>0</td>\n",
              "    </tr>\n",
              "  </tbody>\n",
              "</table>\n",
              "</div>"
            ],
            "text/plain": [
              "                                                text rate\n",
              "0  This movie was *good* relatively during the fi...    0\n",
              "1  Spheeris used this documentary to push a stere...    0\n",
              "2  ** Black Dragons (1942) William Nigh ~ Bela Lu...    0\n",
              "3  I was expecting \"Born to Kill\" to be an exciti...    0\n",
              "4  By far this is the worst Halloween movie ever ...    0"
            ]
          },
          "metadata": {
            "tags": []
          },
          "execution_count": 15
        }
      ]
    },
    {
      "cell_type": "code",
      "metadata": {
        "id": "M2uTii6q5iOK",
        "colab": {
          "base_uri": "https://localhost:8080/",
          "height": 35
        },
        "outputId": "d1b0c73d-673f-4c10-df6e-42248b756341"
      },
      "source": [
        "len(train), len(test)"
      ],
      "execution_count": null,
      "outputs": [
        {
          "output_type": "execute_result",
          "data": {
            "text/plain": [
              "(25000, 25000)"
            ]
          },
          "metadata": {
            "tags": []
          },
          "execution_count": 16
        }
      ]
    },
    {
      "cell_type": "code",
      "metadata": {
        "id": "CrrRzTFI6gWG"
      },
      "source": [
        "english_stopwords = stopwords.words(\"english\")\n",
        "lemmatizer = WordNetLemmatizer()\n",
        "\n",
        "def lemmatize_text_eng(text):\n",
        "    reg = re.compile('[^a-zA-Z ]')\n",
        "    text = reg.sub('', text.lower().strip())\n",
        "    word_list = nltk.word_tokenize(text)\n",
        "    lemmatized_output = ' '.join([lemmatizer.lemmatize(w) for w in word_list])\n",
        "\n",
        "    return lemmatized_output"
      ],
      "execution_count": null,
      "outputs": []
    },
    {
      "cell_type": "code",
      "metadata": {
        "id": "tiC6Ho48CCBz",
        "colab": {
          "base_uri": "https://localhost:8080/",
          "height": 107
        },
        "outputId": "6d1b0f88-2e4a-4a96-c95d-4dad942e9d34"
      },
      "source": [
        "train.text[0]"
      ],
      "execution_count": null,
      "outputs": [
        {
          "output_type": "execute_result",
          "data": {
            "application/vnd.google.colaboratory.intrinsic+json": {
              "type": "string"
            },
            "text/plain": [
              "\"Overall an extremely disappointing picture. Very, very slow build up to the basic storyline. The role of Maria Schrader searching for her families secret past. (Every take seems to last forever\\x85. There is really no rhythm in the film.) ***SPOILERS*** Her Mother Ruth is rescued from the Nazis, by a German woman, played by Katja Riemann. The entire character of Ruth is so one dimensional, so stereotypical. ***SPOILERS END*** The film cuts back and forth between present day New York and Berlin and Berlin 40s something. Please when you do that, give the audience an indication of what time exactly the story takes place. There is never a clear indication of time \\x96 very annoying. Worst part is, the end. ***SPOILERS*** The entire show and jabber about the Jews being so terribly tormented, simply by a bureaucratic accident! Give me a break. That's how the Jews got out of the Rosenstrasse? The question of who freed the Jews is NEVER answered. Was is Goebels who freed them? Did Lean Fischer sleep with Goebels? In Venice the film won an acting award for K. Riemann, why? \\x96 I have no idea. Must be the Jewish theme\\x85\""
            ]
          },
          "metadata": {
            "tags": []
          },
          "execution_count": 18
        }
      ]
    },
    {
      "cell_type": "code",
      "metadata": {
        "id": "zBKR_LPGBbF7",
        "colab": {
          "base_uri": "https://localhost:8080/",
          "height": 107
        },
        "outputId": "99118913-2c19-41ff-9b8f-275f374e53cc"
      },
      "source": [
        "lemmatize_text_eng(train.text[0])"
      ],
      "execution_count": null,
      "outputs": [
        {
          "output_type": "execute_result",
          "data": {
            "application/vnd.google.colaboratory.intrinsic+json": {
              "type": "string"
            },
            "text/plain": [
              "'overall an extremely disappointing picture very very slow build up to the basic storyline the role of maria schrader searching for her family secret past every take seems to last forever there is really no rhythm in the film spoiler her mother ruth is rescued from the nazi by a german woman played by katja riemann the entire character of ruth is so one dimensional so stereotypical spoiler end the film cut back and forth between present day new york and berlin and berlin s something please when you do that give the audience an indication of what time exactly the story take place there is never a clear indication of time very annoying worst part is the end spoiler the entire show and jabber about the jew being so terribly tormented simply by a bureaucratic accident give me a break thats how the jew got out of the rosenstrasse the question of who freed the jew is never answered wa is goebels who freed them did lean fischer sleep with goebels in venice the film won an acting award for k riemann why i have no idea must be the jewish theme'"
            ]
          },
          "metadata": {
            "tags": []
          },
          "execution_count": 19
        }
      ]
    },
    {
      "cell_type": "code",
      "metadata": {
        "id": "9R1HUdy09Skb"
      },
      "source": [
        "from tqdm.auto import tqdm\n",
        "\n",
        "tqdm.pandas()"
      ],
      "execution_count": null,
      "outputs": []
    },
    {
      "cell_type": "code",
      "metadata": {
        "id": "S8-SW6nB9KlK",
        "colab": {
          "base_uri": "https://localhost:8080/",
          "height": 67,
          "referenced_widgets": [
            "25a81b58ff684fc583c85b26cf19f8f3",
            "4134f734fe9f46fab30f94b052ca8c66",
            "a1c82e666e244d409f426c1c043d121b",
            "db13fdae2b2043f89cabed9caeb901bc",
            "b49b0b80d1bb419595f25d663b489595",
            "366ae670cd1847b09690bb3956d83cd6",
            "8119015fca36444a8555821cebd40cbb",
            "2da45556db114f56a96c37aa14d78122"
          ]
        },
        "outputId": "a6c0800e-0969-465f-ab7b-409f2fa7f692"
      },
      "source": [
        "train['clean'] = train['text'].progress_apply(lambda x: lemmatize_text_eng(x))"
      ],
      "execution_count": null,
      "outputs": [
        {
          "output_type": "display_data",
          "data": {
            "application/vnd.jupyter.widget-view+json": {
              "model_id": "25a81b58ff684fc583c85b26cf19f8f3",
              "version_minor": 0,
              "version_major": 2
            },
            "text/plain": [
              "HBox(children=(FloatProgress(value=0.0, max=25000.0), HTML(value='')))"
            ]
          },
          "metadata": {
            "tags": []
          }
        },
        {
          "output_type": "stream",
          "text": [
            "\n"
          ],
          "name": "stdout"
        }
      ]
    },
    {
      "cell_type": "code",
      "metadata": {
        "id": "W7GGXhpK9dFt",
        "colab": {
          "base_uri": "https://localhost:8080/",
          "height": 67,
          "referenced_widgets": [
            "4d9295ad0f264f0aadd45b81a327d29f",
            "0c0e9fbf29044a8191db7cf7ed70cd79",
            "46b291fe13fb4a7fa6c15242fdb96559",
            "14e762979f48423786b60cefc752de87",
            "94ace78ccb16499c90b7ddc4710d582f",
            "a42c327b2ac94c698099add3d1e2221e",
            "b26476b37a8b407ab14f90e97b3a62b3",
            "d978cb40d3a54c8ca89d600a6a010479"
          ]
        },
        "outputId": "3c3736bc-5544-4e44-fc87-9efc38bb68a5"
      },
      "source": [
        "test['clean'] = test['text'].progress_apply(lambda x: lemmatize_text_eng(x))"
      ],
      "execution_count": null,
      "outputs": [
        {
          "output_type": "display_data",
          "data": {
            "application/vnd.jupyter.widget-view+json": {
              "model_id": "4d9295ad0f264f0aadd45b81a327d29f",
              "version_minor": 0,
              "version_major": 2
            },
            "text/plain": [
              "HBox(children=(FloatProgress(value=0.0, max=25000.0), HTML(value='')))"
            ]
          },
          "metadata": {
            "tags": []
          }
        },
        {
          "output_type": "stream",
          "text": [
            "\n"
          ],
          "name": "stdout"
        }
      ]
    },
    {
      "cell_type": "code",
      "metadata": {
        "id": "aeZ7spgs8jUM"
      },
      "source": [
        "vectorizer = TfidfVectorizer(stop_words=english_stopwords,\n",
        "                             max_features=40000)\n",
        "\n",
        "X_tfidf = vectorizer.fit_transform(train.clean)"
      ],
      "execution_count": null,
      "outputs": []
    },
    {
      "cell_type": "code",
      "metadata": {
        "id": "Olz0FspZ9zsR"
      },
      "source": [
        "X_test = vectorizer.transform(test.clean)"
      ],
      "execution_count": null,
      "outputs": []
    },
    {
      "cell_type": "code",
      "metadata": {
        "id": "x_upu4BPDFFS"
      },
      "source": [
        "clf = LogisticRegression().fit(X_tfidf, train['rate'].astype('int'))\n",
        "y_pred = clf.predict(X_test)"
      ],
      "execution_count": null,
      "outputs": []
    },
    {
      "cell_type": "code",
      "metadata": {
        "id": "P5goGWJfHxSl"
      },
      "source": [
        "y_true = test['rate'].astype('int')"
      ],
      "execution_count": null,
      "outputs": []
    },
    {
      "cell_type": "code",
      "metadata": {
        "id": "m3ATjNcvD12E",
        "colab": {
          "base_uri": "https://localhost:8080/",
          "height": 52
        },
        "outputId": "233c7ebf-127e-4610-a690-3e85d94e9c80"
      },
      "source": [
        "acc = accuracy_score(y_true, y_pred)\n",
        "f1 = f1_score(y_true, y_pred)\n",
        "precision = precision_score(y_true, y_pred)\n",
        "recall = recall_score(y_true, y_pred)\n",
        "print('acc={0:1.4f}'.format(acc))\n",
        "print('F1={0:1.4f}, P={1:1.4f}, R={2:1.4f}'.format(f1, precision, recall))"
      ],
      "execution_count": null,
      "outputs": [
        {
          "output_type": "stream",
          "text": [
            "acc=0.8798\n",
            "F1=0.8797, P=0.8804, R=0.8789\n"
          ],
          "name": "stdout"
        }
      ]
    },
    {
      "cell_type": "code",
      "metadata": {
        "id": "N5aghCkEGGU5",
        "colab": {
          "base_uri": "https://localhost:8080/",
          "height": 283
        },
        "outputId": "db69ef3b-c485-4799-c53b-3ac2af96ced2"
      },
      "source": [
        "fpr, tpr, thrhld = roc_curve(y_true, y_pred)\n",
        "plt.plot(fpr, tpr, marker='.', label='Test')"
      ],
      "execution_count": null,
      "outputs": [
        {
          "output_type": "execute_result",
          "data": {
            "text/plain": [
              "[<matplotlib.lines.Line2D at 0x7fa57e2844a8>]"
            ]
          },
          "metadata": {
            "tags": []
          },
          "execution_count": 31
        },
        {
          "output_type": "display_data",
          "data": {
            "image/png": "[encoded data removed]",
            "text/plain": [
              "<Figure size 432x288 with 1 Axes>"
            ]
          },
          "metadata": {
            "tags": [],
            "needs_background": "light"
          }
        }
      ]
    },
    {
      "cell_type": "code",
      "metadata": {
        "id": "SuwteDCvHfba",
        "colab": {
          "base_uri": "https://localhost:8080/",
          "height": 35
        },
        "outputId": "7b8364de-0e92-4b23-c863-0731d16ebc11"
      },
      "source": [
        "print(roc_auc_score(y_true, y_pred))"
      ],
      "execution_count": null,
      "outputs": [
        {
          "output_type": "stream",
          "text": [
            "0.8797600000000001\n"
          ],
          "name": "stdout"
        }
      ]
    },
    {
      "cell_type": "code",
      "metadata": {
        "id": "RyHCSKemIMbe"
      },
      "source": [
        "probs = clf.predict_proba(X_test)"
      ],
      "execution_count": null,
      "outputs": []
    },
    {
      "cell_type": "code",
      "metadata": {
        "id": "oc3gFbVAIQ3i",
        "colab": {
          "base_uri": "https://localhost:8080/",
          "height": 35
        },
        "outputId": "e9f185db-0a80-466d-f8c8-b52f64e602fe"
      },
      "source": [
        "clf.classes_"
      ],
      "execution_count": null,
      "outputs": [
        {
          "output_type": "execute_result",
          "data": {
            "text/plain": [
              "array([0, 1])"
            ]
          },
          "metadata": {
            "tags": []
          },
          "execution_count": 34
        }
      ]
    },
    {
      "cell_type": "code",
      "metadata": {
        "id": "pqogEFomJeXB"
      },
      "source": [
        "test['prob_neg'] = probs[:,0]"
      ],
      "execution_count": null,
      "outputs": []
    },
    {
      "cell_type": "code",
      "metadata": {
        "id": "BF_qyRPkJrOD"
      },
      "source": [
        "test['prob_pos'] = probs[:,1]"
      ],
      "execution_count": null,
      "outputs": []
    },
    {
      "cell_type": "code",
      "metadata": {
        "id": "Dm5dof4tJtGl",
        "colab": {
          "base_uri": "https://localhost:8080/",
          "height": 194
        },
        "outputId": "6de3c8fa-3d30-49a4-ddc4-b3051e0dd6ce"
      },
      "source": [
        "test.head()"
      ],
      "execution_count": null,
      "outputs": [
        {
          "output_type": "execute_result",
          "data": {
            "text/html": [
              "<div>\n",
              "<style scoped>\n",
              "    .dataframe tbody tr th:only-of-type {\n",
              "        vertical-align: middle;\n",
              "    }\n",
              "\n",
              "    .dataframe tbody tr th {\n",
              "        vertical-align: top;\n",
              "    }\n",
              "\n",
              "    .dataframe thead th {\n",
              "        text-align: right;\n",
              "    }\n",
              "</style>\n",
              "<table border=\"1\" class=\"dataframe\">\n",
              "  <thead>\n",
              "    <tr style=\"text-align: right;\">\n",
              "      <th></th>\n",
              "      <th>text</th>\n",
              "      <th>rate</th>\n",
              "      <th>clean</th>\n",
              "      <th>prob_neg</th>\n",
              "      <th>prob_pos</th>\n",
              "    </tr>\n",
              "  </thead>\n",
              "  <tbody>\n",
              "    <tr>\n",
              "      <th>0</th>\n",
              "      <td>This movie was *good* relatively during the fi...</td>\n",
              "      <td>0</td>\n",
              "      <td>this movie wa good relatively during the first...</td>\n",
              "      <td>0.985498</td>\n",
              "      <td>0.014502</td>\n",
              "    </tr>\n",
              "    <tr>\n",
              "      <th>1</th>\n",
              "      <td>Spheeris used this documentary to push a stere...</td>\n",
              "      <td>0</td>\n",
              "      <td>spheeris used this documentary to push a stere...</td>\n",
              "      <td>0.642608</td>\n",
              "      <td>0.357392</td>\n",
              "    </tr>\n",
              "    <tr>\n",
              "      <th>2</th>\n",
              "      <td>** Black Dragons (1942) William Nigh ~ Bela Lu...</td>\n",
              "      <td>0</td>\n",
              "      <td>black dragon william nigh bela lugosi joan bar...</td>\n",
              "      <td>0.626204</td>\n",
              "      <td>0.373796</td>\n",
              "    </tr>\n",
              "    <tr>\n",
              "      <th>3</th>\n",
              "      <td>I was expecting \"Born to Kill\" to be an exciti...</td>\n",
              "      <td>0</td>\n",
              "      <td>i wa expecting born to kill to be an exciting ...</td>\n",
              "      <td>0.802252</td>\n",
              "      <td>0.197748</td>\n",
              "    </tr>\n",
              "    <tr>\n",
              "      <th>4</th>\n",
              "      <td>By far this is the worst Halloween movie ever ...</td>\n",
              "      <td>0</td>\n",
              "      <td>by far this is the worst halloween movie ever ...</td>\n",
              "      <td>0.954794</td>\n",
              "      <td>0.045206</td>\n",
              "    </tr>\n",
              "  </tbody>\n",
              "</table>\n",
              "</div>"
            ],
            "text/plain": [
              "                                                text rate  ...  prob_neg  prob_pos\n",
              "0  This movie was *good* relatively during the fi...    0  ...  0.985498  0.014502\n",
              "1  Spheeris used this documentary to push a stere...    0  ...  0.642608  0.357392\n",
              "2  ** Black Dragons (1942) William Nigh ~ Bela Lu...    0  ...  0.626204  0.373796\n",
              "3  I was expecting \"Born to Kill\" to be an exciti...    0  ...  0.802252  0.197748\n",
              "4  By far this is the worst Halloween movie ever ...    0  ...  0.954794  0.045206\n",
              "\n",
              "[5 rows x 5 columns]"
            ]
          },
          "metadata": {
            "tags": []
          },
          "execution_count": 37
        }
      ]
    },
    {
      "cell_type": "code",
      "metadata": {
        "id": "cRrUt1oGI2a-",
        "colab": {
          "base_uri": "https://localhost:8080/",
          "height": 301
        },
        "outputId": "33b0ea08-1ba2-4ee3-8460-ffc90a3019d2"
      },
      "source": [
        "test.sort_values('prob_neg', ascending=False).text[:15]"
      ],
      "execution_count": null,
      "outputs": [
        {
          "output_type": "execute_result",
          "data": {
            "text/plain": [
              "9186     As you can tell from the other comments, this ...\n",
              "7491     This movie was a complete waste of time. The s...\n",
              "3806     I rented this movie today... worst movie EVER....\n",
              "4806     This was truly horrible. Bad acting, bad writi...\n",
              "8167     This movie is pathetic in every way possible. ...\n",
              "4655     This is just the same old crap that is spewed ...\n",
              "3706     This is the worst movie I have ever seen. If I...\n",
              "9464     This movie sucks. The acting is worse than in ...\n",
              "10708    No idea how this is rated as high as it is (5....\n",
              "8813     I'm in a film class and i know that i don't kn...\n",
              "12023    For years I hesitated watching this movie. Now...\n",
              "8719     One of the worst movies I've ever seen!!! Abso...\n",
              "9709     If you are planning to watch 'Partner' and are...\n",
              "9437     I bought this movie sight unseen at a sci-fi c...\n",
              "8070     This is my first comment on a movie in here. I...\n",
              "Name: text, dtype: object"
            ]
          },
          "metadata": {
            "tags": []
          },
          "execution_count": 38
        }
      ]
    },
    {
      "cell_type": "code",
      "metadata": {
        "id": "n0dMlC7xKS2d",
        "colab": {
          "base_uri": "https://localhost:8080/",
          "height": 301
        },
        "outputId": "c5a6e64b-3270-47ef-dd00-d0896e0f9cf6"
      },
      "source": [
        "test.sort_values('prob_pos', ascending=False).text[:15]"
      ],
      "execution_count": null,
      "outputs": [
        {
          "output_type": "execute_result",
          "data": {
            "text/plain": [
              "24088    I think this is one of the best tamil movies i...\n",
              "18334    What a wonderful film, filled with eccentric, ...\n",
              "15764    This particular film was one that I wanted to ...\n",
              "16244    I loved this movie - the actors were wonderful...\n",
              "16872    A beautiful, magical, thought-provoking and he...\n",
              "23667    Yes, it's not a great cinematic achievement, b...\n",
              "21900    First of all, I have watched this show since I...\n",
              "18656    I play final fantasy 7, and this movie is EXCE...\n",
              "17906    This is a really great film in the pulp fictio...\n",
              "21359    Best Years of Our Lives perfectly captures the...\n",
              "22954    Went to the premiere at the Tribeca Film Festi...\n",
              "23581    lovely. i just love the movie. i want to see t...\n",
              "21634    Crossfire is a fantastic film noir that is bot...\n",
              "24148    Wow! Fantastic film in my opinion, i wasn't ex...\n",
              "20746    What a great movie!! It's a touching story abo...\n",
              "Name: text, dtype: object"
            ]
          },
          "metadata": {
            "tags": []
          },
          "execution_count": 39
        }
      ]
    },
    {
      "cell_type": "code",
      "metadata": {
        "id": "V5-n1nR6I9Yh"
      },
      "source": [
        "def all_metrics(y_true, y_pred):\n",
        "\n",
        "    quality = pd.DataFrame({'true': y_true, 'pred': y_pred})\n",
        "\n",
        "    tp = len(quality[(quality.true == 1) & (quality.pred == 1)])\n",
        "    fp = len(quality[(quality.true == 0) & (quality.pred == 1)])\n",
        "    tn = len(quality[(quality.true == 0) & (quality.pred == 0)])\n",
        "    fn = len(quality[(quality.true == 1) & (quality.pred == 0)])\n",
        "\n",
        "    acc = (tp + tn) / (tp + tn + fp + fn)\n",
        "\n",
        "    precision = tp / (tp + fp)\n",
        "    recall = tp / (tp + fn)\n",
        "\n",
        "    f1_score = (2 * precision * recall) / (precision + recall)\n",
        "\n",
        "    return acc, precision, recall, f1_score"
      ],
      "execution_count": null,
      "outputs": []
    },
    {
      "cell_type": "code",
      "metadata": {
        "id": "Ks40XetyLxKr"
      },
      "source": [
        "my_acc, my_p, my_r, my_f = all_metrics(y_true, y_pred)"
      ],
      "execution_count": null,
      "outputs": []
    },
    {
      "cell_type": "code",
      "metadata": {
        "id": "A3j3bTkxNUIq",
        "colab": {
          "base_uri": "https://localhost:8080/",
          "height": 35
        },
        "outputId": "7f653a47-5ea5-4ea3-877f-e90efb7f7846"
      },
      "source": [
        "my_acc == acc"
      ],
      "execution_count": null,
      "outputs": [
        {
          "output_type": "execute_result",
          "data": {
            "text/plain": [
              "True"
            ]
          },
          "metadata": {
            "tags": []
          },
          "execution_count": 42
        }
      ]
    },
    {
      "cell_type": "code",
      "metadata": {
        "id": "OWQqd0qVPaXc",
        "colab": {
          "base_uri": "https://localhost:8080/",
          "height": 35
        },
        "outputId": "dc974814-a647-41d1-a069-dbc9fe5c6854"
      },
      "source": [
        "my_p == precision"
      ],
      "execution_count": null,
      "outputs": [
        {
          "output_type": "execute_result",
          "data": {
            "text/plain": [
              "True"
            ]
          },
          "metadata": {
            "tags": []
          },
          "execution_count": 43
        }
      ]
    },
    {
      "cell_type": "code",
      "metadata": {
        "id": "au-W5JTbPcp2",
        "colab": {
          "base_uri": "https://localhost:8080/",
          "height": 35
        },
        "outputId": "946431e2-9152-4d17-b367-bf10dfa25ec0"
      },
      "source": [
        "my_r == recall"
      ],
      "execution_count": null,
      "outputs": [
        {
          "output_type": "execute_result",
          "data": {
            "text/plain": [
              "True"
            ]
          },
          "metadata": {
            "tags": []
          },
          "execution_count": 44
        }
      ]
    },
    {
      "cell_type": "code",
      "metadata": {
        "id": "A2XUwt4nPenX",
        "colab": {
          "base_uri": "https://localhost:8080/",
          "height": 35
        },
        "outputId": "e2b63ece-6310-49e9-d131-90799e744a41"
      },
      "source": [
        "my_f == f1"
      ],
      "execution_count": null,
      "outputs": [
        {
          "output_type": "execute_result",
          "data": {
            "text/plain": [
              "True"
            ]
          },
          "metadata": {
            "tags": []
          },
          "execution_count": 45
        }
      ]
    },
    {
      "cell_type": "code",
      "metadata": {
        "id": "tEeByyz9PgYm"
      },
      "source": [
        ""
      ],
      "execution_count": null,
      "outputs": []
    }
  ]
}